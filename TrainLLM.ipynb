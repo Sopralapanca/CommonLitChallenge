{
  "nbformat": 4,
  "nbformat_minor": 0,
  "metadata": {
    "colab": {
      "provenance": [],
      "gpuType": "T4",
      "authorship_tag": "ABX9TyO/CeqZZUN5oQidGC/nt0Me",
      "include_colab_link": true
    },
    "kernelspec": {
      "name": "python3",
      "display_name": "Python 3"
    },
    "language_info": {
      "name": "python"
    },
    "accelerator": "GPU"
  },
  "cells": [
    {
      "cell_type": "markdown",
      "metadata": {
        "id": "view-in-github",
        "colab_type": "text"
      },
      "source": [
        "<a href=\"https://colab.research.google.com/github/Sopralapanca/CommonLitChallenge/blob/main/TrainLLM.ipynb\" target=\"_parent\"><img src=\"https://colab.research.google.com/assets/colab-badge.svg\" alt=\"Open In Colab\"/></a>"
      ]
    },
    {
      "cell_type": "code",
      "execution_count": 15,
      "metadata": {
        "colab": {
          "base_uri": "https://localhost:8080/"
        },
        "id": "3m2MD5SjoGDC",
        "outputId": "665877bf-8dad-4017-9e51-c6f137990187"
      },
      "outputs": [
        {
          "output_type": "stream",
          "name": "stdout",
          "text": [
            "fatal: destination path 'CommonLitChallenge' already exists and is not an empty directory.\n"
          ]
        }
      ],
      "source": [
        "!git clone \"https://github.com/Sopralapanca/CommonLitChallenge.git\""
      ]
    },
    {
      "cell_type": "code",
      "source": [
        "!pip install transformers accelerate"
      ],
      "metadata": {
        "colab": {
          "base_uri": "https://localhost:8080/"
        },
        "id": "syO4hPtpziSR",
        "outputId": "0a49735a-7dc1-4d1d-aad2-08472206b0ab"
      },
      "execution_count": 16,
      "outputs": [
        {
          "output_type": "stream",
          "name": "stdout",
          "text": [
            "Requirement already satisfied: transformers in /usr/local/lib/python3.10/dist-packages (4.33.1)\n",
            "Requirement already satisfied: accelerate in /usr/local/lib/python3.10/dist-packages (0.23.0)\n",
            "Requirement already satisfied: filelock in /usr/local/lib/python3.10/dist-packages (from transformers) (3.12.2)\n",
            "Requirement already satisfied: huggingface-hub<1.0,>=0.15.1 in /usr/local/lib/python3.10/dist-packages (from transformers) (0.17.1)\n",
            "Requirement already satisfied: numpy>=1.17 in /usr/local/lib/python3.10/dist-packages (from transformers) (1.23.5)\n",
            "Requirement already satisfied: packaging>=20.0 in /usr/local/lib/python3.10/dist-packages (from transformers) (23.1)\n",
            "Requirement already satisfied: pyyaml>=5.1 in /usr/local/lib/python3.10/dist-packages (from transformers) (6.0.1)\n",
            "Requirement already satisfied: regex!=2019.12.17 in /usr/local/lib/python3.10/dist-packages (from transformers) (2023.6.3)\n",
            "Requirement already satisfied: requests in /usr/local/lib/python3.10/dist-packages (from transformers) (2.31.0)\n",
            "Requirement already satisfied: tokenizers!=0.11.3,<0.14,>=0.11.1 in /usr/local/lib/python3.10/dist-packages (from transformers) (0.13.3)\n",
            "Requirement already satisfied: safetensors>=0.3.1 in /usr/local/lib/python3.10/dist-packages (from transformers) (0.3.3)\n",
            "Requirement already satisfied: tqdm>=4.27 in /usr/local/lib/python3.10/dist-packages (from transformers) (4.66.1)\n",
            "Requirement already satisfied: psutil in /usr/local/lib/python3.10/dist-packages (from accelerate) (5.9.5)\n",
            "Requirement already satisfied: torch>=1.10.0 in /usr/local/lib/python3.10/dist-packages (from accelerate) (2.0.1+cu118)\n",
            "Requirement already satisfied: fsspec in /usr/local/lib/python3.10/dist-packages (from huggingface-hub<1.0,>=0.15.1->transformers) (2023.6.0)\n",
            "Requirement already satisfied: typing-extensions>=3.7.4.3 in /usr/local/lib/python3.10/dist-packages (from huggingface-hub<1.0,>=0.15.1->transformers) (4.5.0)\n",
            "Requirement already satisfied: sympy in /usr/local/lib/python3.10/dist-packages (from torch>=1.10.0->accelerate) (1.12)\n",
            "Requirement already satisfied: networkx in /usr/local/lib/python3.10/dist-packages (from torch>=1.10.0->accelerate) (3.1)\n",
            "Requirement already satisfied: jinja2 in /usr/local/lib/python3.10/dist-packages (from torch>=1.10.0->accelerate) (3.1.2)\n",
            "Requirement already satisfied: triton==2.0.0 in /usr/local/lib/python3.10/dist-packages (from torch>=1.10.0->accelerate) (2.0.0)\n",
            "Requirement already satisfied: cmake in /usr/local/lib/python3.10/dist-packages (from triton==2.0.0->torch>=1.10.0->accelerate) (3.27.4.1)\n",
            "Requirement already satisfied: lit in /usr/local/lib/python3.10/dist-packages (from triton==2.0.0->torch>=1.10.0->accelerate) (16.0.6)\n",
            "Requirement already satisfied: charset-normalizer<4,>=2 in /usr/local/lib/python3.10/dist-packages (from requests->transformers) (3.2.0)\n",
            "Requirement already satisfied: idna<4,>=2.5 in /usr/local/lib/python3.10/dist-packages (from requests->transformers) (3.4)\n",
            "Requirement already satisfied: urllib3<3,>=1.21.1 in /usr/local/lib/python3.10/dist-packages (from requests->transformers) (2.0.4)\n",
            "Requirement already satisfied: certifi>=2017.4.17 in /usr/local/lib/python3.10/dist-packages (from requests->transformers) (2023.7.22)\n",
            "Requirement already satisfied: MarkupSafe>=2.0 in /usr/local/lib/python3.10/dist-packages (from jinja2->torch>=1.10.0->accelerate) (2.1.3)\n",
            "Requirement already satisfied: mpmath>=0.19 in /usr/local/lib/python3.10/dist-packages (from sympy->torch>=1.10.0->accelerate) (1.3.0)\n"
          ]
        }
      ]
    },
    {
      "cell_type": "code",
      "source": [
        "import pandas as pd\n",
        "import gc\n",
        "\n",
        "train_path = \"/content/CommonLitChallenge/data/dataset.zip\"\n",
        "\n",
        "train_data = pd.read_csv(train_path, compression='zip', sep=',', index_col=0)"
      ],
      "metadata": {
        "id": "7gT20bSSocul"
      },
      "execution_count": 17,
      "outputs": []
    },
    {
      "cell_type": "code",
      "source": [
        "train_data.info()"
      ],
      "metadata": {
        "colab": {
          "base_uri": "https://localhost:8080/"
        },
        "id": "f-pn-xjEaYNY",
        "outputId": "ead33241-31dc-45ea-e0e1-b2585ce657e7"
      },
      "execution_count": 18,
      "outputs": [
        {
          "output_type": "stream",
          "name": "stdout",
          "text": [
            "<class 'pandas.core.frame.DataFrame'>\n",
            "Index: 7165 entries, 3b9047 to 814d6b\n",
            "Data columns (total 34 columns):\n",
            " #   Column                                   Non-Null Count  Dtype  \n",
            "---  ------                                   --------------  -----  \n",
            " 0   text                                     7165 non-null   object \n",
            " 1   content                                  7165 non-null   float64\n",
            " 2   wording                                  7165 non-null   float64\n",
            " 3   fixed_summary_text                       7165 non-null   object \n",
            " 4   corrected_text                           7165 non-null   object \n",
            " 5   corrected_text_preprocessed              7165 non-null   object \n",
            " 6   text_pre_withstop                        7165 non-null   object \n",
            " 7   corrected_text_pre_withstop              7165 non-null   object \n",
            " 8   text_pos                                 7165 non-null   object \n",
            " 9   summary_entities                         7165 non-null   object \n",
            " 10  prompt_question                          7165 non-null   object \n",
            " 11  prompt_title                             7165 non-null   object \n",
            " 12  prompt_text                              7165 non-null   object \n",
            " 13  prompt_text_preprocessed                 7165 non-null   object \n",
            " 14  prompt_pos                               7165 non-null   object \n",
            " 15  prompt_entities                          7165 non-null   object \n",
            " 16  prompt_text_word_counter                 7165 non-null   int64  \n",
            " 17  word_counter_ratio                       7165 non-null   float64\n",
            " 18  matching_entities                        7165 non-null   int64  \n",
            " 19  semantic_similarity                      7165 non-null   float64\n",
            " 20  text_misspelled_words                    7165 non-null   object \n",
            " 21  corrected_misspelled_words               7165 non-null   object \n",
            " 22  length_ratio                             7165 non-null   float64\n",
            " 23  normalized_text_length                   7165 non-null   float64\n",
            " 24  normalized_text_misspelled_counter       7165 non-null   float64\n",
            " 25  normalized_corrected_misspelled_counter  7165 non-null   float64\n",
            " 26  normalized_2grams-cooccurrence-count     7165 non-null   float64\n",
            " 27  normalized_2grams-correct-count          7165 non-null   float64\n",
            " 28  normalized_3grams-cooccurrence-count     7165 non-null   float64\n",
            " 29  normalized_3grams-correct-count          7165 non-null   float64\n",
            " 30  normalized_4grams-cooccurrence-count     7165 non-null   float64\n",
            " 31  normalized_4grams-correct-count          7165 non-null   float64\n",
            " 32  karp_tfidf_scores                        7165 non-null   float64\n",
            " 33  normalized_summary_word_counter          7165 non-null   float64\n",
            "dtypes: float64(16), int64(2), object(16)\n",
            "memory usage: 1.9+ MB\n"
          ]
        }
      ]
    },
    {
      "cell_type": "markdown",
      "source": [
        "# Data prepatation for the LLM"
      ],
      "metadata": {
        "id": "TcE6HAsgo1SE"
      }
    },
    {
      "cell_type": "code",
      "source": [
        "def oversample_df(df):\n",
        "    \"\"\"\n",
        "    :param df: Dataframe to be overampled based on prompt_id\n",
        "    :return: Dataframe oversampled\n",
        "    \"\"\"\n",
        "    classes = df[\"prompt_id\"].value_counts().to_dict()\n",
        "    most = max(classes.values())\n",
        "    classes_list = []\n",
        "    for key in classes:\n",
        "        classes_list.append(df[df[\"prompt_id\"] == key])\n",
        "    classes_sample = []\n",
        "    for i in range(1, len(classes_list)):\n",
        "        classes_sample.append(classes_list[i].sample(most, replace=True))\n",
        "    df_maybe = pd.concat(classes_sample)\n",
        "    final_df = pd.concat([df_maybe, classes_list[0]], axis=0)\n",
        "\n",
        "    return final_df"
      ],
      "metadata": {
        "id": "8Cdhdjsmo9pc"
      },
      "execution_count": 19,
      "outputs": []
    },
    {
      "cell_type": "code",
      "source": [
        "import copy\n",
        "import numpy as np\n",
        "import more_itertools\n",
        "\n",
        "import torch\n",
        "from torch.utils.data import Sampler, Dataset, DataLoader\n",
        "\n",
        "class SmartBatchingDataset(Dataset):\n",
        "    def __init__(self, df, tokenizer, input_cols, target_cols, features_cols):\n",
        "        super(SmartBatchingDataset, self).__init__()\n",
        "\n",
        "        input_df = copy.deepcopy(df[input_cols])\n",
        "        features_df = copy.deepcopy(df[features_cols])\n",
        "\n",
        "        # Combine strings from multiple columns with [CLS], [SEP], and [SEP] separators\n",
        "        input_df['combined_col'] = input_df.apply(\n",
        "            lambda row: tokenizer.cls_token + ' ' + f' {tokenizer.sep_token} '.join(row) + f' {tokenizer.sep_token}',\n",
        "            axis=1)\n",
        "\n",
        "        self._data = [\n",
        "            input_df['combined_col'].apply(tokenizer.tokenize).apply(tokenizer.convert_tokens_to_ids).to_list(),\n",
        "            features_df.values.tolist()]\n",
        "        self._targets = df[target_cols].values.tolist() if target_cols is not None else None\n",
        "        self.sampler = None\n",
        "\n",
        "    def __len__(self):\n",
        "        return len(self._data)\n",
        "\n",
        "    def __getitem__(self, item):\n",
        "        if self._targets is not None:\n",
        "            return [self._data[0][item], self._data[1][item]], self._targets[item]\n",
        "        else:\n",
        "            return [self._data[0][item], self._data[1][item]]\n",
        "\n",
        "    def get_dataloader(self, batch_size, max_len, pad_id):\n",
        "\n",
        "        self.sampler = SmartBatchingSampler(\n",
        "            data_source=self._data[0],\n",
        "            batch_size=batch_size\n",
        "        )\n",
        "        collate_fn = SmartBatchingCollate(\n",
        "            targets=self._targets,\n",
        "            max_length=max_len,\n",
        "            pad_token_id=pad_id\n",
        "        )\n",
        "        dataloader = DataLoader(\n",
        "            dataset=self,\n",
        "            batch_size=batch_size,\n",
        "            sampler=self.sampler,\n",
        "            collate_fn=collate_fn,\n",
        "            pin_memory=True,\n",
        "            num_workers=1 # calcolare grafico con i tempi impiegati per capire qual è il numero di worker migliore da utilizzare\n",
        "        )\n",
        "        return dataloader\n",
        "\n",
        "\n",
        "class SmartBatchingSampler(Sampler):\n",
        "    def __init__(self, data_source, batch_size):\n",
        "        super(SmartBatchingSampler, self).__init__(data_source)\n",
        "        self.len = len(data_source)\n",
        "        sample_lengths = [len(seq) for seq in data_source]\n",
        "        argsort_inds = np.argsort(sample_lengths)\n",
        "        self.batches = list(more_itertools.chunked(argsort_inds, n=batch_size))\n",
        "        self._backsort_inds = None\n",
        "\n",
        "    def __iter__(self):\n",
        "        if self.batches:\n",
        "            last_batch = self.batches.pop(-1)\n",
        "            np.random.shuffle(self.batches)\n",
        "            self.batches.append(last_batch)\n",
        "        self._inds = list(more_itertools.flatten(self.batches))\n",
        "        yield from self._inds\n",
        "\n",
        "    def __len__(self):\n",
        "        return self.len\n",
        "\n",
        "    @property\n",
        "    def backsort_inds(self):\n",
        "        if self._backsort_inds is None:\n",
        "            self._backsort_inds = np.argsort(self._inds)\n",
        "        return self._backsort_inds\n",
        "\n",
        "\n",
        "class SmartBatchingCollate:\n",
        "    def __init__(self, targets, max_length, pad_token_id):\n",
        "        self._targets = targets\n",
        "        self._max_length = max_length\n",
        "        self._pad_token_id = pad_token_id\n",
        "\n",
        "    def __call__(self, batch):\n",
        "        if self._targets is not None:\n",
        "            sequences, targets = list(zip(*batch))\n",
        "        else:\n",
        "            sequences = list(batch)\n",
        "\n",
        "        ids = []\n",
        "        features = []\n",
        "        for i in range(len(sequences)):\n",
        "            ids.append(sequences[i][0])\n",
        "            features.append(sequences[i][1])\n",
        "\n",
        "        input_ids, attention_mask = self.pad_sequence(\n",
        "            ids,\n",
        "            max_sequence_length=self._max_length,\n",
        "            pad_token_id=self._pad_token_id\n",
        "        )\n",
        "\n",
        "        if self._targets is not None:\n",
        "            output = [input_ids, features], attention_mask, torch.tensor(targets)\n",
        "        else:\n",
        "            output = [input_ids, features], attention_mask\n",
        "        return output\n",
        "\n",
        "    def pad_sequence(self, sequence_batch, max_sequence_length, pad_token_id):\n",
        "        max_batch_len = max(len(sequence) for sequence in sequence_batch)\n",
        "        max_len = min(max_batch_len, max_sequence_length)\n",
        "        padded_sequences, attention_masks = [[] for i in range(2)]\n",
        "        attend, no_attend = 1, 0\n",
        "        for sequence in sequence_batch:\n",
        "\n",
        "\n",
        "\n",
        "            # As discussed above, truncate if exceeds max_len\n",
        "            new_sequence = list(sequence[:max_len])\n",
        "\n",
        "\n",
        "            attention_mask = [attend] * len(new_sequence)\n",
        "            pad_length = max_len - len(new_sequence)\n",
        "\n",
        "            new_sequence.extend([pad_token_id] * pad_length)\n",
        "            attention_mask.extend([no_attend] * pad_length)\n",
        "\n",
        "            padded_sequences.append(new_sequence)\n",
        "            attention_masks.append(attention_mask)\n",
        "\n",
        "        padded_sequences = torch.tensor(padded_sequences)\n",
        "        attention_masks = torch.tensor(attention_masks)\n",
        "\n",
        "        return padded_sequences, attention_masks\n"
      ],
      "metadata": {
        "id": "C3f2t0lYr8Sp"
      },
      "execution_count": 20,
      "outputs": []
    },
    {
      "cell_type": "code",
      "source": [
        "from sklearn.model_selection import train_test_split\n",
        "from transformers import AutoTokenizer\n",
        "\n",
        "\n",
        "def pipeline(config, training_data, input_cols, target_cols, features, split=0.2, oversample=False, return_test_loader=True):\n",
        "    \"\"\"\n",
        "    :param config:          model configuration dictionary\n",
        "    :param training_data:   dataframe object with representing the dataset\n",
        "    :param input_cols:      list of strings defining the columns of the dataframe that needs to be input of the LLM\n",
        "    :param target_cols:     list of strings defining the columns of the dataframe for the target\n",
        "    :param features:        list of strings defining the columns of the dataframe that rapresent the added feature to be concatenated as input to the feedforward net\n",
        "    :param split:           float, percentage of the size of the validation set and test set\n",
        "    :param oversample:      boolean, if true the training set will be oversampled\n",
        "    :return:                training, validation, test loaders and the tokenizer used\n",
        "    \"\"\"\n",
        "\n",
        "    train, valid = train_test_split(training_data, test_size=split, random_state=42, stratify=training_data[\"prompt_id\"])\n",
        "\n",
        "    if return_test_loader:\n",
        "      train, test = train_test_split(train, test_size=split, random_state=42, stratify=train[\"prompt_id\"])\n",
        "\n",
        "    if oversample:\n",
        "        train = oversample_df(train)\n",
        "\n",
        "    tokenizer = AutoTokenizer.from_pretrained(config['model'])\n",
        "\n",
        "    train_set = SmartBatchingDataset(train, tokenizer, input_cols, target_cols, features_cols=features)\n",
        "    valid_set = SmartBatchingDataset(valid, tokenizer, input_cols, target_cols, features_cols=features)\n",
        "\n",
        "    train_loader = train_set.get_dataloader(batch_size=config['batch_size'], max_len=config[\"max_length\"],\n",
        "                                            pad_id=tokenizer.pad_token_id)\n",
        "\n",
        "    valid_loader = valid_set.get_dataloader(batch_size=config['batch_size'], max_len=config[\"max_length\"],\n",
        "                                            pad_id=tokenizer.pad_token_id)\n",
        "    if return_test_loader:\n",
        "      test_set = SmartBatchingDataset(test, tokenizer, input_cols, target_cols, features_cols=features)\n",
        "      test_loader = test_set.get_dataloader(batch_size=config['batch_size'], max_len=config[\"max_length\"],\n",
        "                                          pad_id=tokenizer.pad_token_id)\n",
        "\n",
        "      return train_loader, valid_loader, test_loader, tokenizer\n",
        "\n",
        "    else:\n",
        "        return train_loader, valid_loader, tokenizer"
      ],
      "metadata": {
        "id": "ShIblIqtpXvT"
      },
      "execution_count": 21,
      "outputs": []
    },
    {
      "cell_type": "markdown",
      "source": [
        "# Model Definition"
      ],
      "metadata": {
        "id": "bRVzyos8stJt"
      }
    },
    {
      "cell_type": "code",
      "source": [
        "import torch.nn as nn\n",
        "from transformers import AutoModel, AutoConfig\n",
        "\n",
        "class RegressorModel(nn.Module):\n",
        "    def __init__(self, name, fflayers, ffdropout,\n",
        "                 features_dim, target_cols, activation_function,\n",
        "                 freeze_encoder=True,pooling=\"mean-pooling\", dropoutLLM=False):\n",
        "        super(RegressorModel, self).__init__()\n",
        "\n",
        "        \"\"\"\n",
        "        :param name:                strings, model name to be downloaded with huggingsface transformers\n",
        "        :param fflayers:            int, number of layers of the feedforward network\n",
        "        :param ffdropout:           float, percentage of dropout between LLM embeddings and feedforward net\n",
        "        :param features_dim:        int, dimension of the feature extracted\n",
        "        :param target_cols:         list of strings, columns of the dataframe that represents the target\n",
        "        :param activation_function: string, activation function to use\n",
        "        :param freeze_encoder:      boolean, if True the LLM is freezed and will be not trained\n",
        "        :param pooling:             strings, pooling method to user\n",
        "        :param dropoutLLM:          boolean, if False dropout percentage of LLM will be setted to 0\n",
        "        \"\"\"\n",
        "\n",
        "\n",
        "        self.model_name = name\n",
        "        self.pooling = pooling\n",
        "        self.model_config = AutoConfig.from_pretrained(self.model_name)\n",
        "        self.target_cols = target_cols\n",
        "        self.drop = nn.Dropout(p=ffdropout)\n",
        "        self.fflayers = fflayers\n",
        "\n",
        "\n",
        "        if not dropoutLLM:\n",
        "            self.model_config.hidden_dropout_prob = 0.0\n",
        "            self.model_config.attention_probs_dropout_prob = 0.0\n",
        "\n",
        "        self.encoder = AutoModel.from_pretrained(self.model_name, config=self.model_config)\n",
        "\n",
        "        if freeze_encoder:\n",
        "            for param in self.encoder.base_model.parameters():\n",
        "                param.requires_grad = False\n",
        "\n",
        "        size = self.encoder.config.hidden_size + features_dim\n",
        "        # The output layer that takes the last hidden layer of the BERT model\n",
        "        self.cls_layer1 = nn.Linear(size, 2*size)\n",
        "\n",
        "\n",
        "\n",
        "        self.ff_hidden_layers = nn.ModuleList()\n",
        "\n",
        "        size = 2*size\n",
        "        for _ in range(self.fflayers):\n",
        "            out_size = int(size/2)\n",
        "            self.ff_hidden_layers.append(nn.Linear(size, out_size))\n",
        "            size = out_size\n",
        "\n",
        "\n",
        "        self.act = None\n",
        "        if activation_function == 'relu':\n",
        "            self.act = nn.ReLU()\n",
        "\n",
        "        if activation_function == 'leaky-relu':\n",
        "            self.act = nn.LeakyReLU()\n",
        "\n",
        "        # last layer\n",
        "        self.output_layer = nn.Linear(size, len(self.target_cols))\n",
        "\n",
        "    def forward(self, inputs, attention_mask):\n",
        "\n",
        "        input_ids = inputs[0]\n",
        "        features = inputs[1]\n",
        "\n",
        "        features = torch.tensor(features).float().to(input_ids.device)\n",
        "\n",
        "        # Feed the input to Bert model to obtain contextualized representations\n",
        "        outputs = self.encoder(input_ids=input_ids, attention_mask=attention_mask,\n",
        "                               output_hidden_states=False)\n",
        "\n",
        "        if self.pooling == 'cls':\n",
        "            # Obtain the representations of [CLS] heads\n",
        "            logits = outputs.last_hidden_state[:, 0, :]\n",
        "\n",
        "        if self.pooling == 'mean-pooling':\n",
        "            last_hidden_state = outputs.last_hidden_state\n",
        "            input_mask_expanded = attention_mask.unsqueeze(-1).expand(last_hidden_state.size()).float()\n",
        "            sum_embeddings = torch.sum(last_hidden_state * input_mask_expanded, 1)\n",
        "            sum_mask = input_mask_expanded.sum(1)\n",
        "            sum_mask = torch.clamp(sum_mask, min=1e-9)\n",
        "            logits = sum_embeddings / sum_mask\n",
        "\n",
        "\n",
        "        combined_features = torch.cat((logits, features), dim=1) # combine bert embeddings with features extracted from the dataset\n",
        "\n",
        "        output = self.drop(combined_features)\n",
        "        output = self.act(self.cls_layer1(output))\n",
        "\n",
        "\n",
        "        for hl in self.ff_hidden_layers:\n",
        "            output = self.act(hl(output))\n",
        "\n",
        "        output = self.output_layer(output)\n",
        "        return output"
      ],
      "metadata": {
        "id": "wkr2dA79sv_Z"
      },
      "execution_count": 22,
      "outputs": []
    },
    {
      "cell_type": "markdown",
      "source": [
        "# Training Loop"
      ],
      "metadata": {
        "id": "3ak60BDntuzZ"
      }
    },
    {
      "cell_type": "code",
      "source": [
        "class EarlyStopper:\n",
        "    def __init__(self, checkpoint_path=\"\", patience=5, min_delta=0.003):\n",
        "        self.patience = patience\n",
        "        self.min_delta = min_delta\n",
        "        self.counter = 0\n",
        "        self.min_validation_loss = np.inf\n",
        "        self.checkpoint_path = checkpoint_path\n",
        "\n",
        "    def early_stop(self, validation_loss, epoch, optimizer, model):\n",
        "        if validation_loss < self.min_validation_loss:\n",
        "            self.min_validation_loss = validation_loss\n",
        "            self.counter = 0\n",
        "            name = f\"checkpoint.pt\"\n",
        "            full_path = self.checkpoint_path + name\n",
        "\n",
        "            print(f\"New best validation loss, saving checkpoint at {full_path}\")\n",
        "\n",
        "            torch.save({\n",
        "                'epoch': epoch,\n",
        "                'model_state_dict': model.state_dict(),\n",
        "                'optimizer_state_dict': optimizer.state_dict(),\n",
        "                'loss': validation_loss,\n",
        "            }, full_path)\n",
        "\n",
        "\n",
        "        elif validation_loss > (self.min_validation_loss + self.min_delta):\n",
        "            self.counter += 1\n",
        "            if self.counter >= self.patience:\n",
        "                return True\n",
        "        return False"
      ],
      "metadata": {
        "id": "lBj_fRpdt_7v"
      },
      "execution_count": 23,
      "outputs": []
    },
    {
      "cell_type": "code",
      "source": [
        "class Trainer:\n",
        "    def __init__(self, model, loaders, epochs, accelerator, lr, weight_decay):\n",
        "\n",
        "        \"\"\"\n",
        "        :param model:       PyTorch model to train\n",
        "        :param loaders:     tuple of DataLoaders, (train loader, valid loader)\n",
        "        :param epochs:      int, max epochs to train a model\n",
        "        :param accelerator: PyTorch device, device for gradient step accumulation\n",
        "        :param lr:          float, learning rate\n",
        "        \"\"\"\n",
        "\n",
        "        self.model = model\n",
        "        self.train_loader, self.val_loader = loaders\n",
        "        self.weight_decay = weight_decay\n",
        "\n",
        "\n",
        "        self.epochs = epochs\n",
        "\n",
        "        self.accelerator = accelerator\n",
        "\n",
        "        self.lr = lr\n",
        "\n",
        "        self.optim = self._get_optim()\n",
        "\n",
        "        self.scheduler = torch.optim.lr_scheduler.CosineAnnealingWarmRestarts(self.optim, T_0=5, eta_min=1e-7)\n",
        "\n",
        "        self.train_losses = {\n",
        "            \"loss\": [],\n",
        "            \"content\": [],\n",
        "            \"wording\": []\n",
        "        }\n",
        "        self.val_losses = {\n",
        "            \"loss\": [],\n",
        "            \"content\": [],\n",
        "            \"wording\": []\n",
        "        }\n",
        "\n",
        "    def prepare(self):\n",
        "        self.model, self.optim, self.train_loader, self.val_loader, self.scheduler = self.accelerator.prepare(\n",
        "            self.model,\n",
        "            self.optim,\n",
        "            self.train_loader,\n",
        "            self.val_loader,\n",
        "            self.scheduler\n",
        "        )\n",
        "\n",
        "    def _get_optim(self):\n",
        "        no_decay = ['bias', 'LayerNorm.weight']\n",
        "        optimizer_grouped_parameters = [\n",
        "            {'params': [p for n, p in self.model.named_parameters() if not any(nd in n for nd in no_decay)],\n",
        "             'weight_decay': self.weight_decay},\n",
        "            {'params': [p for n, p in self.model.named_parameters() if any(nd in n for nd in no_decay)],\n",
        "             'weight_decay': 0.0}\n",
        "        ]\n",
        "        optimizer = torch.optim.AdamW(optimizer_grouped_parameters, lr=self.lr, eps=1e-6)\n",
        "        return optimizer\n",
        "\n",
        "    def loss_fn(self, outputs, targets, multioutput=True):\n",
        "        colwise_rmse = torch.sqrt(torch.mean((targets - outputs) ** 2, dim=0))\n",
        "        if multioutput:\n",
        "            content_loss = colwise_rmse[0]\n",
        "            wording_loss = colwise_rmse[1]\n",
        "        else:\n",
        "            content_loss = 0.\n",
        "            wording_loss = 0.\n",
        "\n",
        "        loss = torch.mean(colwise_rmse, dim=0)\n",
        "\n",
        "        return loss, content_loss, wording_loss\n",
        "\n",
        "    def train_one_epoch(self, epoch, multioutput, outer_progress=\"\", verbose=True):\n",
        "\n",
        "        running_loss = 0.\n",
        "        c_loss = 0.\n",
        "        w_loss = 0.\n",
        "\n",
        "        inner_iterations = len(self.train_loader)\n",
        "\n",
        "        idx = 0\n",
        "        for el in self.train_loader:\n",
        "            input_ids, attention_mask, target = el\n",
        "\n",
        "            with self.accelerator.accumulate(self.model):\n",
        "                output = self.model(inputs=input_ids, attention_mask=attention_mask)\n",
        "\n",
        "                loss, content_loss, wording_loss = self.loss_fn(output, target, multioutput)\n",
        "                running_loss += loss.item()\n",
        "                c_loss += content_loss\n",
        "                w_loss += wording_loss\n",
        "\n",
        "                self.accelerator.backward(loss)\n",
        "\n",
        "                self.optim.step()\n",
        "\n",
        "                self.scheduler.step(epoch - 1 + idx / len(self.train_loader))\n",
        "\n",
        "                self.optim.zero_grad()\n",
        "\n",
        "                del input_ids, attention_mask, target, loss\n",
        "\n",
        "                if verbose:\n",
        "                    inner_progress = f\"Training Batch: [{idx}/{inner_iterations}]\"\n",
        "                    print(f\"\\r{outer_progress} {inner_progress}\", end=\"\")\n",
        "\n",
        "            idx += 1\n",
        "\n",
        "        train_loss = running_loss / len(self.train_loader)\n",
        "        c_loss = c_loss / len(self.train_loader)\n",
        "        w_loss = w_loss / len(self.train_loader)\n",
        "        self.train_losses[\"loss\"].append(train_loss)\n",
        "        self.train_losses[\"content\"].append(c_loss)\n",
        "        self.train_losses[\"wording\"].append(w_loss)\n",
        "\n",
        "        if verbose:\n",
        "            inner_progress = f\"Training Batch:[{idx}/{inner_iterations}] training loss: {self.train_losses['loss'][-1]}\"\n",
        "            print(f\"\\r{outer_progress} {inner_progress}\", end=\"\")\n",
        "\n",
        "    @torch.no_grad()\n",
        "    def valid_one_epoch(self, epoch, multioutput, outer_progress=\"\", verbose=True):\n",
        "\n",
        "        running_loss = 0.\n",
        "        c_loss = 0.\n",
        "        w_loss = 0.\n",
        "\n",
        "        inner_iterations = len(self.val_loader)\n",
        "\n",
        "        idx = 0\n",
        "        for input_ids, attention_mask, target in self.val_loader:\n",
        "            output = self.model(inputs=input_ids, attention_mask=attention_mask)\n",
        "\n",
        "            loss, content_loss, wording_loss = self.loss_fn(output, target, multioutput)\n",
        "            running_loss += loss.item()\n",
        "            c_loss += content_loss\n",
        "            w_loss += wording_loss\n",
        "\n",
        "            del input_ids, attention_mask, target, loss\n",
        "\n",
        "            if verbose:\n",
        "                inner_progress = f\"Validation Batch: [{idx}/{inner_iterations}] training loss: {self.train_losses['loss'][-1]}\"\n",
        "                print(f\"\\r{outer_progress} {inner_progress}\", end=\"\")\n",
        "\n",
        "            idx += 1\n",
        "\n",
        "        val_loss = running_loss / len(self.val_loader)\n",
        "        c_loss = c_loss / len(self.val_loader)\n",
        "        w_loss = w_loss / len(self.val_loader)\n",
        "        self.val_losses[\"loss\"].append(val_loss)\n",
        "        self.val_losses[\"content\"].append(c_loss)\n",
        "        self.val_losses[\"wording\"].append(w_loss)\n",
        "\n",
        "        if verbose:\n",
        "            inner_progress = f\"Validation Batch:[{idx}/{inner_iterations}] training loss: {self.train_losses['loss'][-1]} validation loss: {self.val_losses['loss'][-1]}\"\n",
        "            print(f\"\\r{outer_progress} {inner_progress}\", end=\"\")\n",
        "\n",
        "    def test(self, test_loader):\n",
        "\n",
        "        preds = []\n",
        "        for (inputs) in test_loader:\n",
        "            outputs = self.model(inputs)\n",
        "            preds.append(outputs.detach().cpu())\n",
        "\n",
        "        preds = torch.concat(preds)\n",
        "        return preds\n",
        "\n",
        "    def fit(self, multioutput=True, min_delta=0.003, verbose=True):\n",
        "\n",
        "        self.prepare()\n",
        "\n",
        "        # Define the number of iterations for both loops\n",
        "        outer_iterations = self.epochs\n",
        "\n",
        "        early_stopper = EarlyStopper(patience=3, min_delta=min_delta)\n",
        "        outer_progress = \"\"\n",
        "\n",
        "        # Create outer progress bar\n",
        "        for epoch in range(1, outer_iterations + 1):\n",
        "            if verbose:\n",
        "                outer_progress = f\"Epoch: {epoch}/{outer_iterations}\"\n",
        "\n",
        "            self.model.train()\n",
        "\n",
        "            self.train_one_epoch(epoch, multioutput, outer_progress=outer_progress, verbose=verbose)\n",
        "            self.clear()\n",
        "\n",
        "            self.model.eval()\n",
        "            self.valid_one_epoch(epoch, multioutput, outer_progress=outer_progress, verbose=verbose)\n",
        "\n",
        "            self.clear()\n",
        "\n",
        "            if early_stopper.early_stop(validation_loss=self.val_losses[\"loss\"][-1],\n",
        "                                        epoch=epoch, optimizer=self.optim, model=self.model):\n",
        "                break\n",
        "\n",
        "            if verbose:\n",
        "                print()\n",
        "\n",
        "        if verbose:\n",
        "            print(\"\\nTraining completed!\")\n",
        "\n",
        "        return self.train_losses, self.val_losses\n",
        "\n",
        "    def clear(self):\n",
        "        gc.collect()\n",
        "        torch.cuda.empty_cache()"
      ],
      "metadata": {
        "id": "eLSURqYQt094"
      },
      "execution_count": 24,
      "outputs": []
    },
    {
      "cell_type": "markdown",
      "source": [
        "# Model Training"
      ],
      "metadata": {
        "id": "RF_ayasOwQVU"
      }
    },
    {
      "cell_type": "code",
      "source": [
        "import matplotlib.pyplot as plt\n",
        "\n",
        "def plot_and_save_graph(epochs, model_name, train_losses, val_losses, save=False):\n",
        "    # Create the plot\n",
        "    plt.figure(figsize=(10, 6))\n",
        "\n",
        "    e = [x for x in range(1, epochs+1)]\n",
        "\n",
        "    plt.plot(e, train_losses, label='Training Loss')\n",
        "    plt.plot(e, val_losses, label='Validation Loss')\n",
        "\n",
        "    # Add labels and title\n",
        "    plt.xlabel('Epochs')\n",
        "    plt.ylabel('Loss')\n",
        "    plt.title(model_name)\n",
        "    plt.legend()\n",
        "    plt.grid()\n",
        "\n",
        "    # Save the plot to a file\n",
        "    if save:\n",
        "      plt.savefig(f'./plots/{model_name}.png')\n",
        "\n",
        "    # Display the plot\n",
        "    plt.show()"
      ],
      "metadata": {
        "id": "LYTy0rAdy4ux"
      },
      "execution_count": 25,
      "outputs": []
    },
    {
      "cell_type": "code",
      "source": [
        "restricted_train_data = train_data.drop(columns=[\"normalized_corrected_misspelled_counter\", \"normalized_text_misspelled_counter\", \"normalized_3grams-cooccurrence-count\", \"normalized_4grams-cooccurrence-count\"], axis=1)"
      ],
      "metadata": {
        "id": "u6XAv6-zhGPv"
      },
      "execution_count": 26,
      "outputs": []
    },
    {
      "cell_type": "code",
      "source": [
        "from accelerate import Accelerator\n",
        "import time\n",
        "\n",
        "config = {\n",
        "    'model': 'bert-base-cased', # name of the model to be downloaded with huggingsface transformers\n",
        "    'name': 'bert cased', # name of the model to be displayed on the results\n",
        "    'max_length': 512,\n",
        "    'batch_size': 4,  # si può provare ad aumentare ma occhio agli out of memory error\n",
        "    'epochs': 40,\n",
        "    'lr': 7e-4,\n",
        "    'gradient_accumulation_steps': 16,\n",
        "    'adam_eps': 1e-6,  # 1e-8 default\n",
        "    'freeze_encoder': True,\n",
        "    'fflayers': 3,\n",
        "    'ffdropout': 0.05,\n",
        "    'activation_function': 'relu',\n",
        "    'weight_decay': 0.001\n",
        "}\n",
        "\n",
        "features = [\"length_ratio\", \"normalized_text_length\", \"karp_tfidf_scores\",\n",
        "            \"normalized_2grams-cooccurrence-count\",\n",
        "            \"normalized_2grams-correct-count\", \"normalized_3grams-correct-count\", \"normalized_4grams-correct-count\",\n",
        "            \"semantic_similarity\", \"word_counter_ratio\", \"normalized_summary_word_counter\"]\n",
        "feature_dim = len(features)\n",
        "multioutput = True\n",
        "\n",
        "input_cols = [\"prompt_question\", \"fixed_summary_text\"]\n",
        "target_cols = [\"content\",\"wording\"]\n",
        "\n",
        "restricted_train_data.reset_index(inplace=True)\n",
        "\n",
        "train_loader, valid_loader, test_loader, tokenizer = pipeline(config, training_data=restricted_train_data, input_cols=input_cols, target_cols=target_cols,\n",
        "                                                            features=features, split=0.2, oversample=True)\n",
        "accelerator = Accelerator(gradient_accumulation_steps=config['gradient_accumulation_steps'])\n",
        "\n",
        "model = RegressorModel(name=config[\"model\"], fflayers=config[\"fflayers\"],\n",
        "                       ffdropout=config[\"ffdropout\"],activation_function=config[\"activation_function\"],\n",
        "                       features_dim=feature_dim, target_cols=target_cols).to(device=accelerator.device)\n",
        "\n"
      ],
      "metadata": {
        "colab": {
          "base_uri": "https://localhost:8080/"
        },
        "id": "JYmcqdRwwPZR",
        "outputId": "ced7d204-f30c-4586-a26b-1cf13bd0be1f"
      },
      "execution_count": 27,
      "outputs": [
        {
          "output_type": "stream",
          "name": "stderr",
          "text": [
            "Token indices sequence length is longer than the specified maximum sequence length for this model (555 > 512). Running this sequence through the model will result in indexing errors\n"
          ]
        }
      ]
    },
    {
      "cell_type": "code",
      "source": [
        "trainer = Trainer(model, (train_loader, valid_loader), epochs=config['epochs'], accelerator=accelerator, lr=config[\"lr\"], weight_decay=config[\"weight_decay\"])\n",
        "\n",
        "start_time = time.time()\n",
        "train_losses, val_losses = trainer.fit(multioutput)\n",
        "elapsed_time = time.time() - start_time\n"
      ],
      "metadata": {
        "colab": {
          "base_uri": "https://localhost:8080/"
        },
        "id": "HBx_UhZN_YK5",
        "outputId": "f6cdf850-fea5-4efd-c567-0e03450808f1"
      },
      "execution_count": 28,
      "outputs": [
        {
          "output_type": "stream",
          "name": "stdout",
          "text": [
            "Epoch: 1/40 Validation Batch:[359/359] training loss: 0.6274277186169711 validation loss: 0.5434948132064681New best validation loss, saving checkpoint at checkpoint.pt\n",
            "\n",
            "Epoch: 2/40 Validation Batch:[359/359] training loss: 0.514256637534954 validation loss: 0.4969864279280798New best validation loss, saving checkpoint at checkpoint.pt\n",
            "\n",
            "Epoch: 3/40 Validation Batch:[359/359] training loss: 0.4822154028925284 validation loss: 0.50403723544065\n",
            "Epoch: 4/40 Validation Batch:[359/359] training loss: 0.46126387944910324 validation loss: 0.4735689452514675New best validation loss, saving checkpoint at checkpoint.pt\n",
            "\n",
            "Epoch: 5/40 Validation Batch:[359/359] training loss: 0.44526069542292673 validation loss: 0.4698637405975947New best validation loss, saving checkpoint at checkpoint.pt\n",
            "\n",
            "Epoch: 6/40 Validation Batch:[359/359] training loss: 0.508288314386399 validation loss: 0.5069383191032995\n",
            "Epoch: 7/40 Validation Batch:[359/359] training loss: 0.4749736644344612 validation loss: 0.47948699832626707\n",
            "Epoch: 8/40 Validation Batch:[359/359] training loss: 0.44504737919062126 validation loss: 0.4736275434244974\n",
            "Training completed!\n"
          ]
        }
      ]
    },
    {
      "cell_type": "code",
      "source": [
        "plot_and_save_graph(len(train_losses[\"loss\"]), config[\"name\"], train_losses[\"loss\"], val_losses[\"loss\"])"
      ],
      "metadata": {
        "id": "TV1fghCimT1V",
        "colab": {
          "base_uri": "https://localhost:8080/",
          "height": 564
        },
        "outputId": "ed208194-3b51-4572-fcdd-08d65eedcb64"
      },
      "execution_count": 29,
      "outputs": [
        {
          "output_type": "display_data",
          "data": {
            "text/plain": [
              "<Figure size 1000x600 with 1 Axes>"
            ],
            "image/png": "[encoded data removed]"
          },
          "metadata": {}
        }
      ]
    },
    {
      "cell_type": "code",
      "source": [
        "training_info = {\n",
        "        'model-name': config[\"name\"],\n",
        "        'train-loss': train_losses[\"loss\"][-1],\n",
        "        'valid-loss': val_losses[\"loss\"][-1],\n",
        "        'train-content-loss': train_losses[\"content\"][-1].item(),\n",
        "        'valid-content-loss': val_losses[\"content\"][-1].item(),\n",
        "        'train-wording-loss': train_losses[\"wording\"][-1].item(),\n",
        "        'valid-wording-loss': val_losses[\"wording\"][-1].item(),\n",
        "        'best-valid-loss': min(val_losses[\"loss\"]),\n",
        "        'elapsed-time': elapsed_time,\n",
        "    }\n",
        "\n",
        "print(training_info)"
      ],
      "metadata": {
        "id": "z_xjbmcV1ObW",
        "colab": {
          "base_uri": "https://localhost:8080/"
        },
        "outputId": "a3a88032-9c4f-445b-f328-f4b11e0aa177"
      },
      "execution_count": 30,
      "outputs": [
        {
          "output_type": "stream",
          "name": "stdout",
          "text": [
            "{'model-name': 'bert cased', 'train-loss': 0.44504737919062126, 'valid-loss': 0.4736275434244974, 'train-content-loss': 0.37936633825302124, 'valid-content-loss': 0.3990080654621124, 'train-wording-loss': 0.5107281804084778, 'valid-wording-loss': 0.5482474565505981, 'best-valid-loss': 0.4698637405975947, 'elapsed-time': 459.29609775543213}\n"
          ]
        }
      ]
    },
    {
      "cell_type": "markdown",
      "source": [
        "# Evaluation on internal test set"
      ],
      "metadata": {
        "id": "FOiZCjrM8gGw"
      }
    },
    {
      "cell_type": "code",
      "source": [
        "def evaluate(test_loader, model, device, trainer):\n",
        "\n",
        "    preds = []\n",
        "    running_loss = 0.\n",
        "    for el in test_loader:\n",
        "        input_ids, attention_mask, target = el\n",
        "\n",
        "        attention_mask = attention_mask.to(device)\n",
        "        target = target.to(device)\n",
        "\n",
        "        ids = input_ids[0].to(device)\n",
        "        inputs = [ids, input_ids[1]]\n",
        "\n",
        "        output = model(inputs=inputs, attention_mask=attention_mask)\n",
        "        loss, content_loss, wording_loss = trainer.loss_fn(output, target, multioutput)\n",
        "        running_loss += loss.item()\n",
        "\n",
        "        preds.append(output)\n",
        "\n",
        "    test_loss = running_loss / len(test_loader)\n",
        "    print(\"Test Loss:\", test_loss)\n",
        "    preds = torch.concat(preds)\n",
        "    return preds"
      ],
      "metadata": {
        "id": "6qmeRGHA8jer"
      },
      "execution_count": 31,
      "outputs": []
    },
    {
      "cell_type": "code",
      "source": [
        "checkpoint = torch.load(\"./checkpoint.pt\")\n",
        "model.load_state_dict(checkpoint['model_state_dict'])\n",
        "model.eval()\n",
        "evaluate(test_loader=test_loader, model=model, trainer=trainer, device=accelerator.device)\n"
      ],
      "metadata": {
        "id": "0B8PEgF9FKWg",
        "colab": {
          "base_uri": "https://localhost:8080/"
        },
        "outputId": "a99a3679-e20a-4b0b-c4d9-b5502e8afdb4"
      },
      "execution_count": 34,
      "outputs": [
        {
          "output_type": "stream",
          "name": "stdout",
          "text": [
            "Test Loss: 0.46954865333095247\n"
          ]
        },
        {
          "output_type": "execute_result",
          "data": {
            "text/plain": [
              "tensor([[ 0.0434, -0.3017],\n",
              "        [ 0.0231,  0.4057],\n",
              "        [ 0.4151,  0.6218],\n",
              "        ...,\n",
              "        [ 2.3892,  0.8808],\n",
              "        [ 3.2118,  2.6811],\n",
              "        [ 3.2567,  1.7698]], device='cuda:0', grad_fn=<CatBackward0>)"
            ]
          },
          "metadata": {},
          "execution_count": 34
        }
      ]
    }
  ]
}