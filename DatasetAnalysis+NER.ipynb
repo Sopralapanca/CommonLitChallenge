{
  "cells": [
    {
      "cell_type": "code",
      "execution_count": 2,
      "metadata": {
        "id": "80oKnPXAOIij"
      },
      "outputs": [],
      "source": [
        "import pandas as pd\n",
        "train_path = \"/data/dataset.zip\"\n",
        "\n",
        "train_data = pd.read_csv(train_path, compression='zip', sep=',', index_col=0)"
      ]
    },
    {
      "cell_type": "code",
      "execution_count": 3,
      "metadata": {
        "colab": {
          "base_uri": "https://localhost:8080/"
        },
        "id": "nCGXf6yhOYyr",
        "outputId": "2f39936c-c3a5-4678-925c-7f00974b1c6a"
      },
      "outputs": [
        {
          "data": {
            "text/plain": [
              "{'39c16e': 2057, '3b9047': 2009, 'ebad26': 1996, '814d6b': 1103}"
            ]
          },
          "execution_count": 3,
          "metadata": {},
          "output_type": "execute_result"
        }
      ],
      "source": [
        "train_data.index.value_counts().to_dict()"
      ]
    },
    {
      "cell_type": "code",
      "execution_count": 4,
      "metadata": {
        "id": "GdJbhBFJN2gR"
      },
      "outputs": [],
      "source": [
        "def oversample(df):\n",
        "    classes = df.index.value_counts().to_dict()\n",
        "    most = max(classes.values())\n",
        "    classes_list = []\n",
        "    for key in classes:\n",
        "        classes_list.append(df[df.index == key])\n",
        "    classes_sample = []\n",
        "    for i in range(1,len(classes_list)):\n",
        "        classes_sample.append(classes_list[i].sample(most, replace=True))\n",
        "    df_maybe = pd.concat(classes_sample)\n",
        "    final_df = pd.concat([df_maybe,classes_list[0]], axis=0)\n",
        "    # final_df = final_df.reset_index(drop=True)\n",
        "    return final_df"
      ]
    },
    {
      "cell_type": "code",
      "execution_count": 5,
      "metadata": {
        "id": "xveKYKatPZqh"
      },
      "outputs": [],
      "source": [
        "over_train_data = oversample(train_data)"
      ]
    },
    {
      "cell_type": "code",
      "execution_count": 6,
      "metadata": {
        "colab": {
          "base_uri": "https://localhost:8080/"
        },
        "id": "525t02pQPxy4",
        "outputId": "8b4a793c-d563-4a32-e5a0-e3c02b5411ce"
      },
      "outputs": [
        {
          "data": {
            "text/plain": [
              "{'3b9047': 2057, 'ebad26': 2057, '814d6b': 2057, '39c16e': 2057}"
            ]
          },
          "execution_count": 6,
          "metadata": {},
          "output_type": "execute_result"
        }
      ],
      "source": [
        "over_train_data.index.value_counts().to_dict()"
      ]
    },
    {
      "cell_type": "markdown",
      "metadata": {
        "id": "_P4I_r1ERs1J"
      },
      "source": [
        "# Tentativo di NER con spacy"
      ]
    },
    {
      "cell_type": "code",
      "execution_count": 7,
      "metadata": {
        "id": "Fs4Y1TSpRdmt"
      },
      "outputs": [],
      "source": [
        "import spacy\n",
        "from spacy import displacy\n",
        "\n",
        "NER = spacy.load(\"en_core_web_sm\")"
      ]
    },
    {
      "cell_type": "code",
      "execution_count": 8,
      "metadata": {
        "id": "QOWPXLDsRmpZ"
      },
      "outputs": [],
      "source": [
        "raw_text=\"The Indian Space Research Organisation or is the national space agency of India, headquartered in Bengaluru. It operates under Department of Space which is directly overseen by the Prime Minister of India while Chairman of ISRO acts as executive of DOS as well.\"\n"
      ]
    },
    {
      "cell_type": "code",
      "execution_count": 9,
      "metadata": {
        "id": "tpxW52-qRy-O"
      },
      "outputs": [],
      "source": [
        "text1= NER(raw_text)"
      ]
    },
    {
      "cell_type": "code",
      "execution_count": 10,
      "metadata": {
        "colab": {
          "base_uri": "https://localhost:8080/"
        },
        "id": "3uyunknCR0x_",
        "outputId": "95bd32f3-a333-4134-fb69-b162c6681960"
      },
      "outputs": [
        {
          "name": "stdout",
          "output_type": "stream",
          "text": [
            "The Indian Space Research Organisation ORG\n",
            "The entity ORG refers to ==> Companies, agencies, institutions, etc.\n",
            "India GPE\n",
            "The entity GPE refers to ==> Countries, cities, states\n",
            "Bengaluru GPE\n",
            "The entity GPE refers to ==> Countries, cities, states\n",
            "Department of Space ORG\n",
            "The entity ORG refers to ==> Companies, agencies, institutions, etc.\n",
            "India GPE\n",
            "The entity GPE refers to ==> Countries, cities, states\n",
            "ISRO ORG\n",
            "The entity ORG refers to ==> Companies, agencies, institutions, etc.\n",
            "DOS ORG\n",
            "The entity ORG refers to ==> Companies, agencies, institutions, etc.\n"
          ]
        }
      ],
      "source": [
        "for word in text1.ents:\n",
        "    print(word.text,word.label_)\n",
        "    print(f'The entity {word.label_} refers to ==> {spacy.explain(word.label_)}')"
      ]
    },
    {
      "cell_type": "code",
      "execution_count": 11,
      "metadata": {
        "colab": {
          "base_uri": "https://localhost:8080/",
          "height": 87
        },
        "id": "C8rvdmg1R_eX",
        "outputId": "e6cb8a9b-99de-447c-ecfa-c888655476dd"
      },
      "outputs": [
        {
          "data": {
            "text/html": [
              "<span class=\"tex2jax_ignore\"><div class=\"entities\" style=\"line-height: 2.5; direction: ltr\">\n",
              "<mark class=\"entity\" style=\"background: #7aecec; padding: 0.45em 0.6em; margin: 0 0.25em; line-height: 1; border-radius: 0.35em;\">\n",
              "    The Indian Space Research Organisation\n",
              "    <span style=\"font-size: 0.8em; font-weight: bold; line-height: 1; border-radius: 0.35em; vertical-align: middle; margin-left: 0.5rem\">ORG</span>\n",
              "</mark>\n",
              " or is the national space agency of \n",
              "<mark class=\"entity\" style=\"background: #feca74; padding: 0.45em 0.6em; margin: 0 0.25em; line-height: 1; border-radius: 0.35em;\">\n",
              "    India\n",
              "    <span style=\"font-size: 0.8em; font-weight: bold; line-height: 1; border-radius: 0.35em; vertical-align: middle; margin-left: 0.5rem\">GPE</span>\n",
              "</mark>\n",
              ", headquartered in \n",
              "<mark class=\"entity\" style=\"background: #feca74; padding: 0.45em 0.6em; margin: 0 0.25em; line-height: 1; border-radius: 0.35em;\">\n",
              "    Bengaluru\n",
              "    <span style=\"font-size: 0.8em; font-weight: bold; line-height: 1; border-radius: 0.35em; vertical-align: middle; margin-left: 0.5rem\">GPE</span>\n",
              "</mark>\n",
              ". It operates under \n",
              "<mark class=\"entity\" style=\"background: #7aecec; padding: 0.45em 0.6em; margin: 0 0.25em; line-height: 1; border-radius: 0.35em;\">\n",
              "    Department of Space\n",
              "    <span style=\"font-size: 0.8em; font-weight: bold; line-height: 1; border-radius: 0.35em; vertical-align: middle; margin-left: 0.5rem\">ORG</span>\n",
              "</mark>\n",
              " which is directly overseen by the Prime Minister of \n",
              "<mark class=\"entity\" style=\"background: #feca74; padding: 0.45em 0.6em; margin: 0 0.25em; line-height: 1; border-radius: 0.35em;\">\n",
              "    India\n",
              "    <span style=\"font-size: 0.8em; font-weight: bold; line-height: 1; border-radius: 0.35em; vertical-align: middle; margin-left: 0.5rem\">GPE</span>\n",
              "</mark>\n",
              " while Chairman of \n",
              "<mark class=\"entity\" style=\"background: #7aecec; padding: 0.45em 0.6em; margin: 0 0.25em; line-height: 1; border-radius: 0.35em;\">\n",
              "    ISRO\n",
              "    <span style=\"font-size: 0.8em; font-weight: bold; line-height: 1; border-radius: 0.35em; vertical-align: middle; margin-left: 0.5rem\">ORG</span>\n",
              "</mark>\n",
              " acts as executive of \n",
              "<mark class=\"entity\" style=\"background: #7aecec; padding: 0.45em 0.6em; margin: 0 0.25em; line-height: 1; border-radius: 0.35em;\">\n",
              "    DOS\n",
              "    <span style=\"font-size: 0.8em; font-weight: bold; line-height: 1; border-radius: 0.35em; vertical-align: middle; margin-left: 0.5rem\">ORG</span>\n",
              "</mark>\n",
              " as well.</div></span>"
            ],
            "text/plain": [
              "<IPython.core.display.HTML object>"
            ]
          },
          "metadata": {},
          "output_type": "display_data"
        }
      ],
      "source": [
        "displacy.render(text1,style=\"ent\",jupyter=True)"
      ]
    },
    {
      "cell_type": "markdown",
      "metadata": {
        "id": "fKFLXPwcSld7"
      },
      "source": [
        "## Utiliziamo NER sul nostro dataset"
      ]
    },
    {
      "cell_type": "code",
      "execution_count": 12,
      "metadata": {
        "id": "EIAJ3t-nSkP5"
      },
      "outputs": [],
      "source": [
        "import spacy\n",
        "from spacy import displacy\n",
        "\n",
        "NER = spacy.load(\"en_core_web_sm\")"
      ]
    },
    {
      "cell_type": "code",
      "execution_count": 13,
      "metadata": {
        "colab": {
          "base_uri": "https://localhost:8080/",
          "height": 366
        },
        "id": "9EBrAiAcTO0f",
        "outputId": "41bbcfa2-4363-4d24-a4dd-cda36455be69"
      },
      "outputs": [
        {
          "data": {
            "text/html": [
              "\n",
              "  <div id=\"df-7a85cabf-5c2f-4256-b8f5-4a6a55bf66a3\" class=\"colab-df-container\">\n",
              "    <div>\n",
              "<style scoped>\n",
              "    .dataframe tbody tr th:only-of-type {\n",
              "        vertical-align: middle;\n",
              "    }\n",
              "\n",
              "    .dataframe tbody tr th {\n",
              "        vertical-align: top;\n",
              "    }\n",
              "\n",
              "    .dataframe thead th {\n",
              "        text-align: right;\n",
              "    }\n",
              "</style>\n",
              "<table border=\"1\" class=\"dataframe\">\n",
              "  <thead>\n",
              "    <tr style=\"text-align: right;\">\n",
              "      <th></th>\n",
              "      <th>text</th>\n",
              "      <th>content</th>\n",
              "      <th>wording</th>\n",
              "      <th>fixed_summary_text</th>\n",
              "      <th>prompt_question</th>\n",
              "      <th>prompt_title</th>\n",
              "      <th>prompt_text</th>\n",
              "      <th>prompt_text_preprocessed</th>\n",
              "      <th>length_ratio</th>\n",
              "      <th>normalized_text_length</th>\n",
              "      <th>...</th>\n",
              "      <th>corrected_misspelled_words</th>\n",
              "      <th>normalized_text_misspelled_counter</th>\n",
              "      <th>normalized_corrected_misspelled_counter</th>\n",
              "      <th>normalized_2grams-cooccurrence-count</th>\n",
              "      <th>normalized_2grams-correct-count</th>\n",
              "      <th>normalized_3grams-cooccurrence-count</th>\n",
              "      <th>normalized_3grams-correct-count</th>\n",
              "      <th>normalized_4grams-cooccurrence-count</th>\n",
              "      <th>normalized_4grams-correct-count</th>\n",
              "      <th>karp_tfidf_scores</th>\n",
              "    </tr>\n",
              "    <tr>\n",
              "      <th>prompt_id</th>\n",
              "      <th></th>\n",
              "      <th></th>\n",
              "      <th></th>\n",
              "      <th></th>\n",
              "      <th></th>\n",
              "      <th></th>\n",
              "      <th></th>\n",
              "      <th></th>\n",
              "      <th></th>\n",
              "      <th></th>\n",
              "      <th></th>\n",
              "      <th></th>\n",
              "      <th></th>\n",
              "      <th></th>\n",
              "      <th></th>\n",
              "      <th></th>\n",
              "      <th></th>\n",
              "      <th></th>\n",
              "      <th></th>\n",
              "      <th></th>\n",
              "      <th></th>\n",
              "    </tr>\n",
              "  </thead>\n",
              "  <tbody>\n",
              "    <tr>\n",
              "      <th>3b9047</th>\n",
              "      <td>Starting at the top with the gods that the Egy...</td>\n",
              "      <td>0.626721</td>\n",
              "      <td>0.369075</td>\n",
              "      <td>Starting at the top with the gods that the Egy...</td>\n",
              "      <td>In complete sentences, summarize the structure...</td>\n",
              "      <td>Egyptian Social Structure</td>\n",
              "      <td>Egyptian society was structured like a pyramid...</td>\n",
              "      <td>egyptian society structured like pyramid top g...</td>\n",
              "      <td>0.197357</td>\n",
              "      <td>0.141887</td>\n",
              "      <td>...</td>\n",
              "      <td>{'siris'}</td>\n",
              "      <td>0.230769</td>\n",
              "      <td>0.083333</td>\n",
              "      <td>0.085859</td>\n",
              "      <td>0.138927</td>\n",
              "      <td>0.028133</td>\n",
              "      <td>0.126214</td>\n",
              "      <td>0.012953</td>\n",
              "      <td>0.115922</td>\n",
              "      <td>0.715979</td>\n",
              "    </tr>\n",
              "    <tr>\n",
              "      <th>3b9047</th>\n",
              "      <td>the egyptian government was mad up of several ...</td>\n",
              "      <td>-1.072613</td>\n",
              "      <td>-0.999629</td>\n",
              "      <td>the egyptian government was mad up of several ...</td>\n",
              "      <td>In complete sentences, summarize the structure...</td>\n",
              "      <td>Egyptian Social Structure</td>\n",
              "      <td>Egyptian society was structured like a pyramid...</td>\n",
              "      <td>egyptian society structured like pyramid top g...</td>\n",
              "      <td>0.047161</td>\n",
              "      <td>0.011236</td>\n",
              "      <td>...</td>\n",
              "      <td>set()</td>\n",
              "      <td>0.000000</td>\n",
              "      <td>0.000000</td>\n",
              "      <td>0.020202</td>\n",
              "      <td>0.026135</td>\n",
              "      <td>0.005115</td>\n",
              "      <td>0.030513</td>\n",
              "      <td>0.000000</td>\n",
              "      <td>0.034916</td>\n",
              "      <td>0.158303</td>\n",
              "    </tr>\n",
              "  </tbody>\n",
              "</table>\n",
              "<p>2 rows × 25 columns</p>\n",
              "</div>\n",
              "    <div class=\"colab-df-buttons\">\n",
              "\n",
              "  <div class=\"colab-df-container\">\n",
              "    <button class=\"colab-df-convert\" onclick=\"convertToInteractive('df-7a85cabf-5c2f-4256-b8f5-4a6a55bf66a3')\"\n",
              "            title=\"Convert this dataframe to an interactive table.\"\n",
              "            style=\"display:none;\">\n",
              "\n",
              "  <svg xmlns=\"http://www.w3.org/2000/svg\" height=\"24px\" viewBox=\"0 -960 960 960\">\n",
              "    <path d=\"M120-120v-720h720v720H120Zm60-500h600v-160H180v160Zm220 220h160v-160H400v160Zm0 220h160v-160H400v160ZM180-400h160v-160H180v160Zm440 0h160v-160H620v160ZM180-180h160v-160H180v160Zm440 0h160v-160H620v160Z\"/>\n",
              "  </svg>\n",
              "    </button>\n",
              "\n",
              "  <style>\n",
              "    .colab-df-container {\n",
              "      display:flex;\n",
              "      gap: 12px;\n",
              "    }\n",
              "\n",
              "    .colab-df-convert {\n",
              "      background-color: #E8F0FE;\n",
              "      border: none;\n",
              "      border-radius: 50%;\n",
              "      cursor: pointer;\n",
              "      display: none;\n",
              "      fill: #1967D2;\n",
              "      height: 32px;\n",
              "      padding: 0 0 0 0;\n",
              "      width: 32px;\n",
              "    }\n",
              "\n",
              "    .colab-df-convert:hover {\n",
              "      background-color: #E2EBFA;\n",
              "      box-shadow: 0px 1px 2px rgba(60, 64, 67, 0.3), 0px 1px 3px 1px rgba(60, 64, 67, 0.15);\n",
              "      fill: #174EA6;\n",
              "    }\n",
              "\n",
              "    .colab-df-buttons div {\n",
              "      margin-bottom: 4px;\n",
              "    }\n",
              "\n",
              "    [theme=dark] .colab-df-convert {\n",
              "      background-color: #3B4455;\n",
              "      fill: #D2E3FC;\n",
              "    }\n",
              "\n",
              "    [theme=dark] .colab-df-convert:hover {\n",
              "      background-color: #434B5C;\n",
              "      box-shadow: 0px 1px 3px 1px rgba(0, 0, 0, 0.15);\n",
              "      filter: drop-shadow(0px 1px 2px rgba(0, 0, 0, 0.3));\n",
              "      fill: #FFFFFF;\n",
              "    }\n",
              "  </style>\n",
              "\n",
              "    <script>\n",
              "      const buttonEl =\n",
              "        document.querySelector('#df-7a85cabf-5c2f-4256-b8f5-4a6a55bf66a3 button.colab-df-convert');\n",
              "      buttonEl.style.display =\n",
              "        google.colab.kernel.accessAllowed ? 'block' : 'none';\n",
              "\n",
              "      async function convertToInteractive(key) {\n",
              "        const element = document.querySelector('#df-7a85cabf-5c2f-4256-b8f5-4a6a55bf66a3');\n",
              "        const dataTable =\n",
              "          await google.colab.kernel.invokeFunction('convertToInteractive',\n",
              "                                                    [key], {});\n",
              "        if (!dataTable) return;\n",
              "\n",
              "        const docLinkHtml = 'Like what you see? Visit the ' +\n",
              "          '<a target=\"_blank\" href=https://colab.research.google.com/notebooks/data_table.ipynb>data table notebook</a>'\n",
              "          + ' to learn more about interactive tables.';\n",
              "        element.innerHTML = '';\n",
              "        dataTable['output_type'] = 'display_data';\n",
              "        await google.colab.output.renderOutput(dataTable, element);\n",
              "        const docLink = document.createElement('div');\n",
              "        docLink.innerHTML = docLinkHtml;\n",
              "        element.appendChild(docLink);\n",
              "      }\n",
              "    </script>\n",
              "  </div>\n",
              "\n",
              "    </div>\n",
              "  </div>\n"
            ],
            "text/plain": [
              "                                                        text   content  \\\n",
              "prompt_id                                                                \n",
              "3b9047     Starting at the top with the gods that the Egy...  0.626721   \n",
              "3b9047     the egyptian government was mad up of several ... -1.072613   \n",
              "\n",
              "            wording                                 fixed_summary_text  \\\n",
              "prompt_id                                                                \n",
              "3b9047     0.369075  Starting at the top with the gods that the Egy...   \n",
              "3b9047    -0.999629  the egyptian government was mad up of several ...   \n",
              "\n",
              "                                             prompt_question  \\\n",
              "prompt_id                                                      \n",
              "3b9047     In complete sentences, summarize the structure...   \n",
              "3b9047     In complete sentences, summarize the structure...   \n",
              "\n",
              "                        prompt_title  \\\n",
              "prompt_id                              \n",
              "3b9047     Egyptian Social Structure   \n",
              "3b9047     Egyptian Social Structure   \n",
              "\n",
              "                                                 prompt_text  \\\n",
              "prompt_id                                                      \n",
              "3b9047     Egyptian society was structured like a pyramid...   \n",
              "3b9047     Egyptian society was structured like a pyramid...   \n",
              "\n",
              "                                    prompt_text_preprocessed  length_ratio  \\\n",
              "prompt_id                                                                    \n",
              "3b9047     egyptian society structured like pyramid top g...      0.197357   \n",
              "3b9047     egyptian society structured like pyramid top g...      0.047161   \n",
              "\n",
              "           normalized_text_length  ... corrected_misspelled_words  \\\n",
              "prompt_id                          ...                              \n",
              "3b9047                   0.141887  ...                  {'siris'}   \n",
              "3b9047                   0.011236  ...                      set()   \n",
              "\n",
              "          normalized_text_misspelled_counter  \\\n",
              "prompt_id                                      \n",
              "3b9047                              0.230769   \n",
              "3b9047                              0.000000   \n",
              "\n",
              "          normalized_corrected_misspelled_counter  \\\n",
              "prompt_id                                           \n",
              "3b9047                                   0.083333   \n",
              "3b9047                                   0.000000   \n",
              "\n",
              "           normalized_2grams-cooccurrence-count  \\\n",
              "prompt_id                                         \n",
              "3b9047                                 0.085859   \n",
              "3b9047                                 0.020202   \n",
              "\n",
              "          normalized_2grams-correct-count  \\\n",
              "prompt_id                                   \n",
              "3b9047                           0.138927   \n",
              "3b9047                           0.026135   \n",
              "\n",
              "          normalized_3grams-cooccurrence-count  \\\n",
              "prompt_id                                        \n",
              "3b9047                                0.028133   \n",
              "3b9047                                0.005115   \n",
              "\n",
              "           normalized_3grams-correct-count  \\\n",
              "prompt_id                                    \n",
              "3b9047                            0.126214   \n",
              "3b9047                            0.030513   \n",
              "\n",
              "           normalized_4grams-cooccurrence-count  \\\n",
              "prompt_id                                         \n",
              "3b9047                                 0.012953   \n",
              "3b9047                                 0.000000   \n",
              "\n",
              "           normalized_4grams-correct-count  karp_tfidf_scores  \n",
              "prompt_id                                                      \n",
              "3b9047                            0.115922           0.715979  \n",
              "3b9047                            0.034916           0.158303  \n",
              "\n",
              "[2 rows x 25 columns]"
            ]
          },
          "execution_count": 13,
          "metadata": {},
          "output_type": "execute_result"
        }
      ],
      "source": [
        "over_train_data.head(2)"
      ]
    },
    {
      "cell_type": "code",
      "execution_count": 14,
      "metadata": {
        "id": "31_oTui7TJ5F"
      },
      "outputs": [],
      "source": [
        "example = over_train_data['fixed_summary_text'][2]\n",
        "example_pre = over_train_data['correctedtext_preprocessed'][2]"
      ]
    },
    {
      "cell_type": "code",
      "execution_count": 15,
      "metadata": {
        "id": "k4AeSG2ESsaJ"
      },
      "outputs": [],
      "source": [
        "first_index_text = NER(example)\n",
        "first_index_pretext = NER(example_pre)"
      ]
    },
    {
      "cell_type": "code",
      "execution_count": 16,
      "metadata": {
        "colab": {
          "base_uri": "https://localhost:8080/",
          "height": 157
        },
        "id": "6m5O_UNvS9SC",
        "outputId": "c811b038-bb3b-4f26-cf3b-704c69d6336d"
      },
      "outputs": [
        {
          "data": {
            "text/html": [
              "<span class=\"tex2jax_ignore\"><div class=\"entities\" style=\"line-height: 2.5; direction: ltr\">In \n",
              "<mark class=\"entity\" style=\"background: #c887fb; padding: 0.45em 0.6em; margin: 0 0.25em; line-height: 1; border-radius: 0.35em;\">\n",
              "    Egyptian\n",
              "    <span style=\"font-size: 0.8em; font-weight: bold; line-height: 1; border-radius: 0.35em; vertical-align: middle; margin-left: 0.5rem\">NORP</span>\n",
              "</mark>\n",
              " system of government different social classes were involved in the government because of their high power.&quot;Because the people of \n",
              "<mark class=\"entity\" style=\"background: #feca74; padding: 0.45em 0.6em; margin: 0 0.25em; line-height: 1; border-radius: 0.35em;\">\n",
              "    egypt\n",
              "    <span style=\"font-size: 0.8em; font-weight: bold; line-height: 1; border-radius: 0.35em; vertical-align: middle; margin-left: 0.5rem\">GPE</span>\n",
              "</mark>\n",
              " believed that heir pharaohs were gods, they entrusted their rulers with responsibilities.&quot; This shows their high power.</div></span>"
            ],
            "text/plain": [
              "<IPython.core.display.HTML object>"
            ]
          },
          "metadata": {},
          "output_type": "display_data"
        },
        {
          "data": {
            "text/html": [
              "<span class=\"tex2jax_ignore\"><div class=\"entities\" style=\"line-height: 2.5; direction: ltr\">in \n",
              "<mark class=\"entity\" style=\"background: #c887fb; padding: 0.45em 0.6em; margin: 0 0.25em; line-height: 1; border-radius: 0.35em;\">\n",
              "    egyptian\n",
              "    <span style=\"font-size: 0.8em; font-weight: bold; line-height: 1; border-radius: 0.35em; vertical-align: middle; margin-left: 0.5rem\">NORP</span>\n",
              "</mark>\n",
              " system of government different social classes were involved in the government because of their high power because the people of \n",
              "<mark class=\"entity\" style=\"background: #feca74; padding: 0.45em 0.6em; margin: 0 0.25em; line-height: 1; border-radius: 0.35em;\">\n",
              "    egypt\n",
              "    <span style=\"font-size: 0.8em; font-weight: bold; line-height: 1; border-radius: 0.35em; vertical-align: middle; margin-left: 0.5rem\">GPE</span>\n",
              "</mark>\n",
              " believed that heir pharaohs were gods they entrusted their rulers with responsibilities this shows their high power</div></span>"
            ],
            "text/plain": [
              "<IPython.core.display.HTML object>"
            ]
          },
          "metadata": {},
          "output_type": "display_data"
        }
      ],
      "source": [
        "displacy.render(first_index_text,style=\"ent\",jupyter=True)\n",
        "displacy.render(first_index_pretext,style=\"ent\",jupyter=True)"
      ]
    },
    {
      "cell_type": "markdown",
      "metadata": {
        "id": "_Wr8omGiXHWT"
      },
      "source": [
        "## NLTK for NER"
      ]
    },
    {
      "cell_type": "code",
      "execution_count": null,
      "metadata": {
        "id": "-zlrAik9QGqX"
      },
      "outputs": [],
      "source": [
        "# import modules and download packages\n",
        "import nltk\n",
        "nltk.download('words')\n",
        "nltk.download('punkt')\n",
        "nltk.download('maxent_ne_chunker')\n",
        "nltk.download('averaged_perceptron_tagger')\n",
        "from nltk.tokenize import PunktSentenceTokenizer\n",
        "\n",
        "# process the text and print Named entities\n",
        "example_pre = over_train_data['correctedtext_preprocessed'][2]\n",
        "\n",
        "custom_sent_tokenizer = PunktSentenceTokenizer(example_pre)\n",
        "tokenized = custom_sent_tokenizer.tokenize(example_pre)\n",
        "# function\n",
        "def get_named_entity(sent):\n",
        "\ttry:\n",
        "    custom_sent_tokenizer = PunktSentenceTokenizer(example_pre)\n",
        "    sent = custom_sent_tokenizer.tokenize(sent)\n",
        "    sent = nltk.pos_tag(sent)\n",
        "    return sent\n",
        "\texcept:\n",
        "\t\tpass\n",
        "get_named_entity(e)"
      ]
    }
  ],
  "metadata": {
    "colab": {
      "provenance": []
    },
    "kernelspec": {
      "display_name": "Python 3",
      "name": "python3"
    },
    "language_info": {
      "name": "python"
    }
  },
  "nbformat": 4,
  "nbformat_minor": 0
}
