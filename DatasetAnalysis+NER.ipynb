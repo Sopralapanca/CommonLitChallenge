{
  "cells": [
    {
      "cell_type": "code",
      "execution_count": 2,
      "metadata": {
        "id": "80oKnPXAOIij"
      },
      "outputs": [],
      "source": [
        "import pandas as pd\n",
        "train_path = \"data/dataset.zip\"\n",
        "\n",
        "train_data = pd.read_csv(train_path, compression='zip', sep=',', index_col=0)"
      ]
    },
    {
      "cell_type": "code",
      "execution_count": 3,
      "metadata": {
        "colab": {
          "base_uri": "https://localhost:8080/"
        },
        "id": "nCGXf6yhOYyr",
        "outputId": "2f39936c-c3a5-4678-925c-7f00974b1c6a"
      },
      "outputs": [
        {
          "data": {
            "text/plain": [
              "{'39c16e': 2057, '3b9047': 2009, 'ebad26': 1996, '814d6b': 1103}"
            ]
          },
          "execution_count": 3,
          "metadata": {},
          "output_type": "execute_result"
        }
      ],
      "source": [
        "train_data.index.value_counts().to_dict()"
      ]
    },
    {
      "cell_type": "code",
      "execution_count": 4,
      "metadata": {
        "id": "GdJbhBFJN2gR"
      },
      "outputs": [],
      "source": [
        "def oversample(df):\n",
        "    classes = df.index.value_counts().to_dict()\n",
        "    most = max(classes.values())\n",
        "    classes_list = []\n",
        "    for key in classes:\n",
        "        classes_list.append(df[df.index == key])\n",
        "    classes_sample = []\n",
        "    for i in range(1,len(classes_list)):\n",
        "        classes_sample.append(classes_list[i].sample(most, replace=True))\n",
        "    df_maybe = pd.concat(classes_sample)\n",
        "    final_df = pd.concat([df_maybe,classes_list[0]], axis=0)\n",
        "    # final_df = final_df.reset_index(drop=True)\n",
        "    return final_df"
      ]
    },
    {
      "cell_type": "code",
      "execution_count": 5,
      "metadata": {
        "id": "xveKYKatPZqh"
      },
      "outputs": [],
      "source": [
        "over_train_data = oversample(train_data)"
      ]
    },
    {
      "cell_type": "code",
      "execution_count": 6,
      "metadata": {
        "colab": {
          "base_uri": "https://localhost:8080/"
        },
        "id": "525t02pQPxy4",
        "outputId": "8b4a793c-d563-4a32-e5a0-e3c02b5411ce"
      },
      "outputs": [
        {
          "data": {
            "text/plain": [
              "{'3b9047': 2057, 'ebad26': 2057, '814d6b': 2057, '39c16e': 2057}"
            ]
          },
          "execution_count": 6,
          "metadata": {},
          "output_type": "execute_result"
        }
      ],
      "source": [
        "over_train_data.index.value_counts().to_dict()"
      ]
    },
    {
      "cell_type": "markdown",
      "metadata": {
        "id": "_P4I_r1ERs1J"
      },
      "source": [
        "# Tentativo di NER con spacy"
      ]
    },
    {
      "cell_type": "markdown",
      "metadata": {
        "id": "fKFLXPwcSld7"
      },
      "source": [
        "## Utiliziamo NER sul nostro dataset"
      ]
    },
    {
      "cell_type": "code",
      "execution_count": 70,
      "metadata": {
        "id": "EIAJ3t-nSkP5"
      },
      "outputs": [],
      "source": [
        "import spacy\n",
        "import en_core_web_sm\n",
        "from spacy import displacy\n",
        "\n",
        "NER = en_core_web_sm.load()"
      ]
    },
    {
      "cell_type": "code",
      "execution_count": 33,
      "metadata": {
        "colab": {
          "base_uri": "https://localhost:8080/",
          "height": 366
        },
        "id": "9EBrAiAcTO0f",
        "outputId": "41bbcfa2-4363-4d24-a4dd-cda36455be69"
      },
      "outputs": [
        {
          "data": {
            "text/html": [
              "<div>\n",
              "<style scoped>\n",
              "    .dataframe tbody tr th:only-of-type {\n",
              "        vertical-align: middle;\n",
              "    }\n",
              "\n",
              "    .dataframe tbody tr th {\n",
              "        vertical-align: top;\n",
              "    }\n",
              "\n",
              "    .dataframe thead th {\n",
              "        text-align: right;\n",
              "    }\n",
              "</style>\n",
              "<table border=\"1\" class=\"dataframe\">\n",
              "  <thead>\n",
              "    <tr style=\"text-align: right;\">\n",
              "      <th></th>\n",
              "      <th>text</th>\n",
              "      <th>content</th>\n",
              "      <th>wording</th>\n",
              "      <th>fixed_summary_text</th>\n",
              "      <th>prompt_question</th>\n",
              "      <th>prompt_title</th>\n",
              "      <th>prompt_text</th>\n",
              "      <th>prompt_text_preprocessed</th>\n",
              "      <th>length_ratio</th>\n",
              "      <th>normalized_text_length</th>\n",
              "      <th>...</th>\n",
              "      <th>corrected_misspelled_words</th>\n",
              "      <th>normalized_text_misspelled_counter</th>\n",
              "      <th>normalized_corrected_misspelled_counter</th>\n",
              "      <th>normalized_2grams-cooccurrence-count</th>\n",
              "      <th>normalized_2grams-correct-count</th>\n",
              "      <th>normalized_3grams-cooccurrence-count</th>\n",
              "      <th>normalized_3grams-correct-count</th>\n",
              "      <th>normalized_4grams-cooccurrence-count</th>\n",
              "      <th>normalized_4grams-correct-count</th>\n",
              "      <th>karp_tfidf_scores</th>\n",
              "    </tr>\n",
              "    <tr>\n",
              "      <th>prompt_id</th>\n",
              "      <th></th>\n",
              "      <th></th>\n",
              "      <th></th>\n",
              "      <th></th>\n",
              "      <th></th>\n",
              "      <th></th>\n",
              "      <th></th>\n",
              "      <th></th>\n",
              "      <th></th>\n",
              "      <th></th>\n",
              "      <th></th>\n",
              "      <th></th>\n",
              "      <th></th>\n",
              "      <th></th>\n",
              "      <th></th>\n",
              "      <th></th>\n",
              "      <th></th>\n",
              "      <th></th>\n",
              "      <th></th>\n",
              "      <th></th>\n",
              "      <th></th>\n",
              "    </tr>\n",
              "  </thead>\n",
              "  <tbody>\n",
              "    <tr>\n",
              "      <th>3b9047</th>\n",
              "      <td>Some clasess ewere treated like real godesse, ...</td>\n",
              "      <td>-0.456956</td>\n",
              "      <td>-0.042516</td>\n",
              "      <td>Some classes were treated like real goddess, w...</td>\n",
              "      <td>In complete sentences, summarize the structure...</td>\n",
              "      <td>Egyptian Social Structure</td>\n",
              "      <td>Egyptian society was structured like a pyramid...</td>\n",
              "      <td>egyptian society structured like pyramid top g...</td>\n",
              "      <td>0.090117</td>\n",
              "      <td>0.048602</td>\n",
              "      <td>...</td>\n",
              "      <td>set()</td>\n",
              "      <td>0.115385</td>\n",
              "      <td>0.0</td>\n",
              "      <td>0.060606</td>\n",
              "      <td>0.05227</td>\n",
              "      <td>0.051151</td>\n",
              "      <td>0.054092</td>\n",
              "      <td>0.049223</td>\n",
              "      <td>0.055866</td>\n",
              "      <td>0.403847</td>\n",
              "    </tr>\n",
              "    <tr>\n",
              "      <th>3b9047</th>\n",
              "      <td>If you were a pharaoh, then that would mean yo...</td>\n",
              "      <td>-1.547163</td>\n",
              "      <td>-1.461245</td>\n",
              "      <td>If you were a pharaoh, then that would mean yo...</td>\n",
              "      <td>In complete sentences, summarize the structure...</td>\n",
              "      <td>Egyptian Social Structure</td>\n",
              "      <td>Egyptian society was structured like a pyramid...</td>\n",
              "      <td>egyptian society structured like pyramid top g...</td>\n",
              "      <td>0.047462</td>\n",
              "      <td>0.011497</td>\n",
              "      <td>...</td>\n",
              "      <td>set()</td>\n",
              "      <td>0.038462</td>\n",
              "      <td>0.0</td>\n",
              "      <td>0.012626</td>\n",
              "      <td>0.02751</td>\n",
              "      <td>0.007673</td>\n",
              "      <td>0.031900</td>\n",
              "      <td>0.005181</td>\n",
              "      <td>0.036313</td>\n",
              "      <td>0.053833</td>\n",
              "    </tr>\n",
              "  </tbody>\n",
              "</table>\n",
              "<p>2 rows × 25 columns</p>\n",
              "</div>"
            ],
            "text/plain": [
              "                                                        text   content  \\\n",
              "prompt_id                                                                \n",
              "3b9047     Some clasess ewere treated like real godesse, ... -0.456956   \n",
              "3b9047     If you were a pharaoh, then that would mean yo... -1.547163   \n",
              "\n",
              "            wording                                 fixed_summary_text  \\\n",
              "prompt_id                                                                \n",
              "3b9047    -0.042516  Some classes were treated like real goddess, w...   \n",
              "3b9047    -1.461245  If you were a pharaoh, then that would mean yo...   \n",
              "\n",
              "                                             prompt_question  \\\n",
              "prompt_id                                                      \n",
              "3b9047     In complete sentences, summarize the structure...   \n",
              "3b9047     In complete sentences, summarize the structure...   \n",
              "\n",
              "                        prompt_title  \\\n",
              "prompt_id                              \n",
              "3b9047     Egyptian Social Structure   \n",
              "3b9047     Egyptian Social Structure   \n",
              "\n",
              "                                                 prompt_text  \\\n",
              "prompt_id                                                      \n",
              "3b9047     Egyptian society was structured like a pyramid...   \n",
              "3b9047     Egyptian society was structured like a pyramid...   \n",
              "\n",
              "                                    prompt_text_preprocessed  length_ratio  \\\n",
              "prompt_id                                                                    \n",
              "3b9047     egyptian society structured like pyramid top g...      0.090117   \n",
              "3b9047     egyptian society structured like pyramid top g...      0.047462   \n",
              "\n",
              "           normalized_text_length  ... corrected_misspelled_words  \\\n",
              "prompt_id                          ...                              \n",
              "3b9047                   0.048602  ...                      set()   \n",
              "3b9047                   0.011497  ...                      set()   \n",
              "\n",
              "          normalized_text_misspelled_counter  \\\n",
              "prompt_id                                      \n",
              "3b9047                              0.115385   \n",
              "3b9047                              0.038462   \n",
              "\n",
              "          normalized_corrected_misspelled_counter  \\\n",
              "prompt_id                                           \n",
              "3b9047                                        0.0   \n",
              "3b9047                                        0.0   \n",
              "\n",
              "           normalized_2grams-cooccurrence-count  \\\n",
              "prompt_id                                         \n",
              "3b9047                                 0.060606   \n",
              "3b9047                                 0.012626   \n",
              "\n",
              "          normalized_2grams-correct-count  \\\n",
              "prompt_id                                   \n",
              "3b9047                            0.05227   \n",
              "3b9047                            0.02751   \n",
              "\n",
              "          normalized_3grams-cooccurrence-count  \\\n",
              "prompt_id                                        \n",
              "3b9047                                0.051151   \n",
              "3b9047                                0.007673   \n",
              "\n",
              "           normalized_3grams-correct-count  \\\n",
              "prompt_id                                    \n",
              "3b9047                            0.054092   \n",
              "3b9047                            0.031900   \n",
              "\n",
              "           normalized_4grams-cooccurrence-count  \\\n",
              "prompt_id                                         \n",
              "3b9047                                 0.049223   \n",
              "3b9047                                 0.005181   \n",
              "\n",
              "           normalized_4grams-correct-count  karp_tfidf_scores  \n",
              "prompt_id                                                      \n",
              "3b9047                            0.055866           0.403847  \n",
              "3b9047                            0.036313           0.053833  \n",
              "\n",
              "[2 rows x 25 columns]"
            ]
          },
          "execution_count": 33,
          "metadata": {},
          "output_type": "execute_result"
        }
      ],
      "source": [
        "over_train_data.head(2)"
      ]
    },
    {
      "cell_type": "code",
      "execution_count": 74,
      "metadata": {
        "id": "31_oTui7TJ5F"
      },
      "outputs": [
        {
          "name": "stdout",
          "output_type": "stream",
          "text": [
            "In summary the structure of the Ancient Egyptian system of government was shaped like a pyramid. In paragraph one, it states, \"Egyptian society was structured like a pyramid.\" The different social classes were involved in this government by being ranked of the most worshipped to least worshipped.  It states, \"At the top were the gods, such as Ra, Siris, and Isis.\" and \"At the bottom of the social structure were slaves and farmers.\" These statements prove their loyalty to one another. \n"
          ]
        }
      ],
      "source": [
        "example = over_train_data['fixed_summary_text'][2]\n",
        "print(example)"
      ]
    },
    {
      "cell_type": "code",
      "execution_count": 75,
      "metadata": {
        "id": "k4AeSG2ESsaJ"
      },
      "outputs": [],
      "source": [
        "first_index_text = NER(example)"
      ]
    },
    {
      "cell_type": "code",
      "execution_count": 78,
      "metadata": {},
      "outputs": [
        {
          "name": "stdout",
          "output_type": "stream",
          "text": [
            "[(In, 'O', ''), (summary, 'O', ''), (the, 'O', ''), (structure, 'O', ''), (of, 'O', ''), (the, 'O', ''), (Ancient, 'O', ''), (Egyptian, 'B', 'NORP'), (system, 'O', ''), (of, 'O', ''), (government, 'O', ''), (was, 'O', ''), (shaped, 'O', ''), (like, 'O', ''), (a, 'O', ''), (pyramid, 'O', ''), (., 'O', ''), (In, 'O', ''), (paragraph, 'O', ''), (one, 'O', ''), (,, 'O', ''), (it, 'O', ''), (states, 'O', ''), (,, 'O', ''), (\", 'O', ''), (Egyptian, 'B', 'NORP'), (society, 'O', ''), (was, 'O', ''), (structured, 'O', ''), (like, 'O', ''), (a, 'O', ''), (pyramid, 'O', ''), (., 'O', ''), (\", 'O', ''), (The, 'O', ''), (different, 'O', ''), (social, 'O', ''), (classes, 'O', ''), (were, 'O', ''), (involved, 'O', ''), (in, 'O', ''), (this, 'O', ''), (government, 'O', ''), (by, 'O', ''), (being, 'O', ''), (ranked, 'O', ''), (of, 'O', ''), (the, 'O', ''), (most, 'O', ''), (worshipped, 'O', ''), (to, 'O', ''), (least, 'O', ''), (worshipped, 'O', ''), (., 'O', ''), ( , 'O', ''), (It, 'O', ''), (states, 'O', ''), (,, 'O', ''), (\", 'O', ''), (At, 'O', ''), (the, 'O', ''), (top, 'O', ''), (were, 'O', ''), (the, 'O', ''), (gods, 'O', ''), (,, 'O', ''), (such, 'O', ''), (as, 'O', ''), (Ra, 'B', 'NORP'), (,, 'O', ''), (Siris, 'B', 'PERSON'), (,, 'O', ''), (and, 'O', ''), (Isis, 'B', 'ORG'), (., 'O', ''), (\", 'O', ''), (and, 'O', ''), (\", 'O', ''), (At, 'O', ''), (the, 'O', ''), (bottom, 'O', ''), (of, 'O', ''), (the, 'O', ''), (social, 'O', ''), (structure, 'O', ''), (were, 'O', ''), (slaves, 'O', ''), (and, 'O', ''), (farmers, 'O', ''), (., 'O', ''), (\", 'O', ''), (These, 'O', ''), (statements, 'O', ''), (prove, 'O', ''), (their, 'O', ''), (loyalty, 'O', ''), (to, 'O', ''), (one, 'O', ''), (another, 'O', ''), (., 'O', '')]\n"
          ]
        }
      ],
      "source": [
        "print([(X, X.ent_iob_, X.ent_type_) for X in first_index_text])"
      ]
    },
    {
      "cell_type": "code",
      "execution_count": 79,
      "metadata": {
        "colab": {
          "base_uri": "https://localhost:8080/",
          "height": 157
        },
        "id": "6m5O_UNvS9SC",
        "outputId": "c811b038-bb3b-4f26-cf3b-704c69d6336d"
      },
      "outputs": [
        {
          "data": {
            "text/html": [
              "<span class=\"tex2jax_ignore\"><div class=\"entities\" style=\"line-height: 2.5; direction: ltr\">In summary the structure of the Ancient \n",
              "<mark class=\"entity\" style=\"background: #c887fb; padding: 0.45em 0.6em; margin: 0 0.25em; line-height: 1; border-radius: 0.35em;\">\n",
              "    Egyptian\n",
              "    <span style=\"font-size: 0.8em; font-weight: bold; line-height: 1; border-radius: 0.35em; vertical-align: middle; margin-left: 0.5rem\">NORP</span>\n",
              "</mark>\n",
              " system of government was shaped like a pyramid. In paragraph one, it states, &quot;\n",
              "<mark class=\"entity\" style=\"background: #c887fb; padding: 0.45em 0.6em; margin: 0 0.25em; line-height: 1; border-radius: 0.35em;\">\n",
              "    Egyptian\n",
              "    <span style=\"font-size: 0.8em; font-weight: bold; line-height: 1; border-radius: 0.35em; vertical-align: middle; margin-left: 0.5rem\">NORP</span>\n",
              "</mark>\n",
              " society was structured like a pyramid.&quot; The different social classes were involved in this government by being ranked of the most worshipped to least worshipped.  It states, &quot;At the top were the gods, such as \n",
              "<mark class=\"entity\" style=\"background: #c887fb; padding: 0.45em 0.6em; margin: 0 0.25em; line-height: 1; border-radius: 0.35em;\">\n",
              "    Ra\n",
              "    <span style=\"font-size: 0.8em; font-weight: bold; line-height: 1; border-radius: 0.35em; vertical-align: middle; margin-left: 0.5rem\">NORP</span>\n",
              "</mark>\n",
              ", \n",
              "<mark class=\"entity\" style=\"background: #aa9cfc; padding: 0.45em 0.6em; margin: 0 0.25em; line-height: 1; border-radius: 0.35em;\">\n",
              "    Siris\n",
              "    <span style=\"font-size: 0.8em; font-weight: bold; line-height: 1; border-radius: 0.35em; vertical-align: middle; margin-left: 0.5rem\">PERSON</span>\n",
              "</mark>\n",
              ", and \n",
              "<mark class=\"entity\" style=\"background: #7aecec; padding: 0.45em 0.6em; margin: 0 0.25em; line-height: 1; border-radius: 0.35em;\">\n",
              "    Isis\n",
              "    <span style=\"font-size: 0.8em; font-weight: bold; line-height: 1; border-radius: 0.35em; vertical-align: middle; margin-left: 0.5rem\">ORG</span>\n",
              "</mark>\n",
              ".&quot; and &quot;At the bottom of the social structure were slaves and farmers.&quot; These statements prove their loyalty to one another. </div></span>"
            ],
            "text/plain": [
              "<IPython.core.display.HTML object>"
            ]
          },
          "metadata": {},
          "output_type": "display_data"
        }
      ],
      "source": [
        "displacy.render(first_index_text,style=\"ent\",jupyter=True)"
      ]
    },
    {
      "cell_type": "markdown",
      "metadata": {
        "id": "_Wr8omGiXHWT"
      },
      "source": [
        "## NLTK for NER"
      ]
    },
    {
      "cell_type": "code",
      "execution_count": 80,
      "metadata": {
        "id": "-zlrAik9QGqX"
      },
      "outputs": [],
      "source": [
        "# import modules and download packages\n",
        "import nltk\n",
        "from nltk.tokenize import word_tokenize\n",
        "from nltk.tag import pos_tag\n",
        "\n",
        "# process the text and print Named entities\n",
        "example_pre = over_train_data['correctedtext_preprocessed'][2]\n",
        "\n",
        "# function\n",
        "def get_named_entity(sent):\n",
        "        try:\n",
        "                sent = nltk.word_tokenize(sent)\n",
        "                sent = nltk.pos_tag(sent)\n",
        "                return sent\n",
        "        except:\n",
        "                pass\n",
        "sent = get_named_entity(example_pre)"
      ]
    },
    {
      "cell_type": "code",
      "execution_count": 81,
      "metadata": {},
      "outputs": [],
      "source": [
        "entities = {}\n",
        "for s in sent:\n",
        "    entities[s[1]].append(s[0]) if s[1] in entities else entities.update({s[1]: [s[0]]})"
      ]
    },
    {
      "cell_type": "code",
      "execution_count": 82,
      "metadata": {},
      "outputs": [
        {
          "data": {
            "text/plain": [
              "{'IN': ['in',\n",
              "  'of',\n",
              "  'of',\n",
              "  'like',\n",
              "  'in',\n",
              "  'like',\n",
              "  'in',\n",
              "  'by',\n",
              "  'of',\n",
              "  'at',\n",
              "  'as',\n",
              "  'at',\n",
              "  'of'],\n",
              " 'JJ': ['summary',\n",
              "  'egyptian',\n",
              "  'egyptian',\n",
              "  'different',\n",
              "  'social',\n",
              "  'worshipped',\n",
              "  'such',\n",
              "  'ra',\n",
              "  'social'],\n",
              " 'DT': ['the',\n",
              "  'the',\n",
              "  'a',\n",
              "  'a',\n",
              "  'the',\n",
              "  'this',\n",
              "  'the',\n",
              "  'the',\n",
              "  'the',\n",
              "  'the',\n",
              "  'the',\n",
              "  'these',\n",
              "  'another'],\n",
              " 'NN': ['structure',\n",
              "  'ancient',\n",
              "  'system',\n",
              "  'government',\n",
              "  'pyramid',\n",
              "  'paragraph',\n",
              "  'society',\n",
              "  'pyramid',\n",
              "  'government',\n",
              "  'top',\n",
              "  'siris',\n",
              "  'isis',\n",
              "  'bottom',\n",
              "  'structure',\n",
              "  'loyalty'],\n",
              " 'VBD': ['was', 'was', 'were', 'were', 'were'],\n",
              " 'VBN': ['shaped', 'structured', 'involved', 'ranked'],\n",
              " 'CD': ['one', 'one'],\n",
              " 'PRP': ['it', 'it'],\n",
              " 'VBZ': ['states', 'states'],\n",
              " 'NNS': ['classes', 'gods', 'slaves', 'farmers', 'statements'],\n",
              " 'VBG': ['being'],\n",
              " 'RBS': ['most'],\n",
              " 'TO': ['to', 'to'],\n",
              " 'JJS': ['least'],\n",
              " 'VB': ['worshipped'],\n",
              " 'CC': ['and', 'and', 'and'],\n",
              " 'VBP': ['prove'],\n",
              " 'PRP$': ['their']}"
            ]
          },
          "execution_count": 82,
          "metadata": {},
          "output_type": "execute_result"
        }
      ],
      "source": [
        "entities"
      ]
    }
  ],
  "metadata": {
    "colab": {
      "provenance": []
    },
    "kernelspec": {
      "display_name": "Python 3",
      "name": "python3"
    },
    "language_info": {
      "codemirror_mode": {
        "name": "ipython",
        "version": 3
      },
      "file_extension": ".py",
      "mimetype": "text/x-python",
      "name": "python",
      "nbconvert_exporter": "python",
      "pygments_lexer": "ipython3",
      "version": "3.11.4"
    }
  },
  "nbformat": 4,
  "nbformat_minor": 0
}
