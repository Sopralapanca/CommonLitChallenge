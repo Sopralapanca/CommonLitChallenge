{
  "cells": [
    {
      "cell_type": "markdown",
      "metadata": {
        "id": "view-in-github",
        "colab_type": "text"
      },
      "source": [
        "<a href=\"https://colab.research.google.com/github/Sopralapanca/CommonLitChallenge/blob/main/Correction%2BPrepareDataset.ipynb\" target=\"_parent\"><img src=\"https://colab.research.google.com/assets/colab-badge.svg\" alt=\"Open In Colab\"/></a>"
      ]
    },
    {
      "cell_type": "markdown",
      "source": [
        "LAVORO PER SARDE:\n",
        "1. Aggiungere altri todo\n",
        "2. Imparare ad essere umile\n",
        "3. Tifare il Campobasso\n",
        "\n",
        "TODO: CONTROLLARE I PARAGRAFI\n",
        "\n",
        "1. Controllare se non ci sono whitespace dopo gli .\\n Maiuscola\n",
        "2. Score value spacy per identificare la similarità, potremmo usarla per paragrafi diversi.\n",
        "\n",
        "TODO: CONTROLLARE I NOMI PROPRI\n",
        "1. Si potrebbe effettuare il lower() prima di aggiungere le parole allo spellchecker sperando che ci siano i nomi propri necessari alla stesura del riassunto all'interno del prompt\n",
        "2. Controllare i nomi propri facendo ner e non tenerli in considerazione per eventuali errori, ma confrontarli con eventuali nomi propri all'interno dei prompt (selezionare i soggetti che iniziano per le stesse lettere e poi calcolarcisi l'edit distance ==> wording, entro un certo range viene considerato match e si salva una feature per il numero di match con i prompt ==> content)\n",
        "\n"
      ],
      "metadata": {
        "id": "8IDA3TWbPR4d"
      }
    },
    {
      "cell_type": "code",
      "execution_count": 89,
      "metadata": {
        "colab": {
          "base_uri": "https://localhost:8080/"
        },
        "id": "weCgm4nI56zm",
        "outputId": "01b8a96d-260e-4c95-b146-2996bf292f00"
      },
      "outputs": [
        {
          "output_type": "stream",
          "name": "stdout",
          "text": [
            "Requirement already satisfied: pyspellchecker in /usr/local/lib/python3.10/dist-packages (0.7.2)\n",
            "Requirement already satisfied: sympy in /usr/local/lib/python3.10/dist-packages (1.12)\n",
            "Requirement already satisfied: spacy in /usr/local/lib/python3.10/dist-packages (3.6.1)\n",
            "Requirement already satisfied: autocorrect in /usr/local/lib/python3.10/dist-packages (2.6.1)\n",
            "Requirement already satisfied: mpmath>=0.19 in /usr/local/lib/python3.10/dist-packages (from sympy) (1.3.0)\n",
            "Requirement already satisfied: spacy-legacy<3.1.0,>=3.0.11 in /usr/local/lib/python3.10/dist-packages (from spacy) (3.0.12)\n",
            "Requirement already satisfied: spacy-loggers<2.0.0,>=1.0.0 in /usr/local/lib/python3.10/dist-packages (from spacy) (1.0.4)\n",
            "Requirement already satisfied: murmurhash<1.1.0,>=0.28.0 in /usr/local/lib/python3.10/dist-packages (from spacy) (1.0.9)\n",
            "Requirement already satisfied: cymem<2.1.0,>=2.0.2 in /usr/local/lib/python3.10/dist-packages (from spacy) (2.0.7)\n",
            "Requirement already satisfied: preshed<3.1.0,>=3.0.2 in /usr/local/lib/python3.10/dist-packages (from spacy) (3.0.8)\n",
            "Requirement already satisfied: thinc<8.2.0,>=8.1.8 in /usr/local/lib/python3.10/dist-packages (from spacy) (8.1.12)\n",
            "Requirement already satisfied: wasabi<1.2.0,>=0.9.1 in /usr/local/lib/python3.10/dist-packages (from spacy) (1.1.2)\n",
            "Requirement already satisfied: srsly<3.0.0,>=2.4.3 in /usr/local/lib/python3.10/dist-packages (from spacy) (2.4.7)\n",
            "Requirement already satisfied: catalogue<2.1.0,>=2.0.6 in /usr/local/lib/python3.10/dist-packages (from spacy) (2.0.9)\n",
            "Requirement already satisfied: typer<0.10.0,>=0.3.0 in /usr/local/lib/python3.10/dist-packages (from spacy) (0.9.0)\n",
            "Requirement already satisfied: pathy>=0.10.0 in /usr/local/lib/python3.10/dist-packages (from spacy) (0.10.2)\n",
            "Requirement already satisfied: smart-open<7.0.0,>=5.2.1 in /usr/local/lib/python3.10/dist-packages (from spacy) (6.3.0)\n",
            "Requirement already satisfied: tqdm<5.0.0,>=4.38.0 in /usr/local/lib/python3.10/dist-packages (from spacy) (4.66.1)\n",
            "Requirement already satisfied: numpy>=1.15.0 in /usr/local/lib/python3.10/dist-packages (from spacy) (1.23.5)\n",
            "Requirement already satisfied: requests<3.0.0,>=2.13.0 in /usr/local/lib/python3.10/dist-packages (from spacy) (2.31.0)\n",
            "Requirement already satisfied: pydantic!=1.8,!=1.8.1,<3.0.0,>=1.7.4 in /usr/local/lib/python3.10/dist-packages (from spacy) (2.2.0)\n",
            "Requirement already satisfied: jinja2 in /usr/local/lib/python3.10/dist-packages (from spacy) (3.1.2)\n",
            "Requirement already satisfied: setuptools in /usr/local/lib/python3.10/dist-packages (from spacy) (67.7.2)\n",
            "Requirement already satisfied: packaging>=20.0 in /usr/local/lib/python3.10/dist-packages (from spacy) (23.1)\n",
            "Requirement already satisfied: langcodes<4.0.0,>=3.2.0 in /usr/local/lib/python3.10/dist-packages (from spacy) (3.3.0)\n",
            "Requirement already satisfied: annotated-types>=0.4.0 in /usr/local/lib/python3.10/dist-packages (from pydantic!=1.8,!=1.8.1,<3.0.0,>=1.7.4->spacy) (0.5.0)\n",
            "Requirement already satisfied: pydantic-core==2.6.0 in /usr/local/lib/python3.10/dist-packages (from pydantic!=1.8,!=1.8.1,<3.0.0,>=1.7.4->spacy) (2.6.0)\n",
            "Requirement already satisfied: typing-extensions>=4.6.1 in /usr/local/lib/python3.10/dist-packages (from pydantic!=1.8,!=1.8.1,<3.0.0,>=1.7.4->spacy) (4.7.1)\n",
            "Requirement already satisfied: charset-normalizer<4,>=2 in /usr/local/lib/python3.10/dist-packages (from requests<3.0.0,>=2.13.0->spacy) (3.2.0)\n",
            "Requirement already satisfied: idna<4,>=2.5 in /usr/local/lib/python3.10/dist-packages (from requests<3.0.0,>=2.13.0->spacy) (3.4)\n",
            "Requirement already satisfied: urllib3<3,>=1.21.1 in /usr/local/lib/python3.10/dist-packages (from requests<3.0.0,>=2.13.0->spacy) (2.0.4)\n",
            "Requirement already satisfied: certifi>=2017.4.17 in /usr/local/lib/python3.10/dist-packages (from requests<3.0.0,>=2.13.0->spacy) (2023.7.22)\n",
            "Requirement already satisfied: blis<0.8.0,>=0.7.8 in /usr/local/lib/python3.10/dist-packages (from thinc<8.2.0,>=8.1.8->spacy) (0.7.10)\n",
            "Requirement already satisfied: confection<1.0.0,>=0.0.1 in /usr/local/lib/python3.10/dist-packages (from thinc<8.2.0,>=8.1.8->spacy) (0.1.1)\n",
            "Requirement already satisfied: click<9.0.0,>=7.1.1 in /usr/local/lib/python3.10/dist-packages (from typer<0.10.0,>=0.3.0->spacy) (8.1.7)\n",
            "Requirement already satisfied: MarkupSafe>=2.0 in /usr/local/lib/python3.10/dist-packages (from jinja2->spacy) (2.1.3)\n"
          ]
        }
      ],
      "source": [
        "!pip install pyspellchecker sympy spacy autocorrect"
      ]
    },
    {
      "cell_type": "code",
      "execution_count": 90,
      "metadata": {
        "colab": {
          "base_uri": "https://localhost:8080/"
        },
        "id": "pNgQ83Og83ke",
        "outputId": "f1baa2d9-b4a2-4db5-8ce6-597d507de4e4"
      },
      "outputs": [
        {
          "output_type": "stream",
          "name": "stdout",
          "text": [
            "fatal: destination path 'CommonLitChallenge' already exists and is not an empty directory.\n"
          ]
        }
      ],
      "source": [
        "!git clone \"https://github.com/Sopralapanca/CommonLitChallenge.git\""
      ]
    },
    {
      "cell_type": "code",
      "execution_count": 91,
      "metadata": {
        "id": "Q3bk8Dmz-GWE"
      },
      "outputs": [],
      "source": [
        "import pandas as pd\n",
        "summaries_train_path = \"/content/CommonLitChallenge/data/summaries_train.csv\"\n",
        "prompt_train_path = \"/content/CommonLitChallenge/data/prompts_train.csv\"\n",
        "\n",
        "train_data = pd.read_csv(summaries_train_path, sep=',', index_col=0)\n",
        "prompt_data = pd.read_csv(prompt_train_path, sep=',', index_col=0)"
      ]
    },
    {
      "cell_type": "code",
      "execution_count": 92,
      "metadata": {
        "colab": {
          "base_uri": "https://localhost:8080/",
          "height": 206
        },
        "id": "QGIfadJDO0v4",
        "outputId": "1554129d-ded7-414c-87a2-44aa8a31984f"
      },
      "outputs": [
        {
          "output_type": "execute_result",
          "data": {
            "text/plain": [
              "                                             prompt_question  \\\n",
              "prompt_id                                                      \n",
              "39c16e     Summarize at least 3 elements of an ideal trag...   \n",
              "3b9047     In complete sentences, summarize the structure...   \n",
              "814d6b     Summarize how the Third Wave developed over su...   \n",
              "ebad26     Summarize the various ways the factory would u...   \n",
              "\n",
              "                        prompt_title  \\\n",
              "prompt_id                              \n",
              "39c16e                    On Tragedy   \n",
              "3b9047     Egyptian Social Structure   \n",
              "814d6b                The Third Wave   \n",
              "ebad26       Excerpt from The Jungle   \n",
              "\n",
              "                                                 prompt_text  \n",
              "prompt_id                                                     \n",
              "39c16e     Chapter 13 \\nAs the sequel to what has already...  \n",
              "3b9047     Egyptian society was structured like a pyramid...  \n",
              "814d6b     Background \\nThe Third Wave experiment took pl...  \n",
              "ebad26     With one member trimming beef in a cannery, an...  "
            ],
            "text/html": [
              "\n",
              "  <div id=\"df-d4a8157b-6817-4418-9f42-7873e9c9cbd7\" class=\"colab-df-container\">\n",
              "    <div>\n",
              "<style scoped>\n",
              "    .dataframe tbody tr th:only-of-type {\n",
              "        vertical-align: middle;\n",
              "    }\n",
              "\n",
              "    .dataframe tbody tr th {\n",
              "        vertical-align: top;\n",
              "    }\n",
              "\n",
              "    .dataframe thead th {\n",
              "        text-align: right;\n",
              "    }\n",
              "</style>\n",
              "<table border=\"1\" class=\"dataframe\">\n",
              "  <thead>\n",
              "    <tr style=\"text-align: right;\">\n",
              "      <th></th>\n",
              "      <th>prompt_question</th>\n",
              "      <th>prompt_title</th>\n",
              "      <th>prompt_text</th>\n",
              "    </tr>\n",
              "    <tr>\n",
              "      <th>prompt_id</th>\n",
              "      <th></th>\n",
              "      <th></th>\n",
              "      <th></th>\n",
              "    </tr>\n",
              "  </thead>\n",
              "  <tbody>\n",
              "    <tr>\n",
              "      <th>39c16e</th>\n",
              "      <td>Summarize at least 3 elements of an ideal trag...</td>\n",
              "      <td>On Tragedy</td>\n",
              "      <td>Chapter 13 \\nAs the sequel to what has already...</td>\n",
              "    </tr>\n",
              "    <tr>\n",
              "      <th>3b9047</th>\n",
              "      <td>In complete sentences, summarize the structure...</td>\n",
              "      <td>Egyptian Social Structure</td>\n",
              "      <td>Egyptian society was structured like a pyramid...</td>\n",
              "    </tr>\n",
              "    <tr>\n",
              "      <th>814d6b</th>\n",
              "      <td>Summarize how the Third Wave developed over su...</td>\n",
              "      <td>The Third Wave</td>\n",
              "      <td>Background \\nThe Third Wave experiment took pl...</td>\n",
              "    </tr>\n",
              "    <tr>\n",
              "      <th>ebad26</th>\n",
              "      <td>Summarize the various ways the factory would u...</td>\n",
              "      <td>Excerpt from The Jungle</td>\n",
              "      <td>With one member trimming beef in a cannery, an...</td>\n",
              "    </tr>\n",
              "  </tbody>\n",
              "</table>\n",
              "</div>\n",
              "    <div class=\"colab-df-buttons\">\n",
              "\n",
              "  <div class=\"colab-df-container\">\n",
              "    <button class=\"colab-df-convert\" onclick=\"convertToInteractive('df-d4a8157b-6817-4418-9f42-7873e9c9cbd7')\"\n",
              "            title=\"Convert this dataframe to an interactive table.\"\n",
              "            style=\"display:none;\">\n",
              "\n",
              "  <svg xmlns=\"http://www.w3.org/2000/svg\" height=\"24px\" viewBox=\"0 -960 960 960\">\n",
              "    <path d=\"M120-120v-720h720v720H120Zm60-500h600v-160H180v160Zm220 220h160v-160H400v160Zm0 220h160v-160H400v160ZM180-400h160v-160H180v160Zm440 0h160v-160H620v160ZM180-180h160v-160H180v160Zm440 0h160v-160H620v160Z\"/>\n",
              "  </svg>\n",
              "    </button>\n",
              "\n",
              "  <style>\n",
              "    .colab-df-container {\n",
              "      display:flex;\n",
              "      gap: 12px;\n",
              "    }\n",
              "\n",
              "    .colab-df-convert {\n",
              "      background-color: #E8F0FE;\n",
              "      border: none;\n",
              "      border-radius: 50%;\n",
              "      cursor: pointer;\n",
              "      display: none;\n",
              "      fill: #1967D2;\n",
              "      height: 32px;\n",
              "      padding: 0 0 0 0;\n",
              "      width: 32px;\n",
              "    }\n",
              "\n",
              "    .colab-df-convert:hover {\n",
              "      background-color: #E2EBFA;\n",
              "      box-shadow: 0px 1px 2px rgba(60, 64, 67, 0.3), 0px 1px 3px 1px rgba(60, 64, 67, 0.15);\n",
              "      fill: #174EA6;\n",
              "    }\n",
              "\n",
              "    .colab-df-buttons div {\n",
              "      margin-bottom: 4px;\n",
              "    }\n",
              "\n",
              "    [theme=dark] .colab-df-convert {\n",
              "      background-color: #3B4455;\n",
              "      fill: #D2E3FC;\n",
              "    }\n",
              "\n",
              "    [theme=dark] .colab-df-convert:hover {\n",
              "      background-color: #434B5C;\n",
              "      box-shadow: 0px 1px 3px 1px rgba(0, 0, 0, 0.15);\n",
              "      filter: drop-shadow(0px 1px 2px rgba(0, 0, 0, 0.3));\n",
              "      fill: #FFFFFF;\n",
              "    }\n",
              "  </style>\n",
              "\n",
              "    <script>\n",
              "      const buttonEl =\n",
              "        document.querySelector('#df-d4a8157b-6817-4418-9f42-7873e9c9cbd7 button.colab-df-convert');\n",
              "      buttonEl.style.display =\n",
              "        google.colab.kernel.accessAllowed ? 'block' : 'none';\n",
              "\n",
              "      async function convertToInteractive(key) {\n",
              "        const element = document.querySelector('#df-d4a8157b-6817-4418-9f42-7873e9c9cbd7');\n",
              "        const dataTable =\n",
              "          await google.colab.kernel.invokeFunction('convertToInteractive',\n",
              "                                                    [key], {});\n",
              "        if (!dataTable) return;\n",
              "\n",
              "        const docLinkHtml = 'Like what you see? Visit the ' +\n",
              "          '<a target=\"_blank\" href=https://colab.research.google.com/notebooks/data_table.ipynb>data table notebook</a>'\n",
              "          + ' to learn more about interactive tables.';\n",
              "        element.innerHTML = '';\n",
              "        dataTable['output_type'] = 'display_data';\n",
              "        await google.colab.output.renderOutput(dataTable, element);\n",
              "        const docLink = document.createElement('div');\n",
              "        docLink.innerHTML = docLinkHtml;\n",
              "        element.appendChild(docLink);\n",
              "      }\n",
              "    </script>\n",
              "  </div>\n",
              "\n",
              "\n",
              "<div id=\"df-fd43ceb3-1eb4-44c4-9019-5344e83c5917\">\n",
              "  <button class=\"colab-df-quickchart\" onclick=\"quickchart('df-fd43ceb3-1eb4-44c4-9019-5344e83c5917')\"\n",
              "            title=\"Suggest charts.\"\n",
              "            style=\"display:none;\">\n",
              "\n",
              "<svg xmlns=\"http://www.w3.org/2000/svg\" height=\"24px\"viewBox=\"0 0 24 24\"\n",
              "     width=\"24px\">\n",
              "    <g>\n",
              "        <path d=\"M19 3H5c-1.1 0-2 .9-2 2v14c0 1.1.9 2 2 2h14c1.1 0 2-.9 2-2V5c0-1.1-.9-2-2-2zM9 17H7v-7h2v7zm4 0h-2V7h2v10zm4 0h-2v-4h2v4z\"/>\n",
              "    </g>\n",
              "</svg>\n",
              "  </button>\n",
              "\n",
              "<style>\n",
              "  .colab-df-quickchart {\n",
              "    background-color: #E8F0FE;\n",
              "    border: none;\n",
              "    border-radius: 50%;\n",
              "    cursor: pointer;\n",
              "    display: none;\n",
              "    fill: #1967D2;\n",
              "    height: 32px;\n",
              "    padding: 0 0 0 0;\n",
              "    width: 32px;\n",
              "  }\n",
              "\n",
              "  .colab-df-quickchart:hover {\n",
              "    background-color: #E2EBFA;\n",
              "    box-shadow: 0px 1px 2px rgba(60, 64, 67, 0.3), 0px 1px 3px 1px rgba(60, 64, 67, 0.15);\n",
              "    fill: #174EA6;\n",
              "  }\n",
              "\n",
              "  [theme=dark] .colab-df-quickchart {\n",
              "    background-color: #3B4455;\n",
              "    fill: #D2E3FC;\n",
              "  }\n",
              "\n",
              "  [theme=dark] .colab-df-quickchart:hover {\n",
              "    background-color: #434B5C;\n",
              "    box-shadow: 0px 1px 3px 1px rgba(0, 0, 0, 0.15);\n",
              "    filter: drop-shadow(0px 1px 2px rgba(0, 0, 0, 0.3));\n",
              "    fill: #FFFFFF;\n",
              "  }\n",
              "</style>\n",
              "\n",
              "  <script>\n",
              "    async function quickchart(key) {\n",
              "      const charts = await google.colab.kernel.invokeFunction(\n",
              "          'suggestCharts', [key], {});\n",
              "    }\n",
              "    (() => {\n",
              "      let quickchartButtonEl =\n",
              "        document.querySelector('#df-fd43ceb3-1eb4-44c4-9019-5344e83c5917 button');\n",
              "      quickchartButtonEl.style.display =\n",
              "        google.colab.kernel.accessAllowed ? 'block' : 'none';\n",
              "    })();\n",
              "  </script>\n",
              "</div>\n",
              "    </div>\n",
              "  </div>\n"
            ]
          },
          "metadata": {},
          "execution_count": 92
        }
      ],
      "source": [
        "prompt_data.head()"
      ]
    },
    {
      "cell_type": "code",
      "execution_count": 93,
      "metadata": {
        "id": "W8XMtG9s8_c8"
      },
      "outputs": [],
      "source": [
        "import itertools\n",
        "word_list = []\n",
        "for prompt, query, title in zip(prompt_data.prompt_text.tolist(), prompt_data.prompt_question.tolist(), prompt_data.prompt_title.tolist()):\n",
        "  word_list.append(prompt.replace('\\n', '').split())\n",
        "  word_list.append(query.replace('\\n', '').split())\n",
        "  word_list.append(title.replace('\\n', '').split())\n",
        "token_list = list(itertools.chain(*word_list))"
      ]
    },
    {
      "cell_type": "code",
      "execution_count": 94,
      "metadata": {
        "id": "drUzHk2u75tH"
      },
      "outputs": [],
      "source": [
        "from autocorrect import Speller\n",
        "\n",
        "class SpellCorrector():\n",
        "  def __init__(self) -> None:\n",
        "    self.speller = Speller(lang='en')\n",
        "  def initialize_tokens(self, tokens):\n",
        "    self.speller.nlp_data.update({token:1000 for token in tokens})\n",
        "  def run(self, dataframe):\n",
        "    dataframe[\"fixed_summary_text\"] = dataframe[\"text\"].apply(\n",
        "            lambda x: self.speller(x)\n",
        "        )\n",
        "    return dataframe[\"fixed_summary_text\"]"
      ]
    },
    {
      "cell_type": "code",
      "execution_count": 95,
      "metadata": {
        "id": "BdDSaEhj9JMV"
      },
      "outputs": [],
      "source": [
        "spell_enchanter = SpellCorrector()\n",
        "spell_enchanter.initialize_tokens(token_list)\n",
        "train_data[\"fixed_summary_text\"] = spell_enchanter.run(train_data)"
      ]
    },
    {
      "cell_type": "code",
      "execution_count": 96,
      "metadata": {
        "colab": {
          "base_uri": "https://localhost:8080/"
        },
        "id": "HAGW8zyP8BVL",
        "outputId": "c54a46b7-9949-418f-bbe7-703f8ec31314"
      },
      "outputs": [
        {
          "output_type": "stream",
          "name": "stderr",
          "text": [
            "[nltk_data] Downloading package punkt to /root/nltk_data...\n",
            "[nltk_data]   Package punkt is already up-to-date!\n"
          ]
        }
      ],
      "source": [
        "from nltk.util import ngrams\n",
        "from collections import Counter\n",
        "import nltk\n",
        "nltk.download('punkt')  # Download the required resources for tokenization\n",
        "\n",
        "def count_ngrams(text, n):\n",
        "  words = nltk.word_tokenize(text)\n",
        "  ngram_counts = Counter(ngrams(words, n))\n",
        "  return ngram_counts"
      ]
    },
    {
      "cell_type": "code",
      "execution_count": 97,
      "metadata": {
        "colab": {
          "base_uri": "https://localhost:8080/"
        },
        "id": "RtNSmpUJKFs4",
        "outputId": "91beb2f4-321d-4558-c506-04cdaa689210"
      },
      "outputs": [
        {
          "output_type": "stream",
          "name": "stderr",
          "text": [
            "[nltk_data] Downloading package stopwords to /root/nltk_data...\n",
            "[nltk_data]   Package stopwords is already up-to-date!\n",
            "[nltk_data] Downloading package wordnet to /root/nltk_data...\n",
            "[nltk_data]   Package wordnet is already up-to-date!\n"
          ]
        }
      ],
      "source": [
        "import string\n",
        "from nltk.stem import PorterStemmer\n",
        "from nltk.tokenize import word_tokenize\n",
        "from nltk.stem import WordNetLemmatizer\n",
        "import re\n",
        "import nltk\n",
        "from nltk.corpus import stopwords\n",
        "\n",
        "nltk.download('stopwords')\n",
        "nltk.download('wordnet')\n",
        "stop_words = stopwords.words('english')\n",
        "lemmatizer = WordNetLemmatizer()\n",
        "stemmer = PorterStemmer()\n",
        "\n",
        "def preprocessText(text, removal=True):\n",
        "    # replace newline with space\n",
        "    text = text.replace(\"\\n\", \" \")\n",
        "    text = text.replace('\\r', ' ')\n",
        "\n",
        "    # Normalize spaces around punctuation marks\n",
        "    text = re.sub(r\"[^A-Za-z0-9']\", r' ', text)\n",
        "    text = re.sub(r'\\s+', ' ', text)\n",
        "\n",
        "    # Replace curly apostrophe with straight single quote\n",
        "    text = text.replace('’', \"'\")\n",
        "\n",
        "    # Normalize spaces around punctuation marks\n",
        "    text = text.strip()\n",
        "\n",
        "    # lower case\n",
        "    text = text.lower()\n",
        "\n",
        "    if removal:\n",
        "      # split text\n",
        "      words = text.split()\n",
        "\n",
        "      # stop word removal\n",
        "      words = [w for w in words if not w in stop_words]\n",
        "\n",
        "      # stemming\n",
        "      # words = [stemmer.stem(w) for w in words]\n",
        "\n",
        "      # lemmatization\n",
        "      words = [lemmatizer.lemmatize(w) for w in words]\n",
        "\n",
        "      text = ' '.join(words)\n",
        "\n",
        "    return text"
      ]
    },
    {
      "cell_type": "code",
      "execution_count": 98,
      "metadata": {
        "id": "We1dhK1SBIvB"
      },
      "outputs": [],
      "source": [
        "del_columns = []\n",
        "\n",
        "for n in range(2,5):\n",
        "  col = f\"{n}grams-prompttext-count\"\n",
        "  prompt_data[col] = prompt_data.apply(lambda row: count_ngrams(row[\"prompt_text\"], n), axis=1)\n",
        "\n",
        "  del_columns.append(col)\n",
        "\n",
        "  col = f\"{n}grams-correctedtext-count\"\n",
        "  train_data[col] = train_data.apply(lambda row: count_ngrams(row[\"fixed_summary_text\"], n), axis=1)\n",
        "\n",
        "  del_columns.append(col)\n",
        "\n",
        "  col = f\"{n}grams-text-count\"\n",
        "  train_data[col] = train_data.apply(lambda row: count_ngrams(row[\"text\"], n), axis=1)\n",
        "\n",
        "  del_columns.append(col)\n",
        "\n",
        "prompt_data[\"prompt_text_length\"] = prompt_data[\"prompt_text\"].apply(len)\n",
        "prompt_data[\"prompt_text_preprocessed\"] = prompt_data[\"prompt_text\"].apply(lambda x: preprocessText(x))"
      ]
    },
    {
      "cell_type": "code",
      "execution_count": 99,
      "metadata": {
        "id": "E9Da7_C7bVPC"
      },
      "outputs": [],
      "source": [
        "training_data = train_data.merge(prompt_data, on='prompt_id')"
      ]
    },
    {
      "cell_type": "code",
      "execution_count": 100,
      "metadata": {
        "id": "rIGPTQuEBi67"
      },
      "outputs": [],
      "source": [
        "def count_cooccurring_ngrams(text, prompt_text):\n",
        "    cooccurring_count = sum((text & prompt_text).values())\n",
        "    return cooccurring_count"
      ]
    },
    {
      "cell_type": "code",
      "execution_count": 101,
      "metadata": {
        "id": "c3ussKX2DbKd"
      },
      "outputs": [],
      "source": [
        "for n in range(2,5):\n",
        "\n",
        "  text_col = f\"{n}grams-text-count\"\n",
        "  corre_col = f\"{n}grams-correctedtext-count\"\n",
        "  prompt_col = f\"{n}grams-prompttext-count\"\n",
        "\n",
        "  new_col=f\"{n}grams-correct-count\"\n",
        "  training_data[new_col] = training_data.apply(lambda row: count_cooccurring_ngrams(row[text_col], row[corre_col]), axis=1)\n",
        "\n",
        "  new_col=f\"{n}grams-cooccurrence-count\"\n",
        "  training_data[new_col] = training_data.apply(lambda row: count_cooccurring_ngrams(row[corre_col], row[prompt_col]), axis=1)"
      ]
    },
    {
      "cell_type": "code",
      "execution_count": 102,
      "metadata": {
        "id": "_tS7eqYaF4cs"
      },
      "outputs": [],
      "source": [
        "training_data.drop(columns=del_columns, inplace=True)"
      ]
    },
    {
      "cell_type": "code",
      "execution_count": 103,
      "metadata": {
        "id": "QinJ6t_lB46J"
      },
      "outputs": [],
      "source": [
        "training_data[\"text_length\"] = training_data[\"fixed_summary_text\"].apply(len)\n",
        "training_data[\"length_ratio\"] = training_data[\"text_length\"] / training_data[\"prompt_text_length\"]"
      ]
    },
    {
      "cell_type": "code",
      "execution_count": 104,
      "metadata": {
        "id": "4u4lHQtTCJX8"
      },
      "outputs": [],
      "source": [
        "# normalize the data taking into consideration the prompt title\n",
        "\n",
        "from sklearn.preprocessing import MinMaxScaler\n",
        "scaler = MinMaxScaler()\n",
        "\n",
        "def normalize_col(training_data, col):\n",
        "  # Create a new DataFrame to store the normalized text length values\n",
        "  normalized_df = pd.DataFrame()\n",
        "\n",
        "  # Group by 'prompt_title' and apply the normalization separately for each group\n",
        "  for title, group in training_data.groupby('prompt_title'):\n",
        "      normalized_text_length = scaler.fit_transform(group[[col]])\n",
        "      new_name = \"normalized_\"+col\n",
        "      group[new_name] = normalized_text_length\n",
        "      normalized_df = pd.concat([normalized_df, group])\n",
        "  training_data = normalized_df.copy()\n",
        "  return training_data"
      ]
    },
    {
      "cell_type": "code",
      "execution_count": 106,
      "metadata": {
        "colab": {
          "base_uri": "https://localhost:8080/"
        },
        "id": "7-GRGqEVbG2D",
        "outputId": "1d0a92a1-9018-4509-a19c-637f2f74cc2a"
      },
      "outputs": [
        {
          "output_type": "stream",
          "name": "stdout",
          "text": [
            "2023-08-25 11:32:17.079619: W tensorflow/compiler/tf2tensorrt/utils/py_utils.cc:38] TF-TRT Warning: Could not find TensorRT\n",
            "Collecting en-core-web-sm==3.6.0\n",
            "  Downloading https://github.com/explosion/spacy-models/releases/download/en_core_web_sm-3.6.0/en_core_web_sm-3.6.0-py3-none-any.whl (12.8 MB)\n",
            "\u001b[2K     \u001b[90m━━━━━━━━━━━━━━━━━━━━━━━━━━━━━━━━━━━━━━━━\u001b[0m \u001b[32m12.8/12.8 MB\u001b[0m \u001b[31m21.9 MB/s\u001b[0m eta \u001b[36m0:00:00\u001b[0m\n",
            "\u001b[?25hRequirement already satisfied: spacy<3.7.0,>=3.6.0 in /usr/local/lib/python3.10/dist-packages (from en-core-web-sm==3.6.0) (3.6.1)\n",
            "Requirement already satisfied: spacy-legacy<3.1.0,>=3.0.11 in /usr/local/lib/python3.10/dist-packages (from spacy<3.7.0,>=3.6.0->en-core-web-sm==3.6.0) (3.0.12)\n",
            "Requirement already satisfied: spacy-loggers<2.0.0,>=1.0.0 in /usr/local/lib/python3.10/dist-packages (from spacy<3.7.0,>=3.6.0->en-core-web-sm==3.6.0) (1.0.4)\n",
            "Requirement already satisfied: murmurhash<1.1.0,>=0.28.0 in /usr/local/lib/python3.10/dist-packages (from spacy<3.7.0,>=3.6.0->en-core-web-sm==3.6.0) (1.0.9)\n",
            "Requirement already satisfied: cymem<2.1.0,>=2.0.2 in /usr/local/lib/python3.10/dist-packages (from spacy<3.7.0,>=3.6.0->en-core-web-sm==3.6.0) (2.0.7)\n",
            "Requirement already satisfied: preshed<3.1.0,>=3.0.2 in /usr/local/lib/python3.10/dist-packages (from spacy<3.7.0,>=3.6.0->en-core-web-sm==3.6.0) (3.0.8)\n",
            "Requirement already satisfied: thinc<8.2.0,>=8.1.8 in /usr/local/lib/python3.10/dist-packages (from spacy<3.7.0,>=3.6.0->en-core-web-sm==3.6.0) (8.1.12)\n",
            "Requirement already satisfied: wasabi<1.2.0,>=0.9.1 in /usr/local/lib/python3.10/dist-packages (from spacy<3.7.0,>=3.6.0->en-core-web-sm==3.6.0) (1.1.2)\n",
            "Requirement already satisfied: srsly<3.0.0,>=2.4.3 in /usr/local/lib/python3.10/dist-packages (from spacy<3.7.0,>=3.6.0->en-core-web-sm==3.6.0) (2.4.7)\n",
            "Requirement already satisfied: catalogue<2.1.0,>=2.0.6 in /usr/local/lib/python3.10/dist-packages (from spacy<3.7.0,>=3.6.0->en-core-web-sm==3.6.0) (2.0.9)\n",
            "Requirement already satisfied: typer<0.10.0,>=0.3.0 in /usr/local/lib/python3.10/dist-packages (from spacy<3.7.0,>=3.6.0->en-core-web-sm==3.6.0) (0.9.0)\n",
            "Requirement already satisfied: pathy>=0.10.0 in /usr/local/lib/python3.10/dist-packages (from spacy<3.7.0,>=3.6.0->en-core-web-sm==3.6.0) (0.10.2)\n",
            "Requirement already satisfied: smart-open<7.0.0,>=5.2.1 in /usr/local/lib/python3.10/dist-packages (from spacy<3.7.0,>=3.6.0->en-core-web-sm==3.6.0) (6.3.0)\n",
            "Requirement already satisfied: tqdm<5.0.0,>=4.38.0 in /usr/local/lib/python3.10/dist-packages (from spacy<3.7.0,>=3.6.0->en-core-web-sm==3.6.0) (4.66.1)\n",
            "Requirement already satisfied: numpy>=1.15.0 in /usr/local/lib/python3.10/dist-packages (from spacy<3.7.0,>=3.6.0->en-core-web-sm==3.6.0) (1.23.5)\n",
            "Requirement already satisfied: requests<3.0.0,>=2.13.0 in /usr/local/lib/python3.10/dist-packages (from spacy<3.7.0,>=3.6.0->en-core-web-sm==3.6.0) (2.31.0)\n",
            "Requirement already satisfied: pydantic!=1.8,!=1.8.1,<3.0.0,>=1.7.4 in /usr/local/lib/python3.10/dist-packages (from spacy<3.7.0,>=3.6.0->en-core-web-sm==3.6.0) (2.2.0)\n",
            "Requirement already satisfied: jinja2 in /usr/local/lib/python3.10/dist-packages (from spacy<3.7.0,>=3.6.0->en-core-web-sm==3.6.0) (3.1.2)\n",
            "Requirement already satisfied: setuptools in /usr/local/lib/python3.10/dist-packages (from spacy<3.7.0,>=3.6.0->en-core-web-sm==3.6.0) (67.7.2)\n",
            "Requirement already satisfied: packaging>=20.0 in /usr/local/lib/python3.10/dist-packages (from spacy<3.7.0,>=3.6.0->en-core-web-sm==3.6.0) (23.1)\n",
            "Requirement already satisfied: langcodes<4.0.0,>=3.2.0 in /usr/local/lib/python3.10/dist-packages (from spacy<3.7.0,>=3.6.0->en-core-web-sm==3.6.0) (3.3.0)\n",
            "Requirement already satisfied: annotated-types>=0.4.0 in /usr/local/lib/python3.10/dist-packages (from pydantic!=1.8,!=1.8.1,<3.0.0,>=1.7.4->spacy<3.7.0,>=3.6.0->en-core-web-sm==3.6.0) (0.5.0)\n",
            "Requirement already satisfied: pydantic-core==2.6.0 in /usr/local/lib/python3.10/dist-packages (from pydantic!=1.8,!=1.8.1,<3.0.0,>=1.7.4->spacy<3.7.0,>=3.6.0->en-core-web-sm==3.6.0) (2.6.0)\n",
            "Requirement already satisfied: typing-extensions>=4.6.1 in /usr/local/lib/python3.10/dist-packages (from pydantic!=1.8,!=1.8.1,<3.0.0,>=1.7.4->spacy<3.7.0,>=3.6.0->en-core-web-sm==3.6.0) (4.7.1)\n",
            "Requirement already satisfied: charset-normalizer<4,>=2 in /usr/local/lib/python3.10/dist-packages (from requests<3.0.0,>=2.13.0->spacy<3.7.0,>=3.6.0->en-core-web-sm==3.6.0) (3.2.0)\n",
            "Requirement already satisfied: idna<4,>=2.5 in /usr/local/lib/python3.10/dist-packages (from requests<3.0.0,>=2.13.0->spacy<3.7.0,>=3.6.0->en-core-web-sm==3.6.0) (3.4)\n",
            "Requirement already satisfied: urllib3<3,>=1.21.1 in /usr/local/lib/python3.10/dist-packages (from requests<3.0.0,>=2.13.0->spacy<3.7.0,>=3.6.0->en-core-web-sm==3.6.0) (2.0.4)\n",
            "Requirement already satisfied: certifi>=2017.4.17 in /usr/local/lib/python3.10/dist-packages (from requests<3.0.0,>=2.13.0->spacy<3.7.0,>=3.6.0->en-core-web-sm==3.6.0) (2023.7.22)\n",
            "Requirement already satisfied: blis<0.8.0,>=0.7.8 in /usr/local/lib/python3.10/dist-packages (from thinc<8.2.0,>=8.1.8->spacy<3.7.0,>=3.6.0->en-core-web-sm==3.6.0) (0.7.10)\n",
            "Requirement already satisfied: confection<1.0.0,>=0.0.1 in /usr/local/lib/python3.10/dist-packages (from thinc<8.2.0,>=8.1.8->spacy<3.7.0,>=3.6.0->en-core-web-sm==3.6.0) (0.1.1)\n",
            "Requirement already satisfied: click<9.0.0,>=7.1.1 in /usr/local/lib/python3.10/dist-packages (from typer<0.10.0,>=0.3.0->spacy<3.7.0,>=3.6.0->en-core-web-sm==3.6.0) (8.1.7)\n",
            "Requirement already satisfied: MarkupSafe>=2.0 in /usr/local/lib/python3.10/dist-packages (from jinja2->spacy<3.7.0,>=3.6.0->en-core-web-sm==3.6.0) (2.1.3)\n",
            "\u001b[38;5;2m✔ Download and installation successful\u001b[0m\n",
            "You can now load the package via spacy.load('en_core_web_sm')\n"
          ]
        }
      ],
      "source": [
        "!python -m spacy download en_core_web_sm"
      ]
    },
    {
      "cell_type": "code",
      "execution_count": 107,
      "metadata": {
        "id": "UXK-3_5zaxUv"
      },
      "outputs": [],
      "source": [
        "import spacy\n",
        "nlp = spacy.load(\"en_core_web_sm\")"
      ]
    },
    {
      "cell_type": "code",
      "execution_count": 108,
      "metadata": {
        "id": "J1-Xcyj7ba9X"
      },
      "outputs": [],
      "source": [
        "def semantic_similarity(text1, text2, preprocess=False):\n",
        "  if preprocess:\n",
        "    text1 = preprocessText(text1)\n",
        "    text2 = preprocessText(text2)\n",
        "\n",
        "  embedding1 = nlp(text1)\n",
        "  embedding2 = nlp(text2)\n",
        "\n",
        "  return embedding1.similarity(embedding2)"
      ]
    },
    {
      "cell_type": "code",
      "execution_count": 109,
      "metadata": {
        "id": "8nUp40h_byvY",
        "colab": {
          "base_uri": "https://localhost:8080/"
        },
        "outputId": "714700de-6922-457a-b5a3-aaf36b9430fc"
      },
      "outputs": [
        {
          "output_type": "stream",
          "name": "stderr",
          "text": [
            "<ipython-input-108-34d691352d0d>:9: UserWarning: [W007] The model you're using has no word vectors loaded, so the result of the Doc.similarity method will be based on the tagger, parser and NER, which may not give useful similarity judgements. This may happen if you're using one of the small models, e.g. `en_core_web_sm`, which don't ship with word vectors and only use context-sensitive tensors. You can always add your own word vectors, or use one of the larger models instead if available.\n",
            "  return embedding1.similarity(embedding2)\n"
          ]
        }
      ],
      "source": [
        "training_data[\"text_preprocessed\"] = training_data[\"text\"].apply(lambda x: preprocessText(x, False))\n",
        "training_data[\"correctedtext_preprocessed\"] = training_data[\"fixed_summary_text\"].apply(lambda x: preprocessText(x, False))\n",
        "training_data[\"correctedtext_pre_no_stop\"] = training_data[\"fixed_summary_text\"].apply(lambda x: preprocessText(x))\n",
        "training_data[\"semantic_similarity\"] = training_data.apply(lambda row: semantic_similarity(row[\"correctedtext_pre_no_stop\"], row[\"prompt_text_preprocessed\"]), axis=1)"
      ]
    },
    {
      "cell_type": "code",
      "execution_count": 110,
      "metadata": {
        "id": "rU6i4AmS5TMk"
      },
      "outputs": [],
      "source": [
        "from spellchecker import SpellChecker\n",
        "\n",
        "spell = SpellChecker()\n",
        "\n",
        "spell.word_frequency.load_words(token_list)\n",
        "\n",
        "def misspelled_counter(text):\n",
        "  words = text.split()\n",
        "  misspelled = spell.unknown(words)\n",
        "  return len(misspelled)\n",
        "\n",
        "def misspelled(text):\n",
        "  words = text.split()\n",
        "  misspelled = spell.unknown(words)\n",
        "  return misspelled"
      ]
    },
    {
      "cell_type": "code",
      "execution_count": 111,
      "metadata": {
        "id": "EUGMSkkP7otG"
      },
      "outputs": [],
      "source": [
        "training_data[\"text_misspelled_counter\"] = training_data[\"text_preprocessed\"].apply(lambda x: misspelled_counter(x))\n",
        "training_data[\"corrected_misspelled_counter\"] = training_data[\"correctedtext_preprocessed\"].apply(lambda x: misspelled_counter(x))\n",
        "\n",
        "training_data[\"text_misspelled_words\"] = training_data[\"text_preprocessed\"].apply(lambda x: misspelled(x))\n",
        "training_data[\"corrected_misspelled_words\"] = training_data[\"correctedtext_preprocessed\"].apply(lambda x: misspelled(x))"
      ]
    },
    {
      "cell_type": "code",
      "execution_count": 120,
      "metadata": {
        "id": "Lo1-rdosKNzl"
      },
      "outputs": [],
      "source": [
        "normalize_cols = [\"text_length\", \"text_misspelled_counter\", \"corrected_misspelled_counter\", \"2grams-cooccurrence-count\", \"2grams-correct-count\",\n",
        "                  \"3grams-cooccurrence-count\", \"3grams-correct-count\", \"4grams-cooccurrence-count\", \"4grams-correct-count\"]\n",
        "for col in normalize_cols:\n",
        "  training_data = normalize_col(training_data, col)\n",
        "normalize_cols.extend(['prompt_text_length'])\n",
        "training_data.drop(columns=normalize_cols, inplace=True)"
      ]
    },
    {
      "cell_type": "code",
      "execution_count": 121,
      "metadata": {
        "id": "BBYSZOYRJMBm"
      },
      "outputs": [],
      "source": [
        "def add_row(df1, df2, preprocess=False):\n",
        "  row = df2.unique().tolist()[0]\n",
        "  if preprocess:\n",
        "    row = preprocessText(row)\n",
        "  combined_data = pd.concat([pd.Series([row]),df1.loc[:]]).reset_index(drop=True) #append row on the head of the dataframe\n",
        "  return combined_data"
      ]
    },
    {
      "cell_type": "code",
      "execution_count": 122,
      "metadata": {
        "id": "ahu8t9Uk80Rg"
      },
      "outputs": [],
      "source": [
        "from sklearn.feature_extraction.text import TfidfVectorizer\n",
        "\n",
        "# Group by 'prompt_id' and compute TF-IDF separately for each class\n",
        "tfidf_vectorizers = {}\n",
        "\n",
        "for class_id, group in training_data.groupby('prompt_id'):\n",
        "    #text_data = group['text'].apply(preprocessText)\n",
        "    text_data = group['correctedtext_pre_no_stop']\n",
        "\n",
        "    prompt_question_data = group['prompt_question']\n",
        "    prompt_title_data = group['prompt_title']\n",
        "    prompt_text_data = group['prompt_text_preprocessed']\n",
        "\n",
        "    # Concatenate the preprocessed data for TF-IDF calculation\n",
        "    combined_data = add_row(text_data, prompt_question_data, True)\n",
        "    combined_data = add_row(combined_data, prompt_title_data, True)\n",
        "    combined_data = add_row(combined_data, prompt_text_data)\n",
        "\n",
        "\n",
        "    # Compute TF-IDF\n",
        "    tfidf_vectorizer = TfidfVectorizer()\n",
        "    tfidf_matrix = tfidf_vectorizer.fit_transform(combined_data)\n",
        "    tfidf_vectorizers[class_id] = {'vectorizer': tfidf_vectorizer, 'matrix': tfidf_matrix}"
      ]
    },
    {
      "cell_type": "code",
      "execution_count": 123,
      "metadata": {
        "id": "kpv-v_PXQul0"
      },
      "outputs": [],
      "source": [
        "import sympy"
      ]
    },
    {
      "cell_type": "code",
      "execution_count": 124,
      "metadata": {
        "id": "EyNOYrhNbUw5"
      },
      "outputs": [],
      "source": [
        "karp_tfidf_scores = {}\n",
        "\n",
        "# Calculate TF-IDF scores for each document\n",
        "for class_id, group in training_data.groupby('prompt_id'):\n",
        "    tfidf_vectorizer = tfidf_vectorizers[class_id]['vectorizer']\n",
        "    tfidf_matrix = tfidf_vectorizers[class_id]['matrix']\n",
        "    tfidf_matrix = tfidf_matrix[3:] #remove first 3 rows f the matrix since they belongs to prompt_text, prompt_question, prompt_title\n",
        "\n",
        "    modulus = sympy.randprime(tfidf_matrix.shape[1]-100, tfidf_matrix.shape[1])\n",
        "\n",
        "    # Iterate through documents and calculate TF-IDF scores\n",
        "    for index, row in group.iterrows():\n",
        "        doc_tfidf = tfidf_matrix[index - group.index[0]].toarray()[0]\n",
        "\n",
        "        doc_tfidf = doc_tfidf[doc_tfidf>0]\n",
        "\n",
        "        # Calculate the average TF-IDF score for the document\n",
        "        #average_tfidf_score = sum(doc_tfidf) / len(doc_tfidf)\n",
        "\n",
        "        #average_tfidf_scores[index] = average_tfidf_score\n",
        "\n",
        "        gamma = 1e-2\n",
        "        single_tfidf_score = sum([t**(gamma*i) for i, t in enumerate(doc_tfidf)]) % modulus\n",
        "\n",
        "        karp_tfidf_scores[index] = single_tfidf_score"
      ]
    },
    {
      "cell_type": "code",
      "execution_count": 125,
      "metadata": {
        "id": "HDAAV1ZUghS_"
      },
      "outputs": [],
      "source": [
        "# Add the calculated average TF-IDF scores as a new column to the DataFrame\n",
        "training_data['karp_tfidf_scores'] = [karp_tfidf_scores[index] for index in training_data.index]"
      ]
    },
    {
      "cell_type": "code",
      "execution_count": 126,
      "metadata": {
        "id": "zXZd1CVDR2xG"
      },
      "outputs": [],
      "source": [
        "normalize_cols = [\"karp_tfidf_scores\"]\n",
        "for col in normalize_cols:\n",
        "  training_data = normalize_col(training_data, col)"
      ]
    },
    {
      "cell_type": "code",
      "execution_count": 127,
      "metadata": {
        "id": "TaaSZoXW1Wsq"
      },
      "outputs": [],
      "source": [
        "training_data.drop(\"karp_tfidf_scores\", axis=1, inplace=True)"
      ]
    },
    {
      "cell_type": "code",
      "execution_count": 128,
      "metadata": {
        "id": "COF-n9uiSKWp"
      },
      "outputs": [],
      "source": [
        "training_data.rename(columns={\"normalized_karp_tfidf_scores\": \"karp_tfidf_scores\"}, inplace=True)"
      ]
    },
    {
      "cell_type": "code",
      "execution_count": 129,
      "metadata": {
        "colab": {
          "base_uri": "https://localhost:8080/",
          "height": 654
        },
        "id": "AQeDeHrkR8BE",
        "outputId": "71526e91-56b7-418b-c1e6-4d27a8f58ef2"
      },
      "outputs": [
        {
          "output_type": "execute_result",
          "data": {
            "text/plain": [
              "     prompt_id                                               text   content  \\\n",
              "3099    3b9047  In Egypt, there were many occupations and soci...  3.128928   \n",
              "3100    3b9047  The highest class was Pharaohs these people we... -0.210614   \n",
              "3101    3b9047  The Egyptian society is really different from ...  0.205683   \n",
              "3102    3b9047  We have the gods and then Logan  and If Logan ... -1.547163   \n",
              "3103    3b9047  The social classes are different because they ... -0.066112   \n",
              "\n",
              "       wording                                 fixed_summary_text  \\\n",
              "3099  4.231226  In Egypt, there were many occupations and soci...   \n",
              "3100 -0.471415  The highest class was Pharaohs these people we...   \n",
              "3101  0.380538  The Egyptian society is really different from ...   \n",
              "3102 -1.461245  We have the gods and then Logan  and If Logan ...   \n",
              "3103 -0.715083  The social classes are different because they ...   \n",
              "\n",
              "                                        prompt_question  \\\n",
              "3099  In complete sentences, summarize the structure...   \n",
              "3100  In complete sentences, summarize the structure...   \n",
              "3101  In complete sentences, summarize the structure...   \n",
              "3102  In complete sentences, summarize the structure...   \n",
              "3103  In complete sentences, summarize the structure...   \n",
              "\n",
              "                   prompt_title  \\\n",
              "3099  Egyptian Social Structure   \n",
              "3100  Egyptian Social Structure   \n",
              "3101  Egyptian Social Structure   \n",
              "3102  Egyptian Social Structure   \n",
              "3103  Egyptian Social Structure   \n",
              "\n",
              "                                            prompt_text  \\\n",
              "3099  Egyptian society was structured like a pyramid...   \n",
              "3100  Egyptian society was structured like a pyramid...   \n",
              "3101  Egyptian society was structured like a pyramid...   \n",
              "3102  Egyptian society was structured like a pyramid...   \n",
              "3103  Egyptian society was structured like a pyramid...   \n",
              "\n",
              "                               prompt_text_preprocessed  length_ratio  ...  \\\n",
              "3099  egyptian society structured like pyramid top g...      0.411235  ...   \n",
              "3100  egyptian society structured like pyramid top g...      0.047161  ...   \n",
              "3101  egyptian society structured like pyramid top g...      0.135777  ...   \n",
              "3102  egyptian society structured like pyramid top g...      0.039652  ...   \n",
              "3103  egyptian society structured like pyramid top g...      0.131271  ...   \n",
              "\n",
              "      corrected_misspelled_words normalized_text_misspelled_counter  \\\n",
              "3099           {siris, peoples'}                           0.076923   \n",
              "3100                       {2nd}                           0.076923   \n",
              "3101                          {}                           0.076923   \n",
              "3102                        {wh}                           0.076923   \n",
              "3103                          {}                           0.000000   \n",
              "\n",
              "     normalized_corrected_misspelled_counter  \\\n",
              "3099                                0.166667   \n",
              "3100                                0.083333   \n",
              "3101                                0.000000   \n",
              "3102                                0.083333   \n",
              "3103                                0.000000   \n",
              "\n",
              "     normalized_2grams-cooccurrence-count  normalized_2grams-correct-count  \\\n",
              "3099                             0.138889                         0.349381   \n",
              "3100                             0.015152                         0.017882   \n",
              "3101                             0.020202                         0.089409   \n",
              "3102                             0.002525                         0.019257   \n",
              "3103                             0.103535                         0.103164   \n",
              "\n",
              "     normalized_3grams-cooccurrence-count normalized_3grams-correct-count  \\\n",
              "3099                             0.051151                        0.355062   \n",
              "3100                             0.012788                        0.020804   \n",
              "3101                             0.000000                        0.091540   \n",
              "3102                             0.000000                        0.022191   \n",
              "3103                             0.089514                        0.108183   \n",
              "\n",
              "      normalized_4grams-cooccurrence-count  normalized_4grams-correct-count  \\\n",
              "3099                              0.020725                         0.360335   \n",
              "3100                              0.010363                         0.023743   \n",
              "3101                              0.000000                         0.093575   \n",
              "3102                              0.000000                         0.025140   \n",
              "3103                              0.088083                         0.113128   \n",
              "\n",
              "      karp_tfidf_scores  \n",
              "3099           0.956539  \n",
              "3100           0.156903  \n",
              "3101           0.460427  \n",
              "3102           0.079536  \n",
              "3103           0.537596  \n",
              "\n",
              "[5 rows x 26 columns]"
            ],
            "text/html": [
              "\n",
              "  <div id=\"df-0dddb2a0-6c8e-4831-911d-0a7cd06fe479\" class=\"colab-df-container\">\n",
              "    <div>\n",
              "<style scoped>\n",
              "    .dataframe tbody tr th:only-of-type {\n",
              "        vertical-align: middle;\n",
              "    }\n",
              "\n",
              "    .dataframe tbody tr th {\n",
              "        vertical-align: top;\n",
              "    }\n",
              "\n",
              "    .dataframe thead th {\n",
              "        text-align: right;\n",
              "    }\n",
              "</style>\n",
              "<table border=\"1\" class=\"dataframe\">\n",
              "  <thead>\n",
              "    <tr style=\"text-align: right;\">\n",
              "      <th></th>\n",
              "      <th>prompt_id</th>\n",
              "      <th>text</th>\n",
              "      <th>content</th>\n",
              "      <th>wording</th>\n",
              "      <th>fixed_summary_text</th>\n",
              "      <th>prompt_question</th>\n",
              "      <th>prompt_title</th>\n",
              "      <th>prompt_text</th>\n",
              "      <th>prompt_text_preprocessed</th>\n",
              "      <th>length_ratio</th>\n",
              "      <th>...</th>\n",
              "      <th>corrected_misspelled_words</th>\n",
              "      <th>normalized_text_misspelled_counter</th>\n",
              "      <th>normalized_corrected_misspelled_counter</th>\n",
              "      <th>normalized_2grams-cooccurrence-count</th>\n",
              "      <th>normalized_2grams-correct-count</th>\n",
              "      <th>normalized_3grams-cooccurrence-count</th>\n",
              "      <th>normalized_3grams-correct-count</th>\n",
              "      <th>normalized_4grams-cooccurrence-count</th>\n",
              "      <th>normalized_4grams-correct-count</th>\n",
              "      <th>karp_tfidf_scores</th>\n",
              "    </tr>\n",
              "  </thead>\n",
              "  <tbody>\n",
              "    <tr>\n",
              "      <th>3099</th>\n",
              "      <td>3b9047</td>\n",
              "      <td>In Egypt, there were many occupations and soci...</td>\n",
              "      <td>3.128928</td>\n",
              "      <td>4.231226</td>\n",
              "      <td>In Egypt, there were many occupations and soci...</td>\n",
              "      <td>In complete sentences, summarize the structure...</td>\n",
              "      <td>Egyptian Social Structure</td>\n",
              "      <td>Egyptian society was structured like a pyramid...</td>\n",
              "      <td>egyptian society structured like pyramid top g...</td>\n",
              "      <td>0.411235</td>\n",
              "      <td>...</td>\n",
              "      <td>{siris, peoples'}</td>\n",
              "      <td>0.076923</td>\n",
              "      <td>0.166667</td>\n",
              "      <td>0.138889</td>\n",
              "      <td>0.349381</td>\n",
              "      <td>0.051151</td>\n",
              "      <td>0.355062</td>\n",
              "      <td>0.020725</td>\n",
              "      <td>0.360335</td>\n",
              "      <td>0.956539</td>\n",
              "    </tr>\n",
              "    <tr>\n",
              "      <th>3100</th>\n",
              "      <td>3b9047</td>\n",
              "      <td>The highest class was Pharaohs these people we...</td>\n",
              "      <td>-0.210614</td>\n",
              "      <td>-0.471415</td>\n",
              "      <td>The highest class was Pharaohs these people we...</td>\n",
              "      <td>In complete sentences, summarize the structure...</td>\n",
              "      <td>Egyptian Social Structure</td>\n",
              "      <td>Egyptian society was structured like a pyramid...</td>\n",
              "      <td>egyptian society structured like pyramid top g...</td>\n",
              "      <td>0.047161</td>\n",
              "      <td>...</td>\n",
              "      <td>{2nd}</td>\n",
              "      <td>0.076923</td>\n",
              "      <td>0.083333</td>\n",
              "      <td>0.015152</td>\n",
              "      <td>0.017882</td>\n",
              "      <td>0.012788</td>\n",
              "      <td>0.020804</td>\n",
              "      <td>0.010363</td>\n",
              "      <td>0.023743</td>\n",
              "      <td>0.156903</td>\n",
              "    </tr>\n",
              "    <tr>\n",
              "      <th>3101</th>\n",
              "      <td>3b9047</td>\n",
              "      <td>The Egyptian society is really different from ...</td>\n",
              "      <td>0.205683</td>\n",
              "      <td>0.380538</td>\n",
              "      <td>The Egyptian society is really different from ...</td>\n",
              "      <td>In complete sentences, summarize the structure...</td>\n",
              "      <td>Egyptian Social Structure</td>\n",
              "      <td>Egyptian society was structured like a pyramid...</td>\n",
              "      <td>egyptian society structured like pyramid top g...</td>\n",
              "      <td>0.135777</td>\n",
              "      <td>...</td>\n",
              "      <td>{}</td>\n",
              "      <td>0.076923</td>\n",
              "      <td>0.000000</td>\n",
              "      <td>0.020202</td>\n",
              "      <td>0.089409</td>\n",
              "      <td>0.000000</td>\n",
              "      <td>0.091540</td>\n",
              "      <td>0.000000</td>\n",
              "      <td>0.093575</td>\n",
              "      <td>0.460427</td>\n",
              "    </tr>\n",
              "    <tr>\n",
              "      <th>3102</th>\n",
              "      <td>3b9047</td>\n",
              "      <td>We have the gods and then Logan  and If Logan ...</td>\n",
              "      <td>-1.547163</td>\n",
              "      <td>-1.461245</td>\n",
              "      <td>We have the gods and then Logan  and If Logan ...</td>\n",
              "      <td>In complete sentences, summarize the structure...</td>\n",
              "      <td>Egyptian Social Structure</td>\n",
              "      <td>Egyptian society was structured like a pyramid...</td>\n",
              "      <td>egyptian society structured like pyramid top g...</td>\n",
              "      <td>0.039652</td>\n",
              "      <td>...</td>\n",
              "      <td>{wh}</td>\n",
              "      <td>0.076923</td>\n",
              "      <td>0.083333</td>\n",
              "      <td>0.002525</td>\n",
              "      <td>0.019257</td>\n",
              "      <td>0.000000</td>\n",
              "      <td>0.022191</td>\n",
              "      <td>0.000000</td>\n",
              "      <td>0.025140</td>\n",
              "      <td>0.079536</td>\n",
              "    </tr>\n",
              "    <tr>\n",
              "      <th>3103</th>\n",
              "      <td>3b9047</td>\n",
              "      <td>The social classes are different because they ...</td>\n",
              "      <td>-0.066112</td>\n",
              "      <td>-0.715083</td>\n",
              "      <td>The social classes are different because they ...</td>\n",
              "      <td>In complete sentences, summarize the structure...</td>\n",
              "      <td>Egyptian Social Structure</td>\n",
              "      <td>Egyptian society was structured like a pyramid...</td>\n",
              "      <td>egyptian society structured like pyramid top g...</td>\n",
              "      <td>0.131271</td>\n",
              "      <td>...</td>\n",
              "      <td>{}</td>\n",
              "      <td>0.000000</td>\n",
              "      <td>0.000000</td>\n",
              "      <td>0.103535</td>\n",
              "      <td>0.103164</td>\n",
              "      <td>0.089514</td>\n",
              "      <td>0.108183</td>\n",
              "      <td>0.088083</td>\n",
              "      <td>0.113128</td>\n",
              "      <td>0.537596</td>\n",
              "    </tr>\n",
              "  </tbody>\n",
              "</table>\n",
              "<p>5 rows × 26 columns</p>\n",
              "</div>\n",
              "    <div class=\"colab-df-buttons\">\n",
              "\n",
              "  <div class=\"colab-df-container\">\n",
              "    <button class=\"colab-df-convert\" onclick=\"convertToInteractive('df-0dddb2a0-6c8e-4831-911d-0a7cd06fe479')\"\n",
              "            title=\"Convert this dataframe to an interactive table.\"\n",
              "            style=\"display:none;\">\n",
              "\n",
              "  <svg xmlns=\"http://www.w3.org/2000/svg\" height=\"24px\" viewBox=\"0 -960 960 960\">\n",
              "    <path d=\"M120-120v-720h720v720H120Zm60-500h600v-160H180v160Zm220 220h160v-160H400v160Zm0 220h160v-160H400v160ZM180-400h160v-160H180v160Zm440 0h160v-160H620v160ZM180-180h160v-160H180v160Zm440 0h160v-160H620v160Z\"/>\n",
              "  </svg>\n",
              "    </button>\n",
              "\n",
              "  <style>\n",
              "    .colab-df-container {\n",
              "      display:flex;\n",
              "      gap: 12px;\n",
              "    }\n",
              "\n",
              "    .colab-df-convert {\n",
              "      background-color: #E8F0FE;\n",
              "      border: none;\n",
              "      border-radius: 50%;\n",
              "      cursor: pointer;\n",
              "      display: none;\n",
              "      fill: #1967D2;\n",
              "      height: 32px;\n",
              "      padding: 0 0 0 0;\n",
              "      width: 32px;\n",
              "    }\n",
              "\n",
              "    .colab-df-convert:hover {\n",
              "      background-color: #E2EBFA;\n",
              "      box-shadow: 0px 1px 2px rgba(60, 64, 67, 0.3), 0px 1px 3px 1px rgba(60, 64, 67, 0.15);\n",
              "      fill: #174EA6;\n",
              "    }\n",
              "\n",
              "    .colab-df-buttons div {\n",
              "      margin-bottom: 4px;\n",
              "    }\n",
              "\n",
              "    [theme=dark] .colab-df-convert {\n",
              "      background-color: #3B4455;\n",
              "      fill: #D2E3FC;\n",
              "    }\n",
              "\n",
              "    [theme=dark] .colab-df-convert:hover {\n",
              "      background-color: #434B5C;\n",
              "      box-shadow: 0px 1px 3px 1px rgba(0, 0, 0, 0.15);\n",
              "      filter: drop-shadow(0px 1px 2px rgba(0, 0, 0, 0.3));\n",
              "      fill: #FFFFFF;\n",
              "    }\n",
              "  </style>\n",
              "\n",
              "    <script>\n",
              "      const buttonEl =\n",
              "        document.querySelector('#df-0dddb2a0-6c8e-4831-911d-0a7cd06fe479 button.colab-df-convert');\n",
              "      buttonEl.style.display =\n",
              "        google.colab.kernel.accessAllowed ? 'block' : 'none';\n",
              "\n",
              "      async function convertToInteractive(key) {\n",
              "        const element = document.querySelector('#df-0dddb2a0-6c8e-4831-911d-0a7cd06fe479');\n",
              "        const dataTable =\n",
              "          await google.colab.kernel.invokeFunction('convertToInteractive',\n",
              "                                                    [key], {});\n",
              "        if (!dataTable) return;\n",
              "\n",
              "        const docLinkHtml = 'Like what you see? Visit the ' +\n",
              "          '<a target=\"_blank\" href=https://colab.research.google.com/notebooks/data_table.ipynb>data table notebook</a>'\n",
              "          + ' to learn more about interactive tables.';\n",
              "        element.innerHTML = '';\n",
              "        dataTable['output_type'] = 'display_data';\n",
              "        await google.colab.output.renderOutput(dataTable, element);\n",
              "        const docLink = document.createElement('div');\n",
              "        docLink.innerHTML = docLinkHtml;\n",
              "        element.appendChild(docLink);\n",
              "      }\n",
              "    </script>\n",
              "  </div>\n",
              "\n",
              "\n",
              "<div id=\"df-4688bcfc-a409-4469-813d-374db0e267b4\">\n",
              "  <button class=\"colab-df-quickchart\" onclick=\"quickchart('df-4688bcfc-a409-4469-813d-374db0e267b4')\"\n",
              "            title=\"Suggest charts.\"\n",
              "            style=\"display:none;\">\n",
              "\n",
              "<svg xmlns=\"http://www.w3.org/2000/svg\" height=\"24px\"viewBox=\"0 0 24 24\"\n",
              "     width=\"24px\">\n",
              "    <g>\n",
              "        <path d=\"M19 3H5c-1.1 0-2 .9-2 2v14c0 1.1.9 2 2 2h14c1.1 0 2-.9 2-2V5c0-1.1-.9-2-2-2zM9 17H7v-7h2v7zm4 0h-2V7h2v10zm4 0h-2v-4h2v4z\"/>\n",
              "    </g>\n",
              "</svg>\n",
              "  </button>\n",
              "\n",
              "<style>\n",
              "  .colab-df-quickchart {\n",
              "    background-color: #E8F0FE;\n",
              "    border: none;\n",
              "    border-radius: 50%;\n",
              "    cursor: pointer;\n",
              "    display: none;\n",
              "    fill: #1967D2;\n",
              "    height: 32px;\n",
              "    padding: 0 0 0 0;\n",
              "    width: 32px;\n",
              "  }\n",
              "\n",
              "  .colab-df-quickchart:hover {\n",
              "    background-color: #E2EBFA;\n",
              "    box-shadow: 0px 1px 2px rgba(60, 64, 67, 0.3), 0px 1px 3px 1px rgba(60, 64, 67, 0.15);\n",
              "    fill: #174EA6;\n",
              "  }\n",
              "\n",
              "  [theme=dark] .colab-df-quickchart {\n",
              "    background-color: #3B4455;\n",
              "    fill: #D2E3FC;\n",
              "  }\n",
              "\n",
              "  [theme=dark] .colab-df-quickchart:hover {\n",
              "    background-color: #434B5C;\n",
              "    box-shadow: 0px 1px 3px 1px rgba(0, 0, 0, 0.15);\n",
              "    filter: drop-shadow(0px 1px 2px rgba(0, 0, 0, 0.3));\n",
              "    fill: #FFFFFF;\n",
              "  }\n",
              "</style>\n",
              "\n",
              "  <script>\n",
              "    async function quickchart(key) {\n",
              "      const charts = await google.colab.kernel.invokeFunction(\n",
              "          'suggestCharts', [key], {});\n",
              "    }\n",
              "    (() => {\n",
              "      let quickchartButtonEl =\n",
              "        document.querySelector('#df-4688bcfc-a409-4469-813d-374db0e267b4 button');\n",
              "      quickchartButtonEl.style.display =\n",
              "        google.colab.kernel.accessAllowed ? 'block' : 'none';\n",
              "    })();\n",
              "  </script>\n",
              "</div>\n",
              "    </div>\n",
              "  </div>\n"
            ]
          },
          "metadata": {},
          "execution_count": 129
        }
      ],
      "source": [
        "training_data.head()"
      ]
    },
    {
      "cell_type": "code",
      "execution_count": 130,
      "metadata": {
        "colab": {
          "base_uri": "https://localhost:8080/"
        },
        "id": "HUvd9oYqB-tt",
        "outputId": "0b86589e-3111-4abb-f96b-2b40558b5c31"
      },
      "outputs": [
        {
          "output_type": "stream",
          "name": "stderr",
          "text": [
            "<ipython-input-130-3ecd97e2210c>:1: FutureWarning: The default value of numeric_only in DataFrame.corrwith is deprecated. In a future version, it will default to False. Select only valid columns or specify the value of numeric_only to silence this warning.\n",
            "  training_data.corrwith(training_data[\"content\"])\n"
          ]
        },
        {
          "output_type": "execute_result",
          "data": {
            "text/plain": [
              "content                                    1.000000\n",
              "wording                                    0.751380\n",
              "length_ratio                               0.777299\n",
              "normalized_text_length                     0.781834\n",
              "semantic_similarity                        0.537417\n",
              "normalized_text_misspelled_counter         0.275465\n",
              "normalized_corrected_misspelled_counter    0.194798\n",
              "normalized_2grams-cooccurrence-count       0.538317\n",
              "normalized_2grams-correct-count            0.778925\n",
              "normalized_3grams-cooccurrence-count       0.388556\n",
              "normalized_3grams-correct-count            0.773245\n",
              "normalized_4grams-cooccurrence-count       0.338966\n",
              "normalized_4grams-correct-count            0.768883\n",
              "karp_tfidf_scores                          0.837049\n",
              "dtype: float64"
            ]
          },
          "metadata": {},
          "execution_count": 130
        }
      ],
      "source": [
        "training_data.corrwith(training_data[\"content\"])"
      ]
    },
    {
      "cell_type": "code",
      "execution_count": 131,
      "metadata": {
        "colab": {
          "base_uri": "https://localhost:8080/"
        },
        "id": "yh4c8BlhCHwy",
        "outputId": "0a73b4dd-acbe-43b6-94e9-61b6ea028a43"
      },
      "outputs": [
        {
          "output_type": "stream",
          "name": "stderr",
          "text": [
            "<ipython-input-131-360ae61d465e>:1: FutureWarning: The default value of numeric_only in DataFrame.corrwith is deprecated. In a future version, it will default to False. Select only valid columns or specify the value of numeric_only to silence this warning.\n",
            "  training_data.corrwith(training_data[\"wording\"])\n"
          ]
        },
        {
          "output_type": "execute_result",
          "data": {
            "text/plain": [
              "content                                    0.751380\n",
              "wording                                    1.000000\n",
              "length_ratio                               0.546496\n",
              "normalized_text_length                     0.556227\n",
              "semantic_similarity                        0.288848\n",
              "normalized_text_misspelled_counter         0.218678\n",
              "normalized_corrected_misspelled_counter    0.172347\n",
              "normalized_2grams-cooccurrence-count       0.206662\n",
              "normalized_2grams-correct-count            0.552565\n",
              "normalized_3grams-cooccurrence-count       0.051939\n",
              "normalized_3grams-correct-count            0.546936\n",
              "normalized_4grams-cooccurrence-count       0.013728\n",
              "normalized_4grams-correct-count            0.544816\n",
              "karp_tfidf_scores                          0.566751\n",
              "dtype: float64"
            ]
          },
          "metadata": {},
          "execution_count": 131
        }
      ],
      "source": [
        "training_data.corrwith(training_data[\"wording\"])"
      ]
    },
    {
      "cell_type": "code",
      "execution_count": 132,
      "metadata": {
        "id": "h2_aoRzlIjN9"
      },
      "outputs": [],
      "source": [
        "training_data.to_csv('dataset.csv', index=False)"
      ]
    }
  ],
  "metadata": {
    "colab": {
      "provenance": [],
      "include_colab_link": true
    },
    "kernelspec": {
      "display_name": "Python 3",
      "name": "python3"
    },
    "language_info": {
      "name": "python"
    }
  },
  "nbformat": 4,
  "nbformat_minor": 0
}