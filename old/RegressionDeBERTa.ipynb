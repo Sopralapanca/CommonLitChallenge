{
 "nbformat": 4,
 "nbformat_minor": 0,
 "metadata": {
  "colab": {
   "provenance": [],
   "gpuType": "T4"
  },
  "kernelspec": {
   "name": "python3",
   "language": "python",
   "display_name": "Python 3"
  },
  "language_info": {
   "name": "python"
  },
  "accelerator": "GPU"
 },
 "cells": [
  {
   "cell_type": "code",
   "execution_count": 1,
   "metadata": {
    "colab": {
     "base_uri": "https://localhost:8080/"
    },
    "id": "ejXUJC9Kmxrq",
    "outputId": "669c2536-0356-47ac-a338-0d3efb5d9bb0"
   },
   "outputs": [
    {
     "output_type": "stream",
     "name": "stdout",
     "text": [
      "Cloning into 'CommonLitChallenge'...\n",
      "remote: Enumerating objects: 25, done.\u001B[K\n",
      "remote: Counting objects: 100% (25/25), done.\u001B[K\n",
      "remote: Compressing objects: 100% (21/21), done.\u001B[K\n",
      "remote: Total 25 (delta 2), reused 10 (delta 0), pack-reused 0\u001B[K\n",
      "Receiving objects: 100% (25/25), 1.15 MiB | 17.36 MiB/s, done.\n",
      "Resolving deltas: 100% (2/2), done.\n"
     ]
    }
   ],
   "source": [
    "#!git clone \"https://github.com/Sopralapanca/CommonLitChallenge.git\""
   ]
  },
  {
   "cell_type": "code",
   "source": [
    "import pandas as pd\n",
    "summaries_train_path = \"./data/summaries_train.csv\"\n",
    "prompt_train_path = \"./data/prompts_train.csv\"\n",
    "\n",
    "summaries_test_path = \"./data/summaries_test.csv\"\n",
    "prompt_test_path = \"./data/prompts_test.csv\"\n",
    "\n",
    "train_data = pd.read_csv(summaries_train_path, sep=',', index_col=0)\n",
    "prompt_data = pd.read_csv(prompt_train_path, sep=',', index_col=0)\n"
   ],
   "metadata": {
    "id": "oiieDzer5d9X",
    "ExecuteTime": {
     "end_time": "2023-08-16T09:07:07.943071300Z",
     "start_time": "2023-08-16T09:07:07.868431900Z"
    }
   },
   "execution_count": 1,
   "outputs": []
  },
  {
   "cell_type": "code",
   "source": [
    "len(train_data)"
   ],
   "metadata": {
    "colab": {
     "base_uri": "https://localhost:8080/"
    },
    "id": "AB1vl2_p5i13",
    "outputId": "573b4807-76a7-41fa-e0e9-d56aa24a88d3",
    "ExecuteTime": {
     "end_time": "2023-08-16T09:07:08.043193500Z",
     "start_time": "2023-08-16T09:07:07.940822300Z"
    }
   },
   "execution_count": 2,
   "outputs": [
    {
     "data": {
      "text/plain": "7165"
     },
     "execution_count": 2,
     "metadata": {},
     "output_type": "execute_result"
    }
   ]
  },
  {
   "cell_type": "code",
   "execution_count": 4,
   "outputs": [
    {
     "name": "stdout",
     "output_type": "stream",
     "text": [
      "/usr/bin/python\r\n"
     ]
    }
   ],
   "source": [
    "!which python"
   ],
   "metadata": {
    "collapsed": false,
    "ExecuteTime": {
     "end_time": "2023-08-16T09:50:45.743693Z",
     "start_time": "2023-08-16T09:50:45.595293900Z"
    }
   }
  },
  {
   "cell_type": "code",
   "execution_count": 3,
   "outputs": [
    {
     "name": "stdout",
     "output_type": "stream",
     "text": [
      "Package                       Version\r\n",
      "----------------------------- --------------------\r\n",
      "absl-py                       0.10.0\r\n",
      "AccessControl                 5.0\r\n",
      "acme                          1.1.0\r\n",
      "Acquisition                   4.7\r\n",
      "alabaster                     0.7.12\r\n",
      "alembic                       1.4.3\r\n",
      "allennlp                      1.3.0\r\n",
      "antlr4-python3-runtime        4.8\r\n",
      "anyio                         2.2.0\r\n",
      "argon2-cffi                   20.1.0\r\n",
      "astunparse                    1.6.3\r\n",
      "async-generator               1.10\r\n",
      "attrs                         19.3.0\r\n",
      "AuthEncoding                  4.2\r\n",
      "Automat                       0.8.0\r\n",
      "Babel                         2.9.0\r\n",
      "backcall                      0.2.0\r\n",
      "beautifulsoup4                4.9.3\r\n",
      "bleach                        3.3.0\r\n",
      "blis                          0.7.4\r\n",
      "boto3                         1.16.40\r\n",
      "botocore                      1.19.40\r\n",
      "BTrees                        4.7.2\r\n",
      "cachetools                    4.2.0\r\n",
      "catalogue                     1.0.0\r\n",
      "certbot                       0.40.0\r\n",
      "certbot-nginx                 0.40.0\r\n",
      "certifi                       2019.11.28\r\n",
      "certipy                       0.1.3\r\n",
      "cffi                          1.14.5\r\n",
      "Chameleon                     3.8.1\r\n",
      "chardet                       3.0.4\r\n",
      "clang                         5.0\r\n",
      "Click                         7.0\r\n",
      "colorama                      0.4.3\r\n",
      "coloredlogs                   15.0\r\n",
      "ConfigArgParse                0.13.0\r\n",
      "configobj                     5.0.6\r\n",
      "conllu                        4.2.2\r\n",
      "constantly                    15.1.0\r\n",
      "cryptography                  2.8\r\n",
      "cycler                        0.10.0\r\n",
      "cymem                         2.0.5\r\n",
      "Cython                        0.29.21\r\n",
      "DateTime                      4.3\r\n",
      "dbus-python                   1.2.16\r\n",
      "decorator                     4.4.2\r\n",
      "defusedxml                    0.7.1\r\n",
      "diaparser                     1.1.0\r\n",
      "dill                          0.3.3\r\n",
      "distro                        1.4.0\r\n",
      "distro-info                   0.23ubuntu1\r\n",
      "docformatter                  1.3.1\r\n",
      "DocumentTemplate              4.0\r\n",
      "docutils                      0.16\r\n",
      "emoji                         0.6.0\r\n",
      "entrypoints                   0.3\r\n",
      "ExtensionClass                4.5.0\r\n",
      "fail2ban                      0.11.1\r\n",
      "filelock                      3.0.12\r\n",
      "flake8                        3.8.4\r\n",
      "flake8-bugbear                20.11.1\r\n",
      "flaky                         3.7.0\r\n",
      "Flask                         1.1.2\r\n",
      "flatbuffers                   1.12\r\n",
      "future                        0.18.2\r\n",
      "fvcore                        0.1.2.post20201218\r\n",
      "gast                          0.4.0\r\n",
      "gensim                        3.8.3\r\n",
      "gevent                        20.9.0\r\n",
      "gitdb                         4.0.5\r\n",
      "gitdb2                        4.0.2\r\n",
      "GitPython                     3.1.11\r\n",
      "google                        3.0.0\r\n",
      "google-auth                   1.24.0\r\n",
      "google-auth-oauthlib          0.4.2\r\n",
      "google-pasta                  0.2.0\r\n",
      "googleapis-common-protos      1.53.0\r\n",
      "graphsurgeon                  0.4.6\r\n",
      "greenlet                      0.4.17\r\n",
      "grpcio                        1.39.0\r\n",
      "gunicorn                      20.0.4\r\n",
      "h5py                          3.1.0\r\n",
      "humanfriendly                 9.1\r\n",
      "hydra-core                    1.0.4\r\n",
      "hyperlink                     19.0.0\r\n",
      "idna                          2.8\r\n",
      "imageio                       2.9.0\r\n",
      "imagesize                     1.2.0\r\n",
      "importlib-resources           3.3.0\r\n",
      "incremental                   16.10.1\r\n",
      "iniconfig                     1.1.1\r\n",
      "iopath                        0.1.2\r\n",
      "iotop                         0.6\r\n",
      "ipykernel                     5.5.0\r\n",
      "ipython                       7.21.0\r\n",
      "ipython-genutils              0.2.0\r\n",
      "ipywidgets                    7.6.3\r\n",
      "itsdangerous                  1.1.0\r\n",
      "jedi                          0.18.0\r\n",
      "jieba                         0.42.1\r\n",
      "Jinja2                        2.11.3\r\n",
      "jmespath                      0.10.0\r\n",
      "joblib                        1.0.0\r\n",
      "josepy                        1.2.0\r\n",
      "json5                         0.9.5\r\n",
      "jsonlines                     1.2.0\r\n",
      "jsonnet                       0.17.0\r\n",
      "jsonpatch                     1.32\r\n",
      "jsonpickle                    1.4.2\r\n",
      "jsonpointer                   2.1\r\n",
      "jsonschema                    3.2.0\r\n",
      "jupyter                       1.0.0\r\n",
      "jupyter-client                6.1.11\r\n",
      "jupyter-console               6.2.0\r\n",
      "jupyter-core                  4.7.1\r\n",
      "jupyter-packaging             0.7.12\r\n",
      "jupyter-server                1.4.1\r\n",
      "jupyter-server-mathjax        0.2.3\r\n",
      "jupyter-telemetry             0.1.0\r\n",
      "jupyterhub                    1.3.0\r\n",
      "jupyterlab                    3.0.16\r\n",
      "jupyterlab-discovery          5.1.2\r\n",
      "jupyterlab-git                0.30.1\r\n",
      "jupyterlab-pygments           0.1.2\r\n",
      "jupyterlab-server             2.5.2\r\n",
      "jupyterlab-widgets            1.0.0\r\n",
      "keras                         2.6.0\r\n",
      "Keras-Preprocessing           1.1.2\r\n",
      "kiwisolver                    1.3.1\r\n",
      "libvirt-python                6.1.0\r\n",
      "Mako                          1.1.3\r\n",
      "Markdown                      3.3.3\r\n",
      "markdown-it-py                0.5.8\r\n",
      "MarkupSafe                    1.1.1\r\n",
      "matplotlib                    3.3.3\r\n",
      "mccabe                        0.6.1\r\n",
      "mistune                       0.8.4\r\n",
      "mock                          3.0.5\r\n",
      "MultiMapping                  4.1\r\n",
      "murmurhash                    1.0.5\r\n",
      "myst-parser                   0.12.10\r\n",
      "nbclassic                     0.2.6\r\n",
      "nbclient                      0.5.3\r\n",
      "nbconvert                     6.0.7\r\n",
      "nbdime                        3.1.0\r\n",
      "nbformat                      5.1.2\r\n",
      "nest-asyncio                  1.5.1\r\n",
      "netifaces                     0.10.4\r\n",
      "neuralnet                     0.2.0\r\n",
      "nltk                          3.5\r\n",
      "nodejs                        0.1.1\r\n",
      "notebook                      6.2.0\r\n",
      "nsscache                      0.39\r\n",
      "numpy                         1.19.5\r\n",
      "oath                          1.4.3\r\n",
      "oauthenticator                0.12.3\r\n",
      "oauthlib                      3.1.0\r\n",
      "omegaconf                     2.0.5\r\n",
      "opt-einsum                    3.3.0\r\n",
      "optional-django               0.1.0\r\n",
      "overrides                     3.1.0\r\n",
      "packaging                     20.9\r\n",
      "pamela                        1.0.0\r\n",
      "pandas                        1.1.5\r\n",
      "pandocfilters                 1.4.3\r\n",
      "parlai                        0.10.0\r\n",
      "parsedatetime                 2.4\r\n",
      "parso                         0.8.1\r\n",
      "pasta                         0.2\r\n",
      "PasteDeploy                   2.1.1\r\n",
      "pbr                           5.4.5\r\n",
      "Persistence                   3.0\r\n",
      "persistent                    4.6.4\r\n",
      "pexpect                       4.8.0\r\n",
      "pickleshare                   0.7.5\r\n",
      "Pillow                        8.0.1\r\n",
      "pip                           21.2.4\r\n",
      "plac                          1.1.3\r\n",
      "pluggy                        0.13.1\r\n",
      "portalocker                   2.0.0\r\n",
      "preshed                       3.0.5\r\n",
      "prometheus-client             0.9.0\r\n",
      "promise                       2.3\r\n",
      "prompt-toolkit                3.0.16\r\n",
      "protobuf                      3.14.0\r\n",
      "ptyprocess                    0.7.0\r\n",
      "py                            1.10.0\r\n",
      "py-gfm                        1.0.2\r\n",
      "py-readability-metrics        1.4.5\r\n",
      "py-rouge                      1.1\r\n",
      "pyasn1                        0.4.2\r\n",
      "pyasn1-modules                0.2.1\r\n",
      "pycodestyle                   2.6.0\r\n",
      "pycparser                     2.20\r\n",
      "pycurl                        7.43.0.2\r\n",
      "pydot                         1.4.2\r\n",
      "pyflakes                      2.2.0\r\n",
      "Pygments                      2.8.1\r\n",
      "PyGObject                     3.36.0\r\n",
      "PyHamcrest                    1.9.0\r\n",
      "PyICU                         2.4.2\r\n",
      "pyinotify                     0.9.6\r\n",
      "pymongo                       3.11.2\r\n",
      "pyOpenSSL                     19.0.0\r\n",
      "pyparsing                     2.4.6\r\n",
      "pyRFC3339                     1.1\r\n",
      "pyrsistent                    0.17.3\r\n",
      "pytest                        6.2.1\r\n",
      "pytest-datadir                1.3.1\r\n",
      "pytest-regressions            2.1.1\r\n",
      "python-apt                    2.0.1+ubuntu0.20.4.1\r\n",
      "python-dateutil               2.8.1\r\n",
      "python-editor                 1.0.4\r\n",
      "python-gettext                4.0\r\n",
      "python-json-logger            2.0.1\r\n",
      "python-ldap                   3.2.0\r\n",
      "pytz                          2019.3\r\n",
      "PyYAML                        5.3.1\r\n",
      "pyzmq                         22.0.3\r\n",
      "qtconsole                     5.0.1\r\n",
      "QtPy                          1.9.0\r\n",
      "readability                   0.3.1\r\n",
      "regex                         2020.11.13\r\n",
      "requests                      2.22.0\r\n",
      "requests-mock                 1.8.0\r\n",
      "requests-oauthlib             1.3.0\r\n",
      "requests-toolbelt             0.8.0\r\n",
      "requests-unixsocket           0.2.0\r\n",
      "RestrictedPython              5.1\r\n",
      "roman                         3.3\r\n",
      "rsa                           4.6\r\n",
      "ruamel.yaml                   0.16.13\r\n",
      "ruamel.yaml.clib              0.2.2\r\n",
      "s3transfer                    0.3.3\r\n",
      "sacremoses                    0.0.43\r\n",
      "scikit-learn                  0.23.2\r\n",
      "scipy                         1.4.1\r\n",
      "screen-resolution-extra       0.0.0\r\n",
      "seaborn                       0.11.1\r\n",
      "Send2Trash                    1.5.0\r\n",
      "sentencepiece                 0.1.94\r\n",
      "service-identity              18.1.0\r\n",
      "setuptools                    45.2.0\r\n",
      "sh                            1.14.1\r\n",
      "six                           1.15.0\r\n",
      "sklearn                       0.0\r\n",
      "smart-open                    4.0.1\r\n",
      "smmap                         3.0.4\r\n",
      "sniffio                       1.2.0\r\n",
      "snowballstemmer               2.0.0\r\n",
      "soupsieve                     2.1\r\n",
      "spacy                         2.3.5\r\n",
      "Sphinx                        3.4.0\r\n",
      "sphinx-autodoc-typehints      1.11.1\r\n",
      "sphinx-rtd-theme              0.5.0\r\n",
      "sphinxcontrib-applehelp       1.0.2\r\n",
      "sphinxcontrib-devhelp         1.0.2\r\n",
      "sphinxcontrib-htmlhelp        1.0.3\r\n",
      "sphinxcontrib-jsmath          1.0.1\r\n",
      "sphinxcontrib-qthelp          1.0.3\r\n",
      "sphinxcontrib-serializinghtml 1.1.4\r\n",
      "SQLAlchemy                    1.3.22\r\n",
      "srsly                         1.0.5\r\n",
      "stanza                        1.1.1\r\n",
      "subword-nmt                   0.3.7\r\n",
      "systemd-python                234\r\n",
      "tabulate                      0.8.7\r\n",
      "tensorboard                   2.6.0\r\n",
      "tensorboard-data-server       0.6.1\r\n",
      "tensorboard-plugin-wit        1.7.0\r\n",
      "tensorboardX                  2.1\r\n",
      "tensorflow                    2.6.0\r\n",
      "tensorflow-datasets           4.2.0\r\n",
      "tensorflow-estimator          2.6.0\r\n",
      "tensorflow-gpu                2.6.0\r\n",
      "tensorflow-hub                0.12.0\r\n",
      "tensorflow-metadata           0.28.0\r\n",
      "tensorflow-text               2.6.0\r\n",
      "termcolor                     1.1.0\r\n",
      "terminado                     0.9.2\r\n",
      "testpath                      0.4.4\r\n",
      "Theano                        1.0.5\r\n",
      "thinc                         7.4.5\r\n",
      "threadpoolctl                 2.1.0\r\n",
      "tk                            0.1.0\r\n",
      "tokenizers                    0.9.4\r\n",
      "toml                          0.10.2\r\n",
      "torch                         1.8.0\r\n",
      "torchfile                     0.1.0\r\n",
      "torchtext                     0.8.1\r\n",
      "tornado                       6.1\r\n",
      "tqdm                          4.54.1\r\n",
      "traitlets                     5.0.5\r\n",
      "transaction                   3.0.1\r\n",
      "transformers                  4.1.1\r\n",
      "Twisted                       18.9.0\r\n",
      "typing-extensions             3.7.4.3\r\n",
      "uff                           0.6.9\r\n",
      "ufw                           0.36\r\n",
      "unattended-upgrades           0.1\r\n",
      "Unidecode                     1.1.2\r\n",
      "untokenize                    0.1.1\r\n",
      "urllib3                       1.25.8\r\n",
      "visdom                        0.1.8.9\r\n",
      "waitress                      1.4.4\r\n",
      "wasabi                        0.8.0\r\n",
      "wcwidth                       0.2.5\r\n",
      "webencodings                  0.5.1\r\n",
      "WebOb                         1.8.6\r\n",
      "websocket                     0.2.1\r\n",
      "websocket-client              0.57.0\r\n",
      "websocket-server              0.4\r\n",
      "WebTest                       2.0.35\r\n",
      "Werkzeug                      1.0.1\r\n",
      "wheel                         0.36.2\r\n",
      "widgetsnbextension            3.5.1\r\n",
      "wrapt                         1.12.1\r\n",
      "WSGIProxy2                    0.4.6\r\n",
      "xkit                          0.0.0\r\n",
      "yacs                          0.1.8\r\n",
      "z3c.pt                        3.3.0\r\n",
      "zc.lockfile                   2.0\r\n",
      "ZConfig                       3.5.0\r\n",
      "zExceptions                   4.1\r\n",
      "zmq                           0.0.0\r\n",
      "ZODB                          5.6.0\r\n",
      "zodbpickle                    2.0.0\r\n",
      "zope.annotation               4.7.0\r\n",
      "zope.browser                  2.3\r\n",
      "zope.browsermenu              4.4\r\n",
      "zope.browserpage              4.4.0\r\n",
      "zope.browserresource          4.4\r\n",
      "zope.cachedescriptors         4.3.1\r\n",
      "zope.component                4.3.0\r\n",
      "zope.configuration            4.4.0\r\n",
      "zope.container                4.4.0\r\n",
      "zope.contentprovider          4.2.1\r\n",
      "zope.contenttype              4.5.0\r\n",
      "zope.deferredimport           4.3.1\r\n",
      "zope.deprecation              4.4.0\r\n",
      "zope.dottedname               4.3\r\n",
      "zope.event                    4.4\r\n",
      "zope.exceptions               4.4\r\n",
      "zope.filerepresentation       5.0.0\r\n",
      "zope.globalrequest            1.5\r\n",
      "zope.hookable                 5.0.0\r\n",
      "zope.i18n                     4.7.0\r\n",
      "zope.i18nmessageid            5.0.1\r\n",
      "zope.interface                4.7.1\r\n",
      "zope.lifecycleevent           4.3\r\n",
      "zope.location                 4.2\r\n",
      "zope.pagetemplate             4.5.0\r\n",
      "zope.processlifetime          2.3.0\r\n",
      "zope.proxy                    4.3.5\r\n",
      "zope.ptresource               4.2.0\r\n",
      "zope.publisher                5.2.1\r\n",
      "zope.schema                   6.0.0\r\n",
      "zope.security                 5.1.1\r\n",
      "zope.sequencesort             4.1.2\r\n",
      "zope.site                     4.4.0\r\n",
      "zope.size                     4.3\r\n",
      "zope.structuredtext           4.3\r\n",
      "zope.tal                      4.4\r\n",
      "zope.tales                    5.1\r\n",
      "zope.testbrowser              5.5.1\r\n",
      "zope.testing                  4.7\r\n",
      "zope.traversing               4.4.1\r\n",
      "zope.viewlet                  4.2.1\r\n",
      "\u001B[33mWARNING: You are using pip version 21.2.4; however, version 23.2.1 is available.\r\n",
      "You should consider upgrading via the '/usr/bin/python3 -m pip install --upgrade pip' command.\u001B[0m\r\n"
     ]
    }
   ],
   "source": [
    "!pip3 list"
   ],
   "metadata": {
    "collapsed": false,
    "ExecuteTime": {
     "end_time": "2023-08-16T09:41:05.918081Z",
     "start_time": "2023-08-16T09:41:03.433028900Z"
    }
   }
  },
  {
   "cell_type": "code",
   "source": [
    "len(prompt_data)"
   ],
   "metadata": {
    "colab": {
     "base_uri": "https://localhost:8080/"
    },
    "id": "O6QWQi_25max",
    "outputId": "43cda7ce-1e92-4b3b-98da-445f9790c1f0",
    "ExecuteTime": {
     "end_time": "2023-08-09T13:33:33.078979900Z",
     "start_time": "2023-08-09T13:33:32.981006700Z"
    }
   },
   "execution_count": 3,
   "outputs": [
    {
     "data": {
      "text/plain": "4"
     },
     "execution_count": 3,
     "metadata": {},
     "output_type": "execute_result"
    }
   ]
  },
  {
   "cell_type": "code",
   "source": [
    "train_data.head()"
   ],
   "metadata": {
    "colab": {
     "base_uri": "https://localhost:8080/",
     "height": 368
    },
    "id": "hGOZEU6Y5ojl",
    "outputId": "9ca7cb71-ab77-490d-fd21-2f308a4d3858",
    "ExecuteTime": {
     "end_time": "2023-08-09T13:33:33.210243900Z",
     "start_time": "2023-08-09T13:33:33.050891500Z"
    }
   },
   "execution_count": 4,
   "outputs": [
    {
     "data": {
      "text/plain": "             prompt_id                                               text  \\\nstudent_id                                                                  \n000e8c3c7ddb    814d6b  The third wave was an experimentto see how peo...   \n0020ae56ffbf    ebad26  They would rub it up with soda to make the sme...   \n004e978e639e    3b9047  In Egypt, there were many occupations and soci...   \n005ab0199905    3b9047  The highest class was Pharaohs these people we...   \n0070c9e7af47    814d6b  The Third Wave developed  rapidly because the ...   \n\n               content   wording  \nstudent_id                        \n000e8c3c7ddb  0.205683  0.380538  \n0020ae56ffbf -0.548304  0.506755  \n004e978e639e  3.128928  4.231226  \n005ab0199905 -0.210614 -0.471415  \n0070c9e7af47  3.272894  3.219757  ",
      "text/html": "<div>\n<style scoped>\n    .dataframe tbody tr th:only-of-type {\n        vertical-align: middle;\n    }\n\n    .dataframe tbody tr th {\n        vertical-align: top;\n    }\n\n    .dataframe thead th {\n        text-align: right;\n    }\n</style>\n<table border=\"1\" class=\"dataframe\">\n  <thead>\n    <tr style=\"text-align: right;\">\n      <th></th>\n      <th>prompt_id</th>\n      <th>text</th>\n      <th>content</th>\n      <th>wording</th>\n    </tr>\n    <tr>\n      <th>student_id</th>\n      <th></th>\n      <th></th>\n      <th></th>\n      <th></th>\n    </tr>\n  </thead>\n  <tbody>\n    <tr>\n      <th>000e8c3c7ddb</th>\n      <td>814d6b</td>\n      <td>The third wave was an experimentto see how peo...</td>\n      <td>0.205683</td>\n      <td>0.380538</td>\n    </tr>\n    <tr>\n      <th>0020ae56ffbf</th>\n      <td>ebad26</td>\n      <td>They would rub it up with soda to make the sme...</td>\n      <td>-0.548304</td>\n      <td>0.506755</td>\n    </tr>\n    <tr>\n      <th>004e978e639e</th>\n      <td>3b9047</td>\n      <td>In Egypt, there were many occupations and soci...</td>\n      <td>3.128928</td>\n      <td>4.231226</td>\n    </tr>\n    <tr>\n      <th>005ab0199905</th>\n      <td>3b9047</td>\n      <td>The highest class was Pharaohs these people we...</td>\n      <td>-0.210614</td>\n      <td>-0.471415</td>\n    </tr>\n    <tr>\n      <th>0070c9e7af47</th>\n      <td>814d6b</td>\n      <td>The Third Wave developed  rapidly because the ...</td>\n      <td>3.272894</td>\n      <td>3.219757</td>\n    </tr>\n  </tbody>\n</table>\n</div>"
     },
     "execution_count": 4,
     "metadata": {},
     "output_type": "execute_result"
    }
   ]
  },
  {
   "cell_type": "code",
   "source": [
    "prompt_data.head()"
   ],
   "metadata": {
    "colab": {
     "base_uri": "https://localhost:8080/",
     "height": 319
    },
    "id": "tLnjlZI-5stQ",
    "outputId": "91896be4-d691-42f1-e7c9-8b8abbb7cd0f",
    "ExecuteTime": {
     "end_time": "2023-08-09T13:33:33.277953900Z",
     "start_time": "2023-08-09T13:33:33.189797Z"
    }
   },
   "execution_count": 5,
   "outputs": [
    {
     "data": {
      "text/plain": "                                             prompt_question  \\\nprompt_id                                                      \n39c16e     Summarize at least 3 elements of an ideal trag...   \n3b9047     In complete sentences, summarize the structure...   \n814d6b     Summarize how the Third Wave developed over su...   \nebad26     Summarize the various ways the factory would u...   \n\n                        prompt_title  \\\nprompt_id                              \n39c16e                    On Tragedy   \n3b9047     Egyptian Social Structure   \n814d6b                The Third Wave   \nebad26       Excerpt from The Jungle   \n\n                                                 prompt_text  \nprompt_id                                                     \n39c16e     Chapter 13 \\r\\nAs the sequel to what has alrea...  \n3b9047     Egyptian society was structured like a pyramid...  \n814d6b     Background \\r\\nThe Third Wave experiment took ...  \nebad26     With one member trimming beef in a cannery, an...  ",
      "text/html": "<div>\n<style scoped>\n    .dataframe tbody tr th:only-of-type {\n        vertical-align: middle;\n    }\n\n    .dataframe tbody tr th {\n        vertical-align: top;\n    }\n\n    .dataframe thead th {\n        text-align: right;\n    }\n</style>\n<table border=\"1\" class=\"dataframe\">\n  <thead>\n    <tr style=\"text-align: right;\">\n      <th></th>\n      <th>prompt_question</th>\n      <th>prompt_title</th>\n      <th>prompt_text</th>\n    </tr>\n    <tr>\n      <th>prompt_id</th>\n      <th></th>\n      <th></th>\n      <th></th>\n    </tr>\n  </thead>\n  <tbody>\n    <tr>\n      <th>39c16e</th>\n      <td>Summarize at least 3 elements of an ideal trag...</td>\n      <td>On Tragedy</td>\n      <td>Chapter 13 \\r\\nAs the sequel to what has alrea...</td>\n    </tr>\n    <tr>\n      <th>3b9047</th>\n      <td>In complete sentences, summarize the structure...</td>\n      <td>Egyptian Social Structure</td>\n      <td>Egyptian society was structured like a pyramid...</td>\n    </tr>\n    <tr>\n      <th>814d6b</th>\n      <td>Summarize how the Third Wave developed over su...</td>\n      <td>The Third Wave</td>\n      <td>Background \\r\\nThe Third Wave experiment took ...</td>\n    </tr>\n    <tr>\n      <th>ebad26</th>\n      <td>Summarize the various ways the factory would u...</td>\n      <td>Excerpt from The Jungle</td>\n      <td>With one member trimming beef in a cannery, an...</td>\n    </tr>\n  </tbody>\n</table>\n</div>"
     },
     "execution_count": 5,
     "metadata": {},
     "output_type": "execute_result"
    }
   ]
  },
  {
   "cell_type": "code",
   "source": [
    "training_data = train_data.merge(prompt_data, on='prompt_id')\n",
    "training_data.head()"
   ],
   "metadata": {
    "id": "-wsIbktU5u-m",
    "ExecuteTime": {
     "end_time": "2023-08-09T13:33:33.608236500Z",
     "start_time": "2023-08-09T13:33:33.235311300Z"
    }
   },
   "execution_count": 6,
   "outputs": [
    {
     "data": {
      "text/plain": "  prompt_id                                               text   content  \\\n0    814d6b  The third wave was an experimentto see how peo...  0.205683   \n1    814d6b  The Third Wave developed  rapidly because the ...  3.272894   \n2    814d6b  The third wave only started as an experiment w...  0.205683   \n3    814d6b  The experimen was orginally about how even whe...  0.567975   \n4    814d6b  The third wave developed so quickly due to the... -0.910596   \n\n    wording                                    prompt_question  \\\n0  0.380538  Summarize how the Third Wave developed over su...   \n1  3.219757  Summarize how the Third Wave developed over su...   \n2  0.380538  Summarize how the Third Wave developed over su...   \n3  0.969062  Summarize how the Third Wave developed over su...   \n4 -0.081769  Summarize how the Third Wave developed over su...   \n\n     prompt_title                                        prompt_text  \n0  The Third Wave  Background \\r\\nThe Third Wave experiment took ...  \n1  The Third Wave  Background \\r\\nThe Third Wave experiment took ...  \n2  The Third Wave  Background \\r\\nThe Third Wave experiment took ...  \n3  The Third Wave  Background \\r\\nThe Third Wave experiment took ...  \n4  The Third Wave  Background \\r\\nThe Third Wave experiment took ...  ",
      "text/html": "<div>\n<style scoped>\n    .dataframe tbody tr th:only-of-type {\n        vertical-align: middle;\n    }\n\n    .dataframe tbody tr th {\n        vertical-align: top;\n    }\n\n    .dataframe thead th {\n        text-align: right;\n    }\n</style>\n<table border=\"1\" class=\"dataframe\">\n  <thead>\n    <tr style=\"text-align: right;\">\n      <th></th>\n      <th>prompt_id</th>\n      <th>text</th>\n      <th>content</th>\n      <th>wording</th>\n      <th>prompt_question</th>\n      <th>prompt_title</th>\n      <th>prompt_text</th>\n    </tr>\n  </thead>\n  <tbody>\n    <tr>\n      <th>0</th>\n      <td>814d6b</td>\n      <td>The third wave was an experimentto see how peo...</td>\n      <td>0.205683</td>\n      <td>0.380538</td>\n      <td>Summarize how the Third Wave developed over su...</td>\n      <td>The Third Wave</td>\n      <td>Background \\r\\nThe Third Wave experiment took ...</td>\n    </tr>\n    <tr>\n      <th>1</th>\n      <td>814d6b</td>\n      <td>The Third Wave developed  rapidly because the ...</td>\n      <td>3.272894</td>\n      <td>3.219757</td>\n      <td>Summarize how the Third Wave developed over su...</td>\n      <td>The Third Wave</td>\n      <td>Background \\r\\nThe Third Wave experiment took ...</td>\n    </tr>\n    <tr>\n      <th>2</th>\n      <td>814d6b</td>\n      <td>The third wave only started as an experiment w...</td>\n      <td>0.205683</td>\n      <td>0.380538</td>\n      <td>Summarize how the Third Wave developed over su...</td>\n      <td>The Third Wave</td>\n      <td>Background \\r\\nThe Third Wave experiment took ...</td>\n    </tr>\n    <tr>\n      <th>3</th>\n      <td>814d6b</td>\n      <td>The experimen was orginally about how even whe...</td>\n      <td>0.567975</td>\n      <td>0.969062</td>\n      <td>Summarize how the Third Wave developed over su...</td>\n      <td>The Third Wave</td>\n      <td>Background \\r\\nThe Third Wave experiment took ...</td>\n    </tr>\n    <tr>\n      <th>4</th>\n      <td>814d6b</td>\n      <td>The third wave developed so quickly due to the...</td>\n      <td>-0.910596</td>\n      <td>-0.081769</td>\n      <td>Summarize how the Third Wave developed over su...</td>\n      <td>The Third Wave</td>\n      <td>Background \\r\\nThe Third Wave experiment took ...</td>\n    </tr>\n  </tbody>\n</table>\n</div>"
     },
     "execution_count": 6,
     "metadata": {},
     "output_type": "execute_result"
    }
   ]
  },
  {
   "cell_type": "code",
   "source": [
    "summary_word_count = training_data['text'].apply(lambda x: len(x.split()))\n",
    "prompt_word_count = training_data['prompt_text'].apply(lambda x: len(x.split()))"
   ],
   "metadata": {
    "id": "C8SVIy7D6pXZ",
    "ExecuteTime": {
     "end_time": "2023-08-09T13:33:34.056258Z",
     "start_time": "2023-08-09T13:33:33.322644900Z"
    }
   },
   "execution_count": 7,
   "outputs": []
  },
  {
   "cell_type": "code",
   "source": [
    "import matplotlib.pyplot as plt\n",
    "import seaborn as sns"
   ],
   "metadata": {
    "id": "4XqQgywO69qV",
    "ExecuteTime": {
     "end_time": "2023-08-09T13:33:34.059242200Z",
     "start_time": "2023-08-09T13:33:34.010715700Z"
    }
   },
   "execution_count": 8,
   "outputs": []
  },
  {
   "cell_type": "code",
   "source": [
    "# Length of the summaries made by the students\n",
    "fig = plt.figure(figsize=[10,7])\n",
    "sns.histplot(summary_word_count, color=sns.xkcd_rgb['greenish teal'], kde=True)\n",
    "plt.show()"
   ],
   "metadata": {
    "colab": {
     "base_uri": "https://localhost:8080/",
     "height": 474
    },
    "id": "t8KrQsLT7Ctd",
    "outputId": "d6b570ac-510c-474f-f4bd-3cd813b893dd",
    "ExecuteTime": {
     "end_time": "2023-08-09T13:33:35.132797900Z",
     "start_time": "2023-08-09T13:33:34.024817Z"
    }
   },
   "execution_count": 9,
   "outputs": [
    {
     "data": {
      "text/plain": "<Figure size 720x504 with 1 Axes>",
      "image/png": "[encoded data removed]"
     },
     "metadata": {},
     "output_type": "display_data"
    }
   ]
  },
  {
   "cell_type": "code",
   "source": [
    "summary_word_count.max()"
   ],
   "metadata": {
    "colab": {
     "base_uri": "https://localhost:8080/"
    },
    "id": "Y9vbuV9dsUWx",
    "outputId": "75603809-3a4b-49cd-efb3-245d98b0ae87",
    "ExecuteTime": {
     "end_time": "2023-08-09T13:33:35.138559400Z",
     "start_time": "2023-08-09T13:33:35.132797900Z"
    }
   },
   "execution_count": 10,
   "outputs": [
    {
     "data": {
      "text/plain": "647"
     },
     "execution_count": 10,
     "metadata": {},
     "output_type": "execute_result"
    }
   ]
  },
  {
   "cell_type": "code",
   "source": [
    "# Sorting the DataFrame based on the length of strings in the 'text' column\n",
    "df_sorted = training_data.sort_values(by='text', key=lambda x: x.str.len(), ascending=False)\n",
    "df_sorted.head()"
   ],
   "metadata": {
    "colab": {
     "base_uri": "https://localhost:8080/",
     "height": 617
    },
    "id": "GIReAYzms0xP",
    "outputId": "cc265b01-b746-438b-d1cd-3620e4bee937",
    "ExecuteTime": {
     "end_time": "2023-08-09T13:33:35.384174400Z",
     "start_time": "2023-08-09T13:33:35.132797900Z"
    }
   },
   "execution_count": 11,
   "outputs": [
    {
     "data": {
      "text/plain": "     prompt_id                                               text   content  \\\n4765    3b9047  The base starts with farmers and slaves. The e...  3.021960   \n5820    39c16e  An ideal tragedy must have a relateable hero, ...  3.369991   \n6287    39c16e  Three elements of an ideal tragedy as describe...  2.807019   \n3701    3b9047  Ancient Egypt's system of government is differ...  3.160636   \n3897    3b9047  The text says that the social structure works ...  1.959735   \n\n       wording                                    prompt_question  \\\n4765  0.708060  In complete sentences, summarize the structure...   \n5820  3.897941  Summarize at least 3 elements of an ideal trag...   \n6287  1.923362  Summarize at least 3 elements of an ideal trag...   \n3701  3.346665  In complete sentences, summarize the structure...   \n3897  2.347619  In complete sentences, summarize the structure...   \n\n                   prompt_title  \\\n4765  Egyptian Social Structure   \n5820                 On Tragedy   \n6287                 On Tragedy   \n3701  Egyptian Social Structure   \n3897  Egyptian Social Structure   \n\n                                            prompt_text  \n4765  Egyptian society was structured like a pyramid...  \n5820  Chapter 13 \\r\\nAs the sequel to what has alrea...  \n6287  Chapter 13 \\r\\nAs the sequel to what has alrea...  \n3701  Egyptian society was structured like a pyramid...  \n3897  Egyptian society was structured like a pyramid...  ",
      "text/html": "<div>\n<style scoped>\n    .dataframe tbody tr th:only-of-type {\n        vertical-align: middle;\n    }\n\n    .dataframe tbody tr th {\n        vertical-align: top;\n    }\n\n    .dataframe thead th {\n        text-align: right;\n    }\n</style>\n<table border=\"1\" class=\"dataframe\">\n  <thead>\n    <tr style=\"text-align: right;\">\n      <th></th>\n      <th>prompt_id</th>\n      <th>text</th>\n      <th>content</th>\n      <th>wording</th>\n      <th>prompt_question</th>\n      <th>prompt_title</th>\n      <th>prompt_text</th>\n    </tr>\n  </thead>\n  <tbody>\n    <tr>\n      <th>4765</th>\n      <td>3b9047</td>\n      <td>The base starts with farmers and slaves. The e...</td>\n      <td>3.021960</td>\n      <td>0.708060</td>\n      <td>In complete sentences, summarize the structure...</td>\n      <td>Egyptian Social Structure</td>\n      <td>Egyptian society was structured like a pyramid...</td>\n    </tr>\n    <tr>\n      <th>5820</th>\n      <td>39c16e</td>\n      <td>An ideal tragedy must have a relateable hero, ...</td>\n      <td>3.369991</td>\n      <td>3.897941</td>\n      <td>Summarize at least 3 elements of an ideal trag...</td>\n      <td>On Tragedy</td>\n      <td>Chapter 13 \\r\\nAs the sequel to what has alrea...</td>\n    </tr>\n    <tr>\n      <th>6287</th>\n      <td>39c16e</td>\n      <td>Three elements of an ideal tragedy as describe...</td>\n      <td>2.807019</td>\n      <td>1.923362</td>\n      <td>Summarize at least 3 elements of an ideal trag...</td>\n      <td>On Tragedy</td>\n      <td>Chapter 13 \\r\\nAs the sequel to what has alrea...</td>\n    </tr>\n    <tr>\n      <th>3701</th>\n      <td>3b9047</td>\n      <td>Ancient Egypt's system of government is differ...</td>\n      <td>3.160636</td>\n      <td>3.346665</td>\n      <td>In complete sentences, summarize the structure...</td>\n      <td>Egyptian Social Structure</td>\n      <td>Egyptian society was structured like a pyramid...</td>\n    </tr>\n    <tr>\n      <th>3897</th>\n      <td>3b9047</td>\n      <td>The text says that the social structure works ...</td>\n      <td>1.959735</td>\n      <td>2.347619</td>\n      <td>In complete sentences, summarize the structure...</td>\n      <td>Egyptian Social Structure</td>\n      <td>Egyptian society was structured like a pyramid...</td>\n    </tr>\n  </tbody>\n</table>\n</div>"
     },
     "execution_count": 11,
     "metadata": {},
     "output_type": "execute_result"
    }
   ]
  },
  {
   "cell_type": "code",
   "source": [
    "# length of the full chapter\n",
    "fig = plt.figure(figsize=[10,7])\n",
    "sns.histplot(prompt_word_count, kde=True)\n",
    "plt.show()"
   ],
   "metadata": {
    "colab": {
     "base_uri": "https://localhost:8080/",
     "height": 469
    },
    "id": "I0JMfPhg7LmH",
    "outputId": "8130e7c0-b308-461d-9a96-3d52e0f1e77e",
    "ExecuteTime": {
     "end_time": "2023-08-09T13:33:36.112717600Z",
     "start_time": "2023-08-09T13:33:35.209938700Z"
    }
   },
   "execution_count": 12,
   "outputs": [
    {
     "data": {
      "text/plain": "<Figure size 720x504 with 1 Axes>",
      "image/png": "[encoded data removed]"
     },
     "metadata": {},
     "output_type": "display_data"
    }
   ]
  },
  {
   "cell_type": "markdown",
   "source": [
    "# Preprocessing dataset"
   ],
   "metadata": {
    "id": "pja0EIrQ4pD4"
   }
  },
  {
   "cell_type": "code",
   "source": [
    "from spacy.lang.en import English\n",
    "import spacy\n",
    "\n",
    "def preprocessText(text):\n",
    "    try:\n",
    "        # replace newline with space\n",
    "        text = text.replace(\"\\n\", \" \")\n",
    "        # split text\n",
    "        words = text.split()\n",
    "\n",
    "        # stop word removal\n",
    "        stop_words = spacy.lang.en.stop_words.STOP_WORDS\n",
    "        words = [w for w in words if not w in stop_words]\n",
    "        # return pre-processed paragraph text\n",
    "        text = ' '.join(words)\n",
    "        return text\n",
    "    except:\n",
    "        return text"
   ],
   "metadata": {
    "id": "ftzoflTX4mZr",
    "ExecuteTime": {
     "end_time": "2023-08-09T13:33:36.595155400Z",
     "start_time": "2023-08-09T13:33:36.110559200Z"
    }
   },
   "execution_count": 13,
   "outputs": []
  },
  {
   "cell_type": "code",
   "source": [
    "string_columns = [\"text\",\"prompt_question\",\"prompt_title\",\"prompt_text\"]\n",
    "\n",
    "for col in string_columns:\n",
    "  # apply preprocessText function to each text column in the dfTrain dataframe\n",
    "  training_data[col] = training_data[col].apply(lambda x: preprocessText(x))\n",
    "\n",
    "training_data.head()"
   ],
   "metadata": {
    "colab": {
     "base_uri": "https://localhost:8080/",
     "height": 634
    },
    "id": "vgFhPf9k54Tb",
    "outputId": "0d824bd9-c489-48c4-e20e-82fbe9d037e6",
    "ExecuteTime": {
     "end_time": "2023-08-09T13:33:38.534699400Z",
     "start_time": "2023-08-09T13:33:36.573752300Z"
    }
   },
   "execution_count": 14,
   "outputs": [
    {
     "data": {
      "text/plain": "  prompt_id                                               text   content  \\\n0    814d6b  The wave experimentto people reacted new leade...  0.205683   \n1    814d6b  The Third Wave developed rapidly students genu...  3.272894   \n2    814d6b  The wave started experiment class slowly sprea...  0.205683   \n3    814d6b  The experimen orginally terrible thngs happeni...  0.567975   \n4    814d6b  The wave developed quickly students particip t... -0.910596   \n\n    wording                                    prompt_question  \\\n0  0.380538  Summarize Third Wave developed short period ti...   \n1  3.219757  Summarize Third Wave developed short period ti...   \n2  0.380538  Summarize Third Wave developed short period ti...   \n3  0.969062  Summarize Third Wave developed short period ti...   \n4 -0.081769  Summarize Third Wave developed short period ti...   \n\n     prompt_title                                        prompt_text  \n0  The Third Wave  Background The Third Wave experiment took plac...  \n1  The Third Wave  Background The Third Wave experiment took plac...  \n2  The Third Wave  Background The Third Wave experiment took plac...  \n3  The Third Wave  Background The Third Wave experiment took plac...  \n4  The Third Wave  Background The Third Wave experiment took plac...  ",
      "text/html": "<div>\n<style scoped>\n    .dataframe tbody tr th:only-of-type {\n        vertical-align: middle;\n    }\n\n    .dataframe tbody tr th {\n        vertical-align: top;\n    }\n\n    .dataframe thead th {\n        text-align: right;\n    }\n</style>\n<table border=\"1\" class=\"dataframe\">\n  <thead>\n    <tr style=\"text-align: right;\">\n      <th></th>\n      <th>prompt_id</th>\n      <th>text</th>\n      <th>content</th>\n      <th>wording</th>\n      <th>prompt_question</th>\n      <th>prompt_title</th>\n      <th>prompt_text</th>\n    </tr>\n  </thead>\n  <tbody>\n    <tr>\n      <th>0</th>\n      <td>814d6b</td>\n      <td>The wave experimentto people reacted new leade...</td>\n      <td>0.205683</td>\n      <td>0.380538</td>\n      <td>Summarize Third Wave developed short period ti...</td>\n      <td>The Third Wave</td>\n      <td>Background The Third Wave experiment took plac...</td>\n    </tr>\n    <tr>\n      <th>1</th>\n      <td>814d6b</td>\n      <td>The Third Wave developed rapidly students genu...</td>\n      <td>3.272894</td>\n      <td>3.219757</td>\n      <td>Summarize Third Wave developed short period ti...</td>\n      <td>The Third Wave</td>\n      <td>Background The Third Wave experiment took plac...</td>\n    </tr>\n    <tr>\n      <th>2</th>\n      <td>814d6b</td>\n      <td>The wave started experiment class slowly sprea...</td>\n      <td>0.205683</td>\n      <td>0.380538</td>\n      <td>Summarize Third Wave developed short period ti...</td>\n      <td>The Third Wave</td>\n      <td>Background The Third Wave experiment took plac...</td>\n    </tr>\n    <tr>\n      <th>3</th>\n      <td>814d6b</td>\n      <td>The experimen orginally terrible thngs happeni...</td>\n      <td>0.567975</td>\n      <td>0.969062</td>\n      <td>Summarize Third Wave developed short period ti...</td>\n      <td>The Third Wave</td>\n      <td>Background The Third Wave experiment took plac...</td>\n    </tr>\n    <tr>\n      <th>4</th>\n      <td>814d6b</td>\n      <td>The wave developed quickly students particip t...</td>\n      <td>-0.910596</td>\n      <td>-0.081769</td>\n      <td>Summarize Third Wave developed short period ti...</td>\n      <td>The Third Wave</td>\n      <td>Background The Third Wave experiment took plac...</td>\n    </tr>\n  </tbody>\n</table>\n</div>"
     },
     "execution_count": 14,
     "metadata": {},
     "output_type": "execute_result"
    }
   ]
  },
  {
   "cell_type": "code",
   "source": [
    "summary_word_count = training_data['text'].apply(lambda x: len(x.split()))\n",
    "prompt_word_count = training_data['prompt_text'].apply(lambda x: len(x.split()))\n",
    "prompt_question_word_count = training_data['prompt_question'].apply(lambda x: len(x.split()))\n",
    "prompt_title_word_count = training_data['prompt_title'].apply(lambda x: len(x.split()))"
   ],
   "metadata": {
    "id": "HBrjrjP37TF8",
    "ExecuteTime": {
     "end_time": "2023-08-09T13:33:38.904704100Z",
     "start_time": "2023-08-09T13:33:38.525105800Z"
    }
   },
   "execution_count": 15,
   "outputs": []
  },
  {
   "cell_type": "code",
   "source": [
    "# Length of the summaries made by the students\n",
    "fig = plt.figure(figsize=[10,7])\n",
    "sns.histplot(summary_word_count, color=sns.xkcd_rgb['greenish teal'], kde=True)\n",
    "plt.show()"
   ],
   "metadata": {
    "colab": {
     "base_uri": "https://localhost:8080/",
     "height": 474
    },
    "outputId": "3d35070d-a846-4f0b-824d-0f01c6cfc013",
    "id": "EWxGGgNa7TF9",
    "ExecuteTime": {
     "end_time": "2023-08-09T13:33:40.057335600Z",
     "start_time": "2023-08-09T13:33:38.901909600Z"
    }
   },
   "execution_count": 16,
   "outputs": [
    {
     "data": {
      "text/plain": "<Figure size 720x504 with 1 Axes>",
      "image/png": "[encoded data removed]"
     },
     "metadata": {},
     "output_type": "display_data"
    }
   ]
  },
  {
   "cell_type": "code",
   "source": [
    "fig = plt.figure(figsize=[10,7])\n",
    "sns.histplot(prompt_word_count, kde=True)\n",
    "plt.show()"
   ],
   "metadata": {
    "colab": {
     "base_uri": "https://localhost:8080/",
     "height": 469
    },
    "id": "VlZ0gx7l7XME",
    "outputId": "61fcb363-fcbd-443d-c5e0-fca67f13efe7",
    "ExecuteTime": {
     "end_time": "2023-08-09T13:33:40.668593800Z",
     "start_time": "2023-08-09T13:33:40.057335600Z"
    }
   },
   "execution_count": 17,
   "outputs": [
    {
     "data": {
      "text/plain": "<Figure size 720x504 with 1 Axes>",
      "image/png": "[encoded data removed]"
     },
     "metadata": {},
     "output_type": "display_data"
    }
   ]
  },
  {
   "cell_type": "code",
   "source": [
    "summary_word_count.max()"
   ],
   "metadata": {
    "colab": {
     "base_uri": "https://localhost:8080/"
    },
    "id": "5ArU5B7g7t9R",
    "outputId": "0e69c503-7547-4fe2-b26b-e73e2c80ef2a",
    "ExecuteTime": {
     "end_time": "2023-08-09T13:33:40.668593800Z",
     "start_time": "2023-08-09T13:33:40.652964100Z"
    }
   },
   "execution_count": 18,
   "outputs": [
    {
     "data": {
      "text/plain": "349"
     },
     "execution_count": 18,
     "metadata": {},
     "output_type": "execute_result"
    }
   ]
  },
  {
   "cell_type": "code",
   "source": [
    "prompt_word_count.max()"
   ],
   "metadata": {
    "colab": {
     "base_uri": "https://localhost:8080/"
    },
    "id": "AeMwW1W_004_",
    "outputId": "0928bf94-c704-430d-94ff-2174aa84b651",
    "ExecuteTime": {
     "end_time": "2023-08-09T13:33:40.875674Z",
     "start_time": "2023-08-09T13:33:40.668593800Z"
    }
   },
   "execution_count": 19,
   "outputs": [
    {
     "data": {
      "text/plain": "405"
     },
     "execution_count": 19,
     "metadata": {},
     "output_type": "execute_result"
    }
   ]
  },
  {
   "cell_type": "code",
   "source": [
    "prompt_question_word_count.max()"
   ],
   "metadata": {
    "colab": {
     "base_uri": "https://localhost:8080/"
    },
    "id": "Fn4anErNVMBL",
    "outputId": "d73d5195-6653-4569-cece-e072845e1bba",
    "ExecuteTime": {
     "end_time": "2023-08-09T13:33:41.000902300Z",
     "start_time": "2023-08-09T13:33:40.869166400Z"
    }
   },
   "execution_count": 20,
   "outputs": [
    {
     "data": {
      "text/plain": "18"
     },
     "execution_count": 20,
     "metadata": {},
     "output_type": "execute_result"
    }
   ]
  },
  {
   "cell_type": "code",
   "source": [
    "prompt_title_word_count.max()"
   ],
   "metadata": {
    "colab": {
     "base_uri": "https://localhost:8080/"
    },
    "id": "afRoo1U5VSx6",
    "outputId": "37f50616-9ee7-4512-a491-5b11326dfe8d",
    "ExecuteTime": {
     "end_time": "2023-08-09T13:33:41.038669300Z",
     "start_time": "2023-08-09T13:33:40.969452800Z"
    }
   },
   "execution_count": 21,
   "outputs": [
    {
     "data": {
      "text/plain": "3"
     },
     "execution_count": 21,
     "metadata": {},
     "output_type": "execute_result"
    }
   ]
  },
  {
   "cell_type": "code",
   "source": [
    "#MAX_LEN = summary_word_count.max() + prompt_word_count.max() + prompt_question_word_count.max() + prompt_title_word_count.max() + 3 # 3 for the separators\n",
    "MAX_LEN = 950"
   ],
   "metadata": {
    "id": "PIBA9yZQVrDX",
    "ExecuteTime": {
     "end_time": "2023-08-09T13:33:41.128215600Z",
     "start_time": "2023-08-09T13:33:41.026176500Z"
    }
   },
   "execution_count": 22,
   "outputs": []
  },
  {
   "cell_type": "markdown",
   "source": [
    "# PyTorch Dataset"
   ],
   "metadata": {
    "id": "UOp7cFty8dFN"
   }
  },
  {
   "cell_type": "code",
   "source": [
    "from transformers import AutoConfig, AutoTokenizer, AutoModel\n",
    "## Model Configurations\n",
    "MODEL_NAME = 'microsoft/deberta-v3-base'\n",
    "\n",
    "config = AutoConfig.from_pretrained(MODEL_NAME) ## Configuration loaded from AutoConfig\n",
    "tokenizer = AutoTokenizer.from_pretrained(MODEL_NAME) ## Tokenizer loaded from AutoTokenizer"
   ],
   "metadata": {
    "id": "hXA2FOBS_suB",
    "colab": {
     "base_uri": "https://localhost:8080/"
    },
    "outputId": "678a4174-de5d-4c67-d771-31ae06535e59",
    "ExecuteTime": {
     "end_time": "2023-08-09T13:33:48.504535300Z",
     "start_time": "2023-08-09T13:33:42.690696100Z"
    }
   },
   "execution_count": 23,
   "outputs": [
    {
     "ename": "KeyError",
     "evalue": "'deberta-v2'",
     "output_type": "error",
     "traceback": [
      "\u001B[0;31m---------------------------------------------------------------------------\u001B[0m",
      "\u001B[0;31mKeyError\u001B[0m                                  Traceback (most recent call last)",
      "\u001B[0;32m<ipython-input-23-62561c3f4e7b>\u001B[0m in \u001B[0;36m<module>\u001B[0;34m\u001B[0m\n\u001B[1;32m      3\u001B[0m \u001B[0mMODEL_NAME\u001B[0m \u001B[0;34m=\u001B[0m \u001B[0;34m'microsoft/deberta-v3-base'\u001B[0m\u001B[0;34m\u001B[0m\u001B[0;34m\u001B[0m\u001B[0m\n\u001B[1;32m      4\u001B[0m \u001B[0;34m\u001B[0m\u001B[0m\n\u001B[0;32m----> 5\u001B[0;31m \u001B[0mconfig\u001B[0m \u001B[0;34m=\u001B[0m \u001B[0mAutoConfig\u001B[0m\u001B[0;34m.\u001B[0m\u001B[0mfrom_pretrained\u001B[0m\u001B[0;34m(\u001B[0m\u001B[0mMODEL_NAME\u001B[0m\u001B[0;34m)\u001B[0m \u001B[0;31m## Configuration loaded from AutoConfig\u001B[0m\u001B[0;34m\u001B[0m\u001B[0;34m\u001B[0m\u001B[0m\n\u001B[0m\u001B[1;32m      6\u001B[0m \u001B[0mtokenizer\u001B[0m \u001B[0;34m=\u001B[0m \u001B[0mAutoTokenizer\u001B[0m\u001B[0;34m.\u001B[0m\u001B[0mfrom_pretrained\u001B[0m\u001B[0;34m(\u001B[0m\u001B[0mMODEL_NAME\u001B[0m\u001B[0;34m)\u001B[0m \u001B[0;31m## Tokenizer loaded from AutoTokenizer\u001B[0m\u001B[0;34m\u001B[0m\u001B[0;34m\u001B[0m\u001B[0m\n",
      "\u001B[0;32m/usr/lib/python3.8/dist-packages/transformers/models/auto/configuration_auto.py\u001B[0m in \u001B[0;36mfrom_pretrained\u001B[0;34m(cls, pretrained_model_name_or_path, **kwargs)\u001B[0m\n\u001B[1;32m    350\u001B[0m \u001B[0;34m\u001B[0m\u001B[0m\n\u001B[1;32m    351\u001B[0m         \u001B[0;32mif\u001B[0m \u001B[0;34m\"model_type\"\u001B[0m \u001B[0;32min\u001B[0m \u001B[0mconfig_dict\u001B[0m\u001B[0;34m:\u001B[0m\u001B[0;34m\u001B[0m\u001B[0;34m\u001B[0m\u001B[0m\n\u001B[0;32m--> 352\u001B[0;31m             \u001B[0mconfig_class\u001B[0m \u001B[0;34m=\u001B[0m \u001B[0mCONFIG_MAPPING\u001B[0m\u001B[0;34m[\u001B[0m\u001B[0mconfig_dict\u001B[0m\u001B[0;34m[\u001B[0m\u001B[0;34m\"model_type\"\u001B[0m\u001B[0;34m]\u001B[0m\u001B[0;34m]\u001B[0m\u001B[0;34m\u001B[0m\u001B[0;34m\u001B[0m\u001B[0m\n\u001B[0m\u001B[1;32m    353\u001B[0m             \u001B[0;32mreturn\u001B[0m \u001B[0mconfig_class\u001B[0m\u001B[0;34m.\u001B[0m\u001B[0mfrom_dict\u001B[0m\u001B[0;34m(\u001B[0m\u001B[0mconfig_dict\u001B[0m\u001B[0;34m,\u001B[0m \u001B[0;34m**\u001B[0m\u001B[0mkwargs\u001B[0m\u001B[0;34m)\u001B[0m\u001B[0;34m\u001B[0m\u001B[0;34m\u001B[0m\u001B[0m\n\u001B[1;32m    354\u001B[0m         \u001B[0;32melse\u001B[0m\u001B[0;34m:\u001B[0m\u001B[0;34m\u001B[0m\u001B[0;34m\u001B[0m\u001B[0m\n",
      "\u001B[0;31mKeyError\u001B[0m: 'deberta-v2'"
     ]
    }
   ]
  },
  {
   "cell_type": "code",
   "source": [
    "tokenizer"
   ],
   "metadata": {
    "colab": {
     "base_uri": "https://localhost:8080/"
    },
    "id": "r9gCN1PHWP5I",
    "outputId": "19411653-bfbc-408e-f76d-589c12d22c56",
    "ExecuteTime": {
     "end_time": "2023-08-09T11:02:53.207692300Z",
     "start_time": "2023-08-09T11:02:53.203446100Z"
    }
   },
   "execution_count": 34,
   "outputs": [
    {
     "data": {
      "text/plain": "PreTrainedTokenizerFast(name_or_path='bert-base-cased', vocab_size=28996, model_max_len=512, is_fast=True, padding_side='right', special_tokens={'unk_token': '[UNK]', 'sep_token': '[SEP]', 'pad_token': '[PAD]', 'cls_token': '[CLS]', 'mask_token': '[MASK]'})"
     },
     "execution_count": 34,
     "metadata": {},
     "output_type": "execute_result"
    }
   ]
  },
  {
   "cell_type": "code",
   "source": [
    "from torch.utils.data import Dataset, DataLoader\n",
    "import torch\n",
    "\n",
    "class CommonLitDataset(Dataset):\n",
    "\n",
    "    def __init__(self, data, maxlen, tokenizer, target_cols):\n",
    "        #Store the contents of the file in a pandas dataframe\n",
    "        self.df = data.reset_index()\n",
    "        #Initialize the tokenizer for the desired transformer model\n",
    "        self.tokenizer = tokenizer\n",
    "        #Maximum length of the tokens list to keep all the sequences of fixed size\n",
    "        self.maxlen = maxlen\n",
    "\n",
    "        #list of target columns\n",
    "        self.target_cols = target_cols\n",
    "\n",
    "    def __len__(self):\n",
    "        return self.df.shape[0]\n",
    "\n",
    "    def __getitem__(self, index):\n",
    "        #Select the sentence and label at the specified index in the data frame\n",
    "        text = self.df.loc[index, \"text\"]\n",
    "        prompt_question = self.df.loc[index, \"prompt_question\"]\n",
    "        prompt_title = self.df.loc[index, \"prompt_title\"]\n",
    "        prompt_text = self.df.loc[index, \"prompt_text\"]\n",
    "\n",
    "        full_text = prompt_title+\" \" + self.tokenizer.sep_token +\" \"+ prompt_text+\" \" + self.tokenizer.sep_token +\" \"+ prompt_question+\" \" + self.tokenizer.sep_token +\" \"+ text\n",
    "\n",
    "        #Preprocess the text to be suitable for the transformer\n",
    "        tokens = self.tokenizer.tokenize(full_text)\n",
    "        tokens = ['[CLS]'] + tokens + ['[SEP]']\n",
    "        if len(tokens) < self.maxlen:\n",
    "            tokens = tokens + ['[PAD]' for _ in range(self.maxlen - len(tokens))]\n",
    "        else:\n",
    "            tokens = tokens[:self.maxlen-1] + ['[SEP]']\n",
    "\n",
    "        #Obtain the indices of the tokens in the BERT Vocabulary\n",
    "        input_ids = self.tokenizer.convert_tokens_to_ids(tokens)\n",
    "        input_ids = torch.tensor(input_ids)\n",
    "        #Obtain the attention mask i.e a tensor containing 1s for no padded tokens and 0s for padded ones\n",
    "        attention_mask = (input_ids != 0).long()\n",
    "\n",
    "        try:\n",
    "            target = self.df.loc[index, self.target_cols]\n",
    "        except Exception as e:\n",
    "           raise e\n",
    "\n",
    "        target = torch.tensor(target, dtype=torch.float32)\n",
    "\n",
    "        return input_ids, attention_mask, target"
   ],
   "metadata": {
    "id": "cPh_l0ls5Lli"
   },
   "execution_count": 115,
   "outputs": []
  },
  {
   "cell_type": "code",
   "source": [
    "from sklearn.model_selection import train_test_split\n",
    "\n",
    "train, validation = train_test_split(training_data,  test_size=0.2)\n",
    "print(train.shape, validation.shape)"
   ],
   "metadata": {
    "id": "lgt7Xx9f8CCe",
    "colab": {
     "base_uri": "https://localhost:8080/"
    },
    "outputId": "98562d33-08c5-4e56-cc55-341226181293"
   },
   "execution_count": 116,
   "outputs": [
    {
     "output_type": "stream",
     "name": "stdout",
     "text": [
      "(5732, 7) (1433, 7)\n"
     ]
    }
   ]
  },
  {
   "cell_type": "code",
   "source": [
    "target_cols=[\"content\", \"wording\"]\n",
    "train_set = CommonLitDataset(data=train, maxlen=MAX_LEN, tokenizer=tokenizer, target_cols=target_cols)\n",
    "valid_set = CommonLitDataset(data=validation, maxlen=MAX_LEN, tokenizer=tokenizer, target_cols=target_cols)"
   ],
   "metadata": {
    "id": "UipEMORO-EsR"
   },
   "execution_count": 117,
   "outputs": []
  },
  {
   "cell_type": "code",
   "source": [
    "BATCH_SIZE = 2\n",
    "train_loader = DataLoader(dataset=train_set, batch_size=BATCH_SIZE)\n",
    "valid_loader = DataLoader(dataset=valid_set, batch_size=BATCH_SIZE)"
   ],
   "metadata": {
    "id": "Xe8HLPS_-4ES"
   },
   "execution_count": 118,
   "outputs": []
  },
  {
   "cell_type": "code",
   "source": [
    "#print(len(train_loader))\n",
    "#sample = next(iter(train_loader))\n",
    "#sample"
   ],
   "metadata": {
    "id": "qyabsG4c-4-_"
   },
   "execution_count": 119,
   "outputs": []
  },
  {
   "cell_type": "code",
   "source": [
    "# batch of sentences, all the sentences must be MAX_LEN length because they are padded\n",
    "#sample[0].shape"
   ],
   "metadata": {
    "id": "nzPuE0v3_n_t"
   },
   "execution_count": 120,
   "outputs": []
  },
  {
   "cell_type": "code",
   "source": [
    "# batch of attention masks\n",
    "#sample[1].shape"
   ],
   "metadata": {
    "id": "Er3KcKDhBoRN"
   },
   "execution_count": 121,
   "outputs": []
  },
  {
   "cell_type": "code",
   "source": [
    "#sample[1]"
   ],
   "metadata": {
    "id": "WRC_dkq5Dgjm"
   },
   "execution_count": 122,
   "outputs": []
  },
  {
   "cell_type": "code",
   "source": [
    "# target\n",
    "#sample[2].shape"
   ],
   "metadata": {
    "id": "1aZYP5mPDkM3"
   },
   "execution_count": 123,
   "outputs": []
  },
  {
   "cell_type": "markdown",
   "source": [
    "# PyTorch Model"
   ],
   "metadata": {
    "id": "Jsd741IYD0Z7"
   }
  },
  {
   "cell_type": "code",
   "source": [
    "from torch import nn\n",
    "\n",
    "class RMSELoss(nn.Module):\n",
    "    def __init__(self, eps=1e-6):\n",
    "        super().__init__()\n",
    "        self.mse = nn.MSELoss()\n",
    "        self.eps = eps\n",
    "\n",
    "    def forward(self, yhat, y):\n",
    "        loss = torch.sqrt(self.mse(yhat, y) + self.eps)\n",
    "        return loss\n",
    "\n",
    "\n",
    "class MCRMSELoss(nn.Module):\n",
    "    def __init__(self, num_scored=2):\n",
    "        super().__init__()\n",
    "        self.rmse = RMSELoss()\n",
    "        self.num_scored = num_scored\n",
    "\n",
    "    def forward(self, yhat, y):\n",
    "        score = 0\n",
    "        for i in range(self.num_scored):\n",
    "            score += self.rmse(yhat[:, i], y[:, i]) / self.num_scored\n",
    "\n",
    "        return score"
   ],
   "metadata": {
    "id": "RonzZprGf5XA"
   },
   "execution_count": 124,
   "outputs": []
  },
  {
   "cell_type": "code",
   "source": [
    "import torch.nn as nn\n",
    "import torch.optim as optim\n",
    "import torch.nn.functional as F\n",
    "from transformers import DebertaModel, DebertaPreTrainedModel, TrainingArguments, Trainer\n",
    "\n",
    "class DeBERTaRegressor(DebertaPreTrainedModel):\n",
    "    def __init__(self, config):\n",
    "        super().__init__(config)\n",
    "        self.deberta = AutoModel.from_config(config)\n",
    "        #The output layer that takes the [CLS] representation and gives an output\n",
    "        self.cls_layer1 = nn.Linear(config.hidden_size,128)\n",
    "        self.relu1 = nn.ReLU()\n",
    "        self.ff1 = nn.Linear(128,2)\n",
    "\n",
    "    def forward(self, input_ids, attention_mask):\n",
    "        #Feed the input to Bert model to obtain contextualized representations\n",
    "        outputs = self.deberta(input_ids=input_ids, attention_mask=attention_mask)\n",
    "        #Obtain the representations of [CLS] heads\n",
    "        logits = outputs.last_hidden_state[:,0,:]\n",
    "        output = self.cls_layer1(logits)\n",
    "        output = self.relu1(output)\n",
    "        output = self.ff1(output)\n",
    "        return output"
   ],
   "metadata": {
    "id": "nFChP2YTDovf"
   },
   "execution_count": 125,
   "outputs": []
  },
  {
   "cell_type": "code",
   "source": [
    "def evaluate(model, criterion, dataloader, device):\n",
    "    model.eval()\n",
    "    mean_acc, mean_loss, count = 0, 0, 0\n",
    "\n",
    "    with torch.no_grad():\n",
    "        for input_ids, attention_mask, target in (dataloader):\n",
    "\n",
    "            input_ids, attention_mask, target = input_ids.to(device), attention_mask.to(device), target.to(device)\n",
    "            output = model(input_ids, attention_mask)\n",
    "\n",
    "            mean_loss += criterion(output, target).item()\n",
    "            count += 1\n",
    "\n",
    "    return mean_loss/count"
   ],
   "metadata": {
    "id": "Hr2nt2xxE6yK"
   },
   "execution_count": 126,
   "outputs": []
  },
  {
   "cell_type": "code",
   "source": [
    "def train(model, criterion, optimizer, train_loader, val_loader, epochs, device):\n",
    "    best_acc = 0\n",
    "    for epoch in range(epochs):\n",
    "        model.train()\n",
    "        train_loss = 0\n",
    "        for i, (input_ids, attention_mask, target) in enumerate(iterable=train_loader):\n",
    "            optimizer.zero_grad()\n",
    "\n",
    "            input_ids = input_ids.to(device)\n",
    "            attention_mask = attention_mask.to(device)\n",
    "            target = target.to(device)\n",
    "\n",
    "            output = model(input_ids=input_ids, attention_mask=attention_mask)\n",
    "\n",
    "            loss = criterion(output, target.type_as(output))\n",
    "            loss.backward()\n",
    "            optimizer.step()\n",
    "\n",
    "            train_loss += loss.item()\n",
    "\n",
    "        tl = train_loss/len(train_loader)\n",
    "        val_loss = evaluate(model=model, criterion = criterion, dataloader=val_loader, device=device)\n",
    "        print(f\"Epoch {epoch} - Trainnig Loss: {tl} - Validation Loss : {val_loss}\")"
   ],
   "metadata": {
    "id": "70Y4n6NgE0WN"
   },
   "execution_count": 127,
   "outputs": []
  },
  {
   "cell_type": "code",
   "source": [
    "del model\n",
    "import gc\n",
    "gc.collect()\n"
   ],
   "metadata": {
    "colab": {
     "base_uri": "https://localhost:8080/"
    },
    "id": "FjqUgjNzezsE",
    "outputId": "deb472b4-280b-43a4-9e78-9a861a858459"
   },
   "execution_count": 130,
   "outputs": [
    {
     "output_type": "execute_result",
     "data": {
      "text/plain": [
       "4413"
      ]
     },
     "metadata": {},
     "execution_count": 130
    }
   ]
  },
  {
   "cell_type": "code",
   "source": [
    "LR = 0.001\n",
    "device = \"cuda\" if torch.cuda.is_available() else \"cpu\"\n",
    "model = DeBERTaRegressor(config=config).to(device)\n",
    "\n",
    "OPTIMIZER = optim.Adam(params=model.parameters(), lr=LR)\n",
    "EPOCHS = 5\n",
    "CRITERION = MCRMSELoss()\n",
    "train(model=model,\n",
    "      criterion=CRITERION,\n",
    "      optimizer=OPTIMIZER,\n",
    "      train_loader=train_loader,\n",
    "      val_loader=valid_loader,\n",
    "      epochs = EPOCHS,\n",
    "     device = device)"
   ],
   "metadata": {
    "colab": {
     "base_uri": "https://localhost:8080/",
     "height": 442
    },
    "id": "aaCP17vlFcFr",
    "outputId": "c0798ed3-fcaa-4c1f-d5d0-8f285b7cbea0"
   },
   "execution_count": 129,
   "outputs": [
    {
     "output_type": "error",
     "ename": "RuntimeError",
     "evalue": "ignored",
     "traceback": [
      "\u001B[0;31m---------------------------------------------------------------------------\u001B[0m",
      "\u001B[0;31mRuntimeError\u001B[0m                              Traceback (most recent call last)",
      "\u001B[0;32m<ipython-input-129-27e9285995cf>\u001B[0m in \u001B[0;36m<cell line: 8>\u001B[0;34m()\u001B[0m\n\u001B[1;32m      6\u001B[0m \u001B[0mEPOCHS\u001B[0m \u001B[0;34m=\u001B[0m \u001B[0;36m5\u001B[0m\u001B[0;34m\u001B[0m\u001B[0;34m\u001B[0m\u001B[0m\n\u001B[1;32m      7\u001B[0m \u001B[0mCRITERION\u001B[0m \u001B[0;34m=\u001B[0m \u001B[0mMCRMSELoss\u001B[0m\u001B[0;34m(\u001B[0m\u001B[0;34m)\u001B[0m\u001B[0;34m\u001B[0m\u001B[0;34m\u001B[0m\u001B[0m\n\u001B[0;32m----> 8\u001B[0;31m train(model=model,\n\u001B[0m\u001B[1;32m      9\u001B[0m       \u001B[0mcriterion\u001B[0m\u001B[0;34m=\u001B[0m\u001B[0mCRITERION\u001B[0m\u001B[0;34m,\u001B[0m\u001B[0;34m\u001B[0m\u001B[0;34m\u001B[0m\u001B[0m\n\u001B[1;32m     10\u001B[0m       \u001B[0moptimizer\u001B[0m\u001B[0;34m=\u001B[0m\u001B[0mOPTIMIZER\u001B[0m\u001B[0;34m,\u001B[0m\u001B[0;34m\u001B[0m\u001B[0;34m\u001B[0m\u001B[0m\n",
      "\u001B[0;32m<ipython-input-127-7d01d6bdf10d>\u001B[0m in \u001B[0;36mtrain\u001B[0;34m(model, criterion, optimizer, train_loader, val_loader, epochs, device)\u001B[0m\n\u001B[1;32m      4\u001B[0m         \u001B[0mmodel\u001B[0m\u001B[0;34m.\u001B[0m\u001B[0mtrain\u001B[0m\u001B[0;34m(\u001B[0m\u001B[0;34m)\u001B[0m\u001B[0;34m\u001B[0m\u001B[0;34m\u001B[0m\u001B[0m\n\u001B[1;32m      5\u001B[0m         \u001B[0mtrain_loss\u001B[0m \u001B[0;34m=\u001B[0m \u001B[0;36m0\u001B[0m\u001B[0;34m\u001B[0m\u001B[0;34m\u001B[0m\u001B[0m\n\u001B[0;32m----> 6\u001B[0;31m         \u001B[0;32mfor\u001B[0m \u001B[0mi\u001B[0m\u001B[0;34m,\u001B[0m \u001B[0;34m(\u001B[0m\u001B[0minput_ids\u001B[0m\u001B[0;34m,\u001B[0m \u001B[0mattention_mask\u001B[0m\u001B[0;34m,\u001B[0m \u001B[0mtarget\u001B[0m\u001B[0;34m)\u001B[0m \u001B[0;32min\u001B[0m \u001B[0menumerate\u001B[0m\u001B[0;34m(\u001B[0m\u001B[0miterable\u001B[0m\u001B[0;34m=\u001B[0m\u001B[0mtrain_loader\u001B[0m\u001B[0;34m)\u001B[0m\u001B[0;34m:\u001B[0m\u001B[0;34m\u001B[0m\u001B[0;34m\u001B[0m\u001B[0m\n\u001B[0m\u001B[1;32m      7\u001B[0m             \u001B[0moptimizer\u001B[0m\u001B[0;34m.\u001B[0m\u001B[0mzero_grad\u001B[0m\u001B[0;34m(\u001B[0m\u001B[0;34m)\u001B[0m\u001B[0;34m\u001B[0m\u001B[0;34m\u001B[0m\u001B[0m\n\u001B[1;32m      8\u001B[0m \u001B[0;34m\u001B[0m\u001B[0m\n",
      "\u001B[0;32m/usr/local/lib/python3.10/dist-packages/torch/utils/data/dataloader.py\u001B[0m in \u001B[0;36m__next__\u001B[0;34m(self)\u001B[0m\n\u001B[1;32m    631\u001B[0m                 \u001B[0;31m# TODO(https://github.com/pytorch/pytorch/issues/76750)\u001B[0m\u001B[0;34m\u001B[0m\u001B[0;34m\u001B[0m\u001B[0m\n\u001B[1;32m    632\u001B[0m                 \u001B[0mself\u001B[0m\u001B[0;34m.\u001B[0m\u001B[0m_reset\u001B[0m\u001B[0;34m(\u001B[0m\u001B[0;34m)\u001B[0m  \u001B[0;31m# type: ignore[call-arg]\u001B[0m\u001B[0;34m\u001B[0m\u001B[0;34m\u001B[0m\u001B[0m\n\u001B[0;32m--> 633\u001B[0;31m             \u001B[0mdata\u001B[0m \u001B[0;34m=\u001B[0m \u001B[0mself\u001B[0m\u001B[0;34m.\u001B[0m\u001B[0m_next_data\u001B[0m\u001B[0;34m(\u001B[0m\u001B[0;34m)\u001B[0m\u001B[0;34m\u001B[0m\u001B[0;34m\u001B[0m\u001B[0m\n\u001B[0m\u001B[1;32m    634\u001B[0m             \u001B[0mself\u001B[0m\u001B[0;34m.\u001B[0m\u001B[0m_num_yielded\u001B[0m \u001B[0;34m+=\u001B[0m \u001B[0;36m1\u001B[0m\u001B[0;34m\u001B[0m\u001B[0;34m\u001B[0m\u001B[0m\n\u001B[1;32m    635\u001B[0m             \u001B[0;32mif\u001B[0m \u001B[0mself\u001B[0m\u001B[0;34m.\u001B[0m\u001B[0m_dataset_kind\u001B[0m \u001B[0;34m==\u001B[0m \u001B[0m_DatasetKind\u001B[0m\u001B[0;34m.\u001B[0m\u001B[0mIterable\u001B[0m \u001B[0;32mand\u001B[0m\u001B[0;31m \u001B[0m\u001B[0;31m\\\u001B[0m\u001B[0;34m\u001B[0m\u001B[0;34m\u001B[0m\u001B[0m\n",
      "\u001B[0;32m/usr/local/lib/python3.10/dist-packages/torch/utils/data/dataloader.py\u001B[0m in \u001B[0;36m_next_data\u001B[0;34m(self)\u001B[0m\n\u001B[1;32m    675\u001B[0m     \u001B[0;32mdef\u001B[0m \u001B[0m_next_data\u001B[0m\u001B[0;34m(\u001B[0m\u001B[0mself\u001B[0m\u001B[0;34m)\u001B[0m\u001B[0;34m:\u001B[0m\u001B[0;34m\u001B[0m\u001B[0;34m\u001B[0m\u001B[0m\n\u001B[1;32m    676\u001B[0m         \u001B[0mindex\u001B[0m \u001B[0;34m=\u001B[0m \u001B[0mself\u001B[0m\u001B[0;34m.\u001B[0m\u001B[0m_next_index\u001B[0m\u001B[0;34m(\u001B[0m\u001B[0;34m)\u001B[0m  \u001B[0;31m# may raise StopIteration\u001B[0m\u001B[0;34m\u001B[0m\u001B[0;34m\u001B[0m\u001B[0m\n\u001B[0;32m--> 677\u001B[0;31m         \u001B[0mdata\u001B[0m \u001B[0;34m=\u001B[0m \u001B[0mself\u001B[0m\u001B[0;34m.\u001B[0m\u001B[0m_dataset_fetcher\u001B[0m\u001B[0;34m.\u001B[0m\u001B[0mfetch\u001B[0m\u001B[0;34m(\u001B[0m\u001B[0mindex\u001B[0m\u001B[0;34m)\u001B[0m  \u001B[0;31m# may raise StopIteration\u001B[0m\u001B[0;34m\u001B[0m\u001B[0;34m\u001B[0m\u001B[0m\n\u001B[0m\u001B[1;32m    678\u001B[0m         \u001B[0;32mif\u001B[0m \u001B[0mself\u001B[0m\u001B[0;34m.\u001B[0m\u001B[0m_pin_memory\u001B[0m\u001B[0;34m:\u001B[0m\u001B[0;34m\u001B[0m\u001B[0;34m\u001B[0m\u001B[0m\n\u001B[1;32m    679\u001B[0m             \u001B[0mdata\u001B[0m \u001B[0;34m=\u001B[0m \u001B[0m_utils\u001B[0m\u001B[0;34m.\u001B[0m\u001B[0mpin_memory\u001B[0m\u001B[0;34m.\u001B[0m\u001B[0mpin_memory\u001B[0m\u001B[0;34m(\u001B[0m\u001B[0mdata\u001B[0m\u001B[0;34m,\u001B[0m \u001B[0mself\u001B[0m\u001B[0;34m.\u001B[0m\u001B[0m_pin_memory_device\u001B[0m\u001B[0;34m)\u001B[0m\u001B[0;34m\u001B[0m\u001B[0;34m\u001B[0m\u001B[0m\n",
      "\u001B[0;32m/usr/local/lib/python3.10/dist-packages/torch/utils/data/_utils/fetch.py\u001B[0m in \u001B[0;36mfetch\u001B[0;34m(self, possibly_batched_index)\u001B[0m\n\u001B[1;32m     52\u001B[0m         \u001B[0;32melse\u001B[0m\u001B[0;34m:\u001B[0m\u001B[0;34m\u001B[0m\u001B[0;34m\u001B[0m\u001B[0m\n\u001B[1;32m     53\u001B[0m             \u001B[0mdata\u001B[0m \u001B[0;34m=\u001B[0m \u001B[0mself\u001B[0m\u001B[0;34m.\u001B[0m\u001B[0mdataset\u001B[0m\u001B[0;34m[\u001B[0m\u001B[0mpossibly_batched_index\u001B[0m\u001B[0;34m]\u001B[0m\u001B[0;34m\u001B[0m\u001B[0;34m\u001B[0m\u001B[0m\n\u001B[0;32m---> 54\u001B[0;31m         \u001B[0;32mreturn\u001B[0m \u001B[0mself\u001B[0m\u001B[0;34m.\u001B[0m\u001B[0mcollate_fn\u001B[0m\u001B[0;34m(\u001B[0m\u001B[0mdata\u001B[0m\u001B[0;34m)\u001B[0m\u001B[0;34m\u001B[0m\u001B[0;34m\u001B[0m\u001B[0m\n\u001B[0m",
      "\u001B[0;32m/usr/local/lib/python3.10/dist-packages/torch/utils/data/_utils/collate.py\u001B[0m in \u001B[0;36mdefault_collate\u001B[0;34m(batch)\u001B[0m\n\u001B[1;32m    263\u001B[0m             \u001B[0;34m>>\u001B[0m\u001B[0;34m>\u001B[0m \u001B[0mdefault_collate\u001B[0m\u001B[0;34m(\u001B[0m\u001B[0mbatch\u001B[0m\u001B[0;34m)\u001B[0m  \u001B[0;31m# Handle `CustomType` automatically\u001B[0m\u001B[0;34m\u001B[0m\u001B[0;34m\u001B[0m\u001B[0m\n\u001B[1;32m    264\u001B[0m     \"\"\"\n\u001B[0;32m--> 265\u001B[0;31m     \u001B[0;32mreturn\u001B[0m \u001B[0mcollate\u001B[0m\u001B[0;34m(\u001B[0m\u001B[0mbatch\u001B[0m\u001B[0;34m,\u001B[0m \u001B[0mcollate_fn_map\u001B[0m\u001B[0;34m=\u001B[0m\u001B[0mdefault_collate_fn_map\u001B[0m\u001B[0;34m)\u001B[0m\u001B[0;34m\u001B[0m\u001B[0;34m\u001B[0m\u001B[0m\n\u001B[0m",
      "\u001B[0;32m/usr/local/lib/python3.10/dist-packages/torch/utils/data/_utils/collate.py\u001B[0m in \u001B[0;36mcollate\u001B[0;34m(batch, collate_fn_map)\u001B[0m\n\u001B[1;32m    140\u001B[0m \u001B[0;34m\u001B[0m\u001B[0m\n\u001B[1;32m    141\u001B[0m         \u001B[0;32mif\u001B[0m \u001B[0misinstance\u001B[0m\u001B[0;34m(\u001B[0m\u001B[0melem\u001B[0m\u001B[0;34m,\u001B[0m \u001B[0mtuple\u001B[0m\u001B[0;34m)\u001B[0m\u001B[0;34m:\u001B[0m\u001B[0;34m\u001B[0m\u001B[0;34m\u001B[0m\u001B[0m\n\u001B[0;32m--> 142\u001B[0;31m             \u001B[0;32mreturn\u001B[0m \u001B[0;34m[\u001B[0m\u001B[0mcollate\u001B[0m\u001B[0;34m(\u001B[0m\u001B[0msamples\u001B[0m\u001B[0;34m,\u001B[0m \u001B[0mcollate_fn_map\u001B[0m\u001B[0;34m=\u001B[0m\u001B[0mcollate_fn_map\u001B[0m\u001B[0;34m)\u001B[0m \u001B[0;32mfor\u001B[0m \u001B[0msamples\u001B[0m \u001B[0;32min\u001B[0m \u001B[0mtransposed\u001B[0m\u001B[0;34m]\u001B[0m  \u001B[0;31m# Backwards compatibility.\u001B[0m\u001B[0;34m\u001B[0m\u001B[0;34m\u001B[0m\u001B[0m\n\u001B[0m\u001B[1;32m    143\u001B[0m         \u001B[0;32melse\u001B[0m\u001B[0;34m:\u001B[0m\u001B[0;34m\u001B[0m\u001B[0;34m\u001B[0m\u001B[0m\n\u001B[1;32m    144\u001B[0m             \u001B[0;32mtry\u001B[0m\u001B[0;34m:\u001B[0m\u001B[0;34m\u001B[0m\u001B[0;34m\u001B[0m\u001B[0m\n",
      "\u001B[0;32m/usr/local/lib/python3.10/dist-packages/torch/utils/data/_utils/collate.py\u001B[0m in \u001B[0;36m<listcomp>\u001B[0;34m(.0)\u001B[0m\n\u001B[1;32m    140\u001B[0m \u001B[0;34m\u001B[0m\u001B[0m\n\u001B[1;32m    141\u001B[0m         \u001B[0;32mif\u001B[0m \u001B[0misinstance\u001B[0m\u001B[0;34m(\u001B[0m\u001B[0melem\u001B[0m\u001B[0;34m,\u001B[0m \u001B[0mtuple\u001B[0m\u001B[0;34m)\u001B[0m\u001B[0;34m:\u001B[0m\u001B[0;34m\u001B[0m\u001B[0;34m\u001B[0m\u001B[0m\n\u001B[0;32m--> 142\u001B[0;31m             \u001B[0;32mreturn\u001B[0m \u001B[0;34m[\u001B[0m\u001B[0mcollate\u001B[0m\u001B[0;34m(\u001B[0m\u001B[0msamples\u001B[0m\u001B[0;34m,\u001B[0m \u001B[0mcollate_fn_map\u001B[0m\u001B[0;34m=\u001B[0m\u001B[0mcollate_fn_map\u001B[0m\u001B[0;34m)\u001B[0m \u001B[0;32mfor\u001B[0m \u001B[0msamples\u001B[0m \u001B[0;32min\u001B[0m \u001B[0mtransposed\u001B[0m\u001B[0;34m]\u001B[0m  \u001B[0;31m# Backwards compatibility.\u001B[0m\u001B[0;34m\u001B[0m\u001B[0;34m\u001B[0m\u001B[0m\n\u001B[0m\u001B[1;32m    143\u001B[0m         \u001B[0;32melse\u001B[0m\u001B[0;34m:\u001B[0m\u001B[0;34m\u001B[0m\u001B[0;34m\u001B[0m\u001B[0m\n\u001B[1;32m    144\u001B[0m             \u001B[0;32mtry\u001B[0m\u001B[0;34m:\u001B[0m\u001B[0;34m\u001B[0m\u001B[0;34m\u001B[0m\u001B[0m\n",
      "\u001B[0;32m/usr/local/lib/python3.10/dist-packages/torch/utils/data/_utils/collate.py\u001B[0m in \u001B[0;36mcollate\u001B[0;34m(batch, collate_fn_map)\u001B[0m\n\u001B[1;32m    117\u001B[0m     \u001B[0;32mif\u001B[0m \u001B[0mcollate_fn_map\u001B[0m \u001B[0;32mis\u001B[0m \u001B[0;32mnot\u001B[0m \u001B[0;32mNone\u001B[0m\u001B[0;34m:\u001B[0m\u001B[0;34m\u001B[0m\u001B[0;34m\u001B[0m\u001B[0m\n\u001B[1;32m    118\u001B[0m         \u001B[0;32mif\u001B[0m \u001B[0melem_type\u001B[0m \u001B[0;32min\u001B[0m \u001B[0mcollate_fn_map\u001B[0m\u001B[0;34m:\u001B[0m\u001B[0;34m\u001B[0m\u001B[0;34m\u001B[0m\u001B[0m\n\u001B[0;32m--> 119\u001B[0;31m             \u001B[0;32mreturn\u001B[0m \u001B[0mcollate_fn_map\u001B[0m\u001B[0;34m[\u001B[0m\u001B[0melem_type\u001B[0m\u001B[0;34m]\u001B[0m\u001B[0;34m(\u001B[0m\u001B[0mbatch\u001B[0m\u001B[0;34m,\u001B[0m \u001B[0mcollate_fn_map\u001B[0m\u001B[0;34m=\u001B[0m\u001B[0mcollate_fn_map\u001B[0m\u001B[0;34m)\u001B[0m\u001B[0;34m\u001B[0m\u001B[0;34m\u001B[0m\u001B[0m\n\u001B[0m\u001B[1;32m    120\u001B[0m \u001B[0;34m\u001B[0m\u001B[0m\n\u001B[1;32m    121\u001B[0m         \u001B[0;32mfor\u001B[0m \u001B[0mcollate_type\u001B[0m \u001B[0;32min\u001B[0m \u001B[0mcollate_fn_map\u001B[0m\u001B[0;34m:\u001B[0m\u001B[0;34m\u001B[0m\u001B[0;34m\u001B[0m\u001B[0m\n",
      "\u001B[0;32m/usr/local/lib/python3.10/dist-packages/torch/utils/data/_utils/collate.py\u001B[0m in \u001B[0;36mcollate_tensor_fn\u001B[0;34m(batch, collate_fn_map)\u001B[0m\n\u001B[1;32m    160\u001B[0m         \u001B[0mstorage\u001B[0m \u001B[0;34m=\u001B[0m \u001B[0melem\u001B[0m\u001B[0;34m.\u001B[0m\u001B[0m_typed_storage\u001B[0m\u001B[0;34m(\u001B[0m\u001B[0;34m)\u001B[0m\u001B[0;34m.\u001B[0m\u001B[0m_new_shared\u001B[0m\u001B[0;34m(\u001B[0m\u001B[0mnumel\u001B[0m\u001B[0;34m,\u001B[0m \u001B[0mdevice\u001B[0m\u001B[0;34m=\u001B[0m\u001B[0melem\u001B[0m\u001B[0;34m.\u001B[0m\u001B[0mdevice\u001B[0m\u001B[0;34m)\u001B[0m\u001B[0;34m\u001B[0m\u001B[0;34m\u001B[0m\u001B[0m\n\u001B[1;32m    161\u001B[0m         \u001B[0mout\u001B[0m \u001B[0;34m=\u001B[0m \u001B[0melem\u001B[0m\u001B[0;34m.\u001B[0m\u001B[0mnew\u001B[0m\u001B[0;34m(\u001B[0m\u001B[0mstorage\u001B[0m\u001B[0;34m)\u001B[0m\u001B[0;34m.\u001B[0m\u001B[0mresize_\u001B[0m\u001B[0;34m(\u001B[0m\u001B[0mlen\u001B[0m\u001B[0;34m(\u001B[0m\u001B[0mbatch\u001B[0m\u001B[0;34m)\u001B[0m\u001B[0;34m,\u001B[0m \u001B[0;34m*\u001B[0m\u001B[0mlist\u001B[0m\u001B[0;34m(\u001B[0m\u001B[0melem\u001B[0m\u001B[0;34m.\u001B[0m\u001B[0msize\u001B[0m\u001B[0;34m(\u001B[0m\u001B[0;34m)\u001B[0m\u001B[0;34m)\u001B[0m\u001B[0;34m)\u001B[0m\u001B[0;34m\u001B[0m\u001B[0;34m\u001B[0m\u001B[0m\n\u001B[0;32m--> 162\u001B[0;31m     \u001B[0;32mreturn\u001B[0m \u001B[0mtorch\u001B[0m\u001B[0;34m.\u001B[0m\u001B[0mstack\u001B[0m\u001B[0;34m(\u001B[0m\u001B[0mbatch\u001B[0m\u001B[0;34m,\u001B[0m \u001B[0;36m0\u001B[0m\u001B[0;34m,\u001B[0m \u001B[0mout\u001B[0m\u001B[0;34m=\u001B[0m\u001B[0mout\u001B[0m\u001B[0;34m)\u001B[0m\u001B[0;34m\u001B[0m\u001B[0;34m\u001B[0m\u001B[0m\n\u001B[0m\u001B[1;32m    163\u001B[0m \u001B[0;34m\u001B[0m\u001B[0m\n\u001B[1;32m    164\u001B[0m \u001B[0;34m\u001B[0m\u001B[0m\n",
      "\u001B[0;31mRuntimeError\u001B[0m: stack expects each tensor to be equal size, but got [965] at entry 0 and [950] at entry 1"
     ]
    }
   ]
  },
  {
   "cell_type": "code",
   "source": [],
   "metadata": {
    "id": "ELqycb72evCx"
   },
   "execution_count": null,
   "outputs": []
  },
  {
   "cell_type": "code",
   "source": [
    "from sklearn.metrics import mean_squared_error\n",
    "\n",
    "def compute_metrics(eval_pred):\n",
    "  predictions, labels = eval_pred\n",
    "  rmse = mean_squared_error(labels, predictions, squared=False)\n",
    "  return {\"rmse\":rmse}"
   ],
   "metadata": {
    "id": "KhrlNZoat7uW"
   },
   "execution_count": null,
   "outputs": []
  },
  {
   "cell_type": "code",
   "source": [
    "!pip install accelerate -U"
   ],
   "metadata": {
    "colab": {
     "base_uri": "https://localhost:8080/"
    },
    "id": "6mvcLTvTvo1o",
    "outputId": "4f7c0747-b56e-4a97-e612-39b1ea7f5f3a"
   },
   "execution_count": null,
   "outputs": [
    {
     "output_type": "stream",
     "name": "stdout",
     "text": [
      "Collecting accelerate\n",
      "  Downloading accelerate-0.21.0-py3-none-any.whl (244 kB)\n",
      "\u001B[2K     \u001B[90m━━━━━━━━━━━━━━━━━━━━━━━━━━━━━━━━━━━━━━━\u001B[0m \u001B[32m244.2/244.2 kB\u001B[0m \u001B[31m4.6 MB/s\u001B[0m eta \u001B[36m0:00:00\u001B[0m\n",
      "\u001B[?25hRequirement already satisfied: numpy>=1.17 in /usr/local/lib/python3.10/dist-packages (from accelerate) (1.22.4)\n",
      "Requirement already satisfied: packaging>=20.0 in /usr/local/lib/python3.10/dist-packages (from accelerate) (23.1)\n",
      "Requirement already satisfied: psutil in /usr/local/lib/python3.10/dist-packages (from accelerate) (5.9.5)\n",
      "Requirement already satisfied: pyyaml in /usr/local/lib/python3.10/dist-packages (from accelerate) (6.0.1)\n",
      "Requirement already satisfied: torch>=1.10.0 in /usr/local/lib/python3.10/dist-packages (from accelerate) (2.0.1+cu118)\n",
      "Requirement already satisfied: filelock in /usr/local/lib/python3.10/dist-packages (from torch>=1.10.0->accelerate) (3.12.2)\n",
      "Requirement already satisfied: typing-extensions in /usr/local/lib/python3.10/dist-packages (from torch>=1.10.0->accelerate) (4.7.1)\n",
      "Requirement already satisfied: sympy in /usr/local/lib/python3.10/dist-packages (from torch>=1.10.0->accelerate) (1.11.1)\n",
      "Requirement already satisfied: networkx in /usr/local/lib/python3.10/dist-packages (from torch>=1.10.0->accelerate) (3.1)\n",
      "Requirement already satisfied: jinja2 in /usr/local/lib/python3.10/dist-packages (from torch>=1.10.0->accelerate) (3.1.2)\n",
      "Requirement already satisfied: triton==2.0.0 in /usr/local/lib/python3.10/dist-packages (from torch>=1.10.0->accelerate) (2.0.0)\n",
      "Requirement already satisfied: cmake in /usr/local/lib/python3.10/dist-packages (from triton==2.0.0->torch>=1.10.0->accelerate) (3.25.2)\n",
      "Requirement already satisfied: lit in /usr/local/lib/python3.10/dist-packages (from triton==2.0.0->torch>=1.10.0->accelerate) (16.0.6)\n",
      "Requirement already satisfied: MarkupSafe>=2.0 in /usr/local/lib/python3.10/dist-packages (from jinja2->torch>=1.10.0->accelerate) (2.1.3)\n",
      "Requirement already satisfied: mpmath>=0.19 in /usr/local/lib/python3.10/dist-packages (from sympy->torch>=1.10.0->accelerate) (1.3.0)\n",
      "Installing collected packages: accelerate\n",
      "Successfully installed accelerate-0.21.0\n"
     ]
    }
   ]
  },
  {
   "cell_type": "code",
   "source": [
    "training_args = TrainingArguments(per_device_eval_batch_size=32,\n",
    "                                  per_device_train_batch_size=32,\n",
    "                                  num_train_epochs=5,\n",
    "                                  evaluation_strategy = \"steps\",\n",
    "                                  output_dir='/content/',\n",
    "                                  gradient_accumulation_steps=4)\n",
    "\n",
    "device = \"cuda\" if torch.cuda.is_available() else \"cpu\"\n",
    "model = DeBERTaRegressor(config=config).to(device)\n",
    "\n",
    "\n",
    "trainer = Trainer(model=model, args=training_args, train_dataset=train_loader, eval_dataset=valid_loader,\n",
    "                  compute_metrics=compute_metrics)\n",
    "result = trainer.train()\n",
    "result"
   ],
   "metadata": {
    "colab": {
     "base_uri": "https://localhost:8080/",
     "height": 546
    },
    "id": "LQc-HWYMtFQj",
    "outputId": "69f3768f-7c25-488b-8609-b38383ca508c"
   },
   "execution_count": null,
   "outputs": [
    {
     "output_type": "error",
     "ename": "ImportError",
     "evalue": "ignored",
     "traceback": [
      "\u001B[0;31m---------------------------------------------------------------------------\u001B[0m",
      "\u001B[0;31mImportError\u001B[0m                               Traceback (most recent call last)",
      "\u001B[0;32m<ipython-input-44-fa3f1c0aec5a>\u001B[0m in \u001B[0;36m<cell line: 1>\u001B[0;34m()\u001B[0m\n\u001B[0;32m----> 1\u001B[0;31m training_args = TrainingArguments(per_device_eval_batch_size=32,\n\u001B[0m\u001B[1;32m      2\u001B[0m                                   \u001B[0mper_device_train_batch_size\u001B[0m\u001B[0;34m=\u001B[0m\u001B[0;36m32\u001B[0m\u001B[0;34m,\u001B[0m\u001B[0;34m\u001B[0m\u001B[0;34m\u001B[0m\u001B[0m\n\u001B[1;32m      3\u001B[0m                                   \u001B[0mnum_train_epochs\u001B[0m\u001B[0;34m=\u001B[0m\u001B[0;36m5\u001B[0m\u001B[0;34m,\u001B[0m\u001B[0;34m\u001B[0m\u001B[0;34m\u001B[0m\u001B[0m\n\u001B[1;32m      4\u001B[0m                                   \u001B[0mevaluation_strategy\u001B[0m \u001B[0;34m=\u001B[0m \u001B[0;34m\"steps\"\u001B[0m\u001B[0;34m,\u001B[0m\u001B[0;34m\u001B[0m\u001B[0;34m\u001B[0m\u001B[0m\n\u001B[1;32m      5\u001B[0m                                   \u001B[0moutput_dir\u001B[0m\u001B[0;34m=\u001B[0m\u001B[0;34m'/content/'\u001B[0m\u001B[0;34m,\u001B[0m\u001B[0;34m\u001B[0m\u001B[0;34m\u001B[0m\u001B[0m\n",
      "\u001B[0;32m/usr/local/lib/python3.10/dist-packages/transformers/training_args.py\u001B[0m in \u001B[0;36m__init__\u001B[0;34m(self, output_dir, overwrite_output_dir, do_train, do_eval, do_predict, evaluation_strategy, prediction_loss_only, per_device_train_batch_size, per_device_eval_batch_size, per_gpu_train_batch_size, per_gpu_eval_batch_size, gradient_accumulation_steps, eval_accumulation_steps, eval_delay, learning_rate, weight_decay, adam_beta1, adam_beta2, adam_epsilon, max_grad_norm, num_train_epochs, max_steps, lr_scheduler_type, warmup_ratio, warmup_steps, log_level, log_level_replica, log_on_each_node, logging_dir, logging_strategy, logging_first_step, logging_steps, logging_nan_inf_filter, save_strategy, save_steps, save_total_limit, save_safetensors, save_on_each_node, no_cuda, use_mps_device, seed, data_seed, jit_mode_eval, use_ipex, bf16, fp16, fp16_opt_level, half_precision_backend, bf16_full_eval, fp16_full_eval, tf32, local_rank, ddp_backend, tpu_num_cores, tpu_metrics_debug, debug, dataloader_drop_last, eval_steps, dataloader_num_workers, past_index, run_name, disable_tqdm, remove_unused_columns, label_names, load_best_model_at_end, metric_for_best_model, greater_is_better, ignore_data_skip, sharded_ddp, fsdp, fsdp_min_num_params, fsdp_config, fsdp_transformer_layer_cls_to_wrap, deepspeed, label_smoothing_factor, optim, optim_args, adafactor, group_by_length, length_column_name, report_to, ddp_find_unused_parameters, ddp_bucket_cap_mb, ddp_broadcast_buffers, dataloader_pin_...\n",
      "\u001B[0;32m/usr/local/lib/python3.10/dist-packages/transformers/training_args.py\u001B[0m in \u001B[0;36m__post_init__\u001B[0;34m(self)\u001B[0m\n\u001B[1;32m   1370\u001B[0m             \u001B[0mself\u001B[0m\u001B[0;34m.\u001B[0m\u001B[0mframework\u001B[0m \u001B[0;34m==\u001B[0m \u001B[0;34m\"pt\"\u001B[0m\u001B[0;34m\u001B[0m\u001B[0;34m\u001B[0m\u001B[0m\n\u001B[1;32m   1371\u001B[0m             \u001B[0;32mand\u001B[0m \u001B[0mis_torch_available\u001B[0m\u001B[0;34m(\u001B[0m\u001B[0;34m)\u001B[0m\u001B[0;34m\u001B[0m\u001B[0;34m\u001B[0m\u001B[0m\n\u001B[0;32m-> 1372\u001B[0;31m             \u001B[0;32mand\u001B[0m \u001B[0;34m(\u001B[0m\u001B[0mself\u001B[0m\u001B[0;34m.\u001B[0m\u001B[0mdevice\u001B[0m\u001B[0;34m.\u001B[0m\u001B[0mtype\u001B[0m \u001B[0;34m!=\u001B[0m \u001B[0;34m\"cuda\"\u001B[0m\u001B[0;34m)\u001B[0m\u001B[0;34m\u001B[0m\u001B[0;34m\u001B[0m\u001B[0m\n\u001B[0m\u001B[1;32m   1373\u001B[0m             \u001B[0;32mand\u001B[0m \u001B[0;34m(\u001B[0m\u001B[0mget_xla_device_type\u001B[0m\u001B[0;34m(\u001B[0m\u001B[0mself\u001B[0m\u001B[0;34m.\u001B[0m\u001B[0mdevice\u001B[0m\u001B[0;34m)\u001B[0m \u001B[0;34m!=\u001B[0m \u001B[0;34m\"GPU\"\u001B[0m\u001B[0;34m)\u001B[0m\u001B[0;34m\u001B[0m\u001B[0;34m\u001B[0m\u001B[0m\n\u001B[1;32m   1374\u001B[0m             \u001B[0;32mand\u001B[0m \u001B[0;34m(\u001B[0m\u001B[0mself\u001B[0m\u001B[0;34m.\u001B[0m\u001B[0mfp16\u001B[0m \u001B[0;32mor\u001B[0m \u001B[0mself\u001B[0m\u001B[0;34m.\u001B[0m\u001B[0mfp16_full_eval\u001B[0m\u001B[0;34m)\u001B[0m\u001B[0;34m\u001B[0m\u001B[0;34m\u001B[0m\u001B[0m\n",
      "\u001B[0;32m/usr/local/lib/python3.10/dist-packages/transformers/training_args.py\u001B[0m in \u001B[0;36mdevice\u001B[0;34m(self)\u001B[0m\n\u001B[1;32m   1793\u001B[0m         \"\"\"\n\u001B[1;32m   1794\u001B[0m         \u001B[0mrequires_backends\u001B[0m\u001B[0;34m(\u001B[0m\u001B[0mself\u001B[0m\u001B[0;34m,\u001B[0m \u001B[0;34m[\u001B[0m\u001B[0;34m\"torch\"\u001B[0m\u001B[0;34m]\u001B[0m\u001B[0;34m)\u001B[0m\u001B[0;34m\u001B[0m\u001B[0;34m\u001B[0m\u001B[0m\n\u001B[0;32m-> 1795\u001B[0;31m         \u001B[0;32mreturn\u001B[0m \u001B[0mself\u001B[0m\u001B[0;34m.\u001B[0m\u001B[0m_setup_devices\u001B[0m\u001B[0;34m\u001B[0m\u001B[0;34m\u001B[0m\u001B[0m\n\u001B[0m\u001B[1;32m   1796\u001B[0m \u001B[0;34m\u001B[0m\u001B[0m\n\u001B[1;32m   1797\u001B[0m     \u001B[0;34m@\u001B[0m\u001B[0mproperty\u001B[0m\u001B[0;34m\u001B[0m\u001B[0;34m\u001B[0m\u001B[0m\n",
      "\u001B[0;32m/usr/local/lib/python3.10/dist-packages/transformers/utils/generic.py\u001B[0m in \u001B[0;36m__get__\u001B[0;34m(self, obj, objtype)\u001B[0m\n\u001B[1;32m     52\u001B[0m         \u001B[0mcached\u001B[0m \u001B[0;34m=\u001B[0m \u001B[0mgetattr\u001B[0m\u001B[0;34m(\u001B[0m\u001B[0mobj\u001B[0m\u001B[0;34m,\u001B[0m \u001B[0mattr\u001B[0m\u001B[0;34m,\u001B[0m \u001B[0;32mNone\u001B[0m\u001B[0;34m)\u001B[0m\u001B[0;34m\u001B[0m\u001B[0;34m\u001B[0m\u001B[0m\n\u001B[1;32m     53\u001B[0m         \u001B[0;32mif\u001B[0m \u001B[0mcached\u001B[0m \u001B[0;32mis\u001B[0m \u001B[0;32mNone\u001B[0m\u001B[0;34m:\u001B[0m\u001B[0;34m\u001B[0m\u001B[0;34m\u001B[0m\u001B[0m\n\u001B[0;32m---> 54\u001B[0;31m             \u001B[0mcached\u001B[0m \u001B[0;34m=\u001B[0m \u001B[0mself\u001B[0m\u001B[0;34m.\u001B[0m\u001B[0mfget\u001B[0m\u001B[0;34m(\u001B[0m\u001B[0mobj\u001B[0m\u001B[0;34m)\u001B[0m\u001B[0;34m\u001B[0m\u001B[0;34m\u001B[0m\u001B[0m\n\u001B[0m\u001B[1;32m     55\u001B[0m             \u001B[0msetattr\u001B[0m\u001B[0;34m(\u001B[0m\u001B[0mobj\u001B[0m\u001B[0;34m,\u001B[0m \u001B[0mattr\u001B[0m\u001B[0;34m,\u001B[0m \u001B[0mcached\u001B[0m\u001B[0;34m)\u001B[0m\u001B[0;34m\u001B[0m\u001B[0;34m\u001B[0m\u001B[0m\n\u001B[1;32m     56\u001B[0m         \u001B[0;32mreturn\u001B[0m \u001B[0mcached\u001B[0m\u001B[0;34m\u001B[0m\u001B[0;34m\u001B[0m\u001B[0m\n",
      "\u001B[0;32m/usr/local/lib/python3.10/dist-packages/transformers/training_args.py\u001B[0m in \u001B[0;36m_setup_devices\u001B[0;34m(self)\u001B[0m\n\u001B[1;32m   1714\u001B[0m         \u001B[0;32mif\u001B[0m \u001B[0;32mnot\u001B[0m \u001B[0mis_sagemaker_mp_enabled\u001B[0m\u001B[0;34m(\u001B[0m\u001B[0;34m)\u001B[0m\u001B[0;34m:\u001B[0m\u001B[0;34m\u001B[0m\u001B[0;34m\u001B[0m\u001B[0m\n\u001B[1;32m   1715\u001B[0m             \u001B[0;32mif\u001B[0m \u001B[0;32mnot\u001B[0m \u001B[0mis_accelerate_available\u001B[0m\u001B[0;34m(\u001B[0m\u001B[0mmin_version\u001B[0m\u001B[0;34m=\u001B[0m\u001B[0;34m\"0.20.1\"\u001B[0m\u001B[0;34m)\u001B[0m\u001B[0;34m:\u001B[0m\u001B[0;34m\u001B[0m\u001B[0;34m\u001B[0m\u001B[0m\n\u001B[0;32m-> 1716\u001B[0;31m                 raise ImportError(\n\u001B[0m\u001B[1;32m   1717\u001B[0m                     \u001B[0;34m\"Using the `Trainer` with `PyTorch` requires `accelerate>=0.20.1`: Please run `pip install transformers[torch]` or `pip install accelerate -U`\"\u001B[0m\u001B[0;34m\u001B[0m\u001B[0;34m\u001B[0m\u001B[0m\n\u001B[1;32m   1718\u001B[0m                 )\n",
      "\u001B[0;31mImportError\u001B[0m: Using the `Trainer` with `PyTorch` requires `accelerate>=0.20.1`: Please run `pip install transformers[torch]` or `pip install accelerate -U`",
      "",
      "\u001B[0;31m---------------------------------------------------------------------------\u001B[0;32m\nNOTE: If your import is failing due to a missing package, you can\nmanually install dependencies using either !pip or !apt.\n\nTo view examples of installing some common dependencies, click the\n\"Open Examples\" button below.\n\u001B[0;31m---------------------------------------------------------------------------\u001B[0m\n"
     ],
     "errorDetails": {
      "actions": [
       {
        "action": "open_url",
        "actionText": "Open Examples",
        "url": "/notebooks/snippets/importing_libraries.ipynb"
       }
      ]
     }
    }
   ]
  }
 ]
}
